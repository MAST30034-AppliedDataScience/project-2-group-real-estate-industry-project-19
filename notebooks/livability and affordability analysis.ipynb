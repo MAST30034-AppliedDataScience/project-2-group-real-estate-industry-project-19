{
 "cells": [
  {
   "cell_type": "code",
   "execution_count": 6,
   "metadata": {},
   "outputs": [
    {
     "name": "stdout",
     "output_type": "stream",
     "text": [
      "       Suburb  has_train_station\n",
      "0  Mordialloc                  1\n",
      "1   Doncaster                  0\n",
      "2  Noble Park                  1\n",
      "3      Albion                  1\n",
      "4    Sunshine                  1\n"
     ]
    }
   ],
   "source": [
    "import pandas as pd\n",
    "import geopandas as gpd\n",
    "\n",
    "# File paths\n",
    "rental_data_path = '/home/Daniel Bi/project two/data/landing/rental_merged.csv'\n",
    "train_station_shapefile_path = '/home/Daniel Bi/project two/data/landing/PTV_train_station/PTV/PTV_METRO_TRAIN_STATION.shp'\n",
    "\n",
    "# Step 1: Load the rental data\n",
    "rental_df = pd.read_csv(rental_data_path)\n",
    "\n",
    "# Step 2: Load the train station data from shapefile\n",
    "train_station_gdf = gpd.read_file(train_station_shapefile_path)\n",
    "\n",
    "# Step 3: Clean the train station names by removing \"Railway Station\" or \"Station\"\n",
    "def clean_station_name(station_name):\n",
    "    cleaned = station_name.replace(\"Railway Station\", \"\").replace(\"Station\", \"\").strip()\n",
    "    return cleaned\n",
    "\n",
    "train_station_gdf['Cleaned_Station_Name'] = train_station_gdf['STOP_NAME'].apply(clean_station_name)\n",
    "\n",
    "# Step 4: Ensure both train station and rental data suburbs are in lowercase for matching, without modifying original columns\n",
    "train_station_gdf['Cleaned_Station_Name'] = train_station_gdf['Cleaned_Station_Name'].str.lower()\n",
    "\n",
    "# Step 5: Create a function to check if any train station belongs to the suburb\n",
    "def has_train_station(suburb, train_station_names):\n",
    "    # Make sure the suburb is lowercase for matching purposes, without altering the original column\n",
    "    suburb_lower = suburb.lower()\n",
    "    return any(suburb_lower in station for station in train_station_names)\n",
    "\n",
    "# Apply the function to add the 'has_train_station' column\n",
    "train_station_names = train_station_gdf['Cleaned_Station_Name'].tolist()\n",
    "rental_df['has_train_station'] = rental_df['Suburb'].apply(lambda x: 1 if has_train_station(x, train_station_names) else 0)\n",
    "\n",
    "# Step 6: Save the updated rental data back to 'rental_merged.csv'\n",
    "output_path = '/home/Daniel Bi/project two/data/landing/rental_merged.csv'\n",
    "rental_df.to_csv(output_path, index=False)\n",
    "\n",
    "# Display the first few rows to confirm the addition of the new feature\n",
    "print(rental_df[['Suburb', 'has_train_station']].head())\n",
    "\n",
    "\n"
   ]
  }
 ],
 "metadata": {
  "kernelspec": {
   "display_name": "Python 3",
   "language": "python",
   "name": "python3"
  },
  "language_info": {
   "codemirror_mode": {
    "name": "ipython",
    "version": 3
   },
   "file_extension": ".py",
   "mimetype": "text/x-python",
   "name": "python",
   "nbconvert_exporter": "python",
   "pygments_lexer": "ipython3",
   "version": "3.10.12"
  }
 },
 "nbformat": 4,
 "nbformat_minor": 2
}
