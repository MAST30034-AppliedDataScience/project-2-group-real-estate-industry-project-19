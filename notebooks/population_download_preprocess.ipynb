{
 "cells": [
  {
   "cell_type": "code",
   "execution_count": 1,
   "metadata": {},
   "outputs": [
    {
     "data": {
      "text/plain": [
       "('../data/landing/population.xlsx',\n",
       " <http.client.HTTPMessage at 0x7f5a026208d0>)"
      ]
     },
     "execution_count": 1,
     "metadata": {},
     "output_type": "execute_result"
    }
   ],
   "source": [
    "from urllib.request import urlretrieve\n",
    "\n",
    "url=\"https://www.abs.gov.au/statistics/people/population/regional-population/2022-23/32180DS0005_2021-23.xlsx\"\n",
    "download_location=\"../data/landing/population.xlsx\"\n",
    "\n",
    "urlretrieve(url, download_location)"
   ]
  },
  {
   "cell_type": "code",
   "execution_count": 2,
   "metadata": {},
   "outputs": [],
   "source": [
    "import pandas\n",
    "\n",
    "download_location=\"../data/landing/population.xlsx\"\n",
    "sheet_names=[\"Table 1\"]\n",
    "skip_rows=range(6)\n",
    "headers=[6]\n",
    "df=pandas.read_excel(download_location, sheet_name=sheet_names[0], header=headers)\n",
    "\n",
    "df_header = pandas.read_excel(download_location, sheet_name=sheet_names[0], header=[5])\n",
    "headers=df_header.columns[8:]\n",
    "\n",
    "df.rename(columns={'no.': headers[0]}, inplace=True)\n",
    "for i in range(1, 18):\n",
    "    df.rename(columns={f'no..{i}': headers[i]}, inplace=True)\n",
    "\n",
    "\n",
    "df = df.iloc[:-2]"
   ]
  },
  {
   "cell_type": "code",
   "execution_count": 3,
   "metadata": {},
   "outputs": [
    {
     "name": "stderr",
     "output_type": "stream",
     "text": [
      "/tmp/ipykernel_13787/870233397.py:3: SettingWithCopyWarning: \n",
      "A value is trying to be set on a copy of a slice from a DataFrame.\n",
      "Try using .loc[row_indexer,col_indexer] = value instead\n",
      "\n",
      "See the caveats in the documentation: https://pandas.pydata.org/pandas-docs/stable/user_guide/indexing.html#returning-a-view-versus-a-copy\n",
      "  df_filtered['Net population change'] = df_filtered['Births'] - df_filtered['Deaths'] + df_filtered['Net internal migration'] + df_filtered['Net overseas migration']\n",
      "/tmp/ipykernel_13787/870233397.py:5: SettingWithCopyWarning: \n",
      "A value is trying to be set on a copy of a slice from a DataFrame.\n",
      "Try using .loc[row_indexer,col_indexer] = value instead\n",
      "\n",
      "See the caveats in the documentation: https://pandas.pydata.org/pandas-docs/stable/user_guide/indexing.html#returning-a-view-versus-a-copy\n",
      "  df_filtered['SA2 code'] = df_filtered['SA2 code'].astype(int)\n"
     ]
    }
   ],
   "source": [
    "df_filtered=(df[(df['GCCSA name'] == \"Greater Melbourne\") | (df['GCCSA name'] == \"Rest of Vic.\")])\n",
    "\n",
    "df_filtered['Net population change'] = df_filtered['Births'] - df_filtered['Deaths'] + df_filtered['Net internal migration'] + df_filtered['Net overseas migration']\n",
    "\n",
    "df_filtered['SA2 code'] = df_filtered['SA2 code'].astype(int)\n",
    "\n",
    "df_filtered=df_filtered[['SA2 code','SA2 name','Net population change']]\n",
    "\n",
    "file_address='../data/raw/population.csv'\n",
    "df_filtered.to_csv(file_address, index=False)\n"
   ]
  },
  {
   "cell_type": "code",
   "execution_count": 4,
   "metadata": {},
   "outputs": [],
   "source": [
    "df_filtered=df_filtered[['SA2 code','SA2 name']]\n",
    "file_address='../data/raw/sa2_code_name.csv'\n",
    "df_filtered.to_csv(file_address, index=False)"
   ]
  }
 ],
 "metadata": {
  "kernelspec": {
   "display_name": ".venv",
   "language": "python",
   "name": "python3"
  },
  "language_info": {
   "codemirror_mode": {
    "name": "ipython",
    "version": 3
   },
   "file_extension": ".py",
   "mimetype": "text/x-python",
   "name": "python",
   "nbconvert_exporter": "python",
   "pygments_lexer": "ipython3",
   "version": "3.11.0"
  }
 },
 "nbformat": 4,
 "nbformat_minor": 2
}
