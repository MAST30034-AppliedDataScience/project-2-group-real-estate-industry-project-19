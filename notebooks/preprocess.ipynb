{
 "cells": [
  {
   "cell_type": "code",
   "execution_count": 1,
   "metadata": {},
   "outputs": [
    {
     "name": "stderr",
     "output_type": "stream",
     "text": [
      "your 131072x1 screen size is bogus. expect trouble\n",
      "24/09/13 09:50:49 WARN Utils: Your hostname, Honor resolves to a loopback address: 127.0.1.1; using 10.255.255.254 instead (on interface lo)\n",
      "24/09/13 09:50:49 WARN Utils: Set SPARK_LOCAL_IP if you need to bind to another address\n",
      "Setting default log level to \"WARN\".\n",
      "To adjust logging level use sc.setLogLevel(newLevel). For SparkR, use setLogLevel(newLevel).\n",
      "24/09/13 09:50:50 WARN NativeCodeLoader: Unable to load native-hadoop library for your platform... using builtin-java classes where applicable\n"
     ]
    }
   ],
   "source": [
    "from pyspark.sql import SparkSession\n",
    "from pyspark.sql import functions as F\n",
    "\n",
    "spark = (\n",
    "    SparkSession.builder.appName(\"project1 preprocessing\")\n",
    "    .config(\"spark.sql.repl.eagerEval.enabled\", True) \n",
    "    .config(\"spark.sql.parquet.cacheMetadata\", \"true\")\n",
    "    .config(\"spark.sql.session.timeZone\", \"Etc/UTC\")\n",
    "    .config(\"spark.driver.memory\", \"4g\")\n",
    "    .config(\"spark.executor.memory\", \"8g\")\n",
    "    .getOrCreate()\n",
    ")\n",
    "\n",
    "columns_wanted=\"ERP_P_38+ERP_P_37+ERP_P_36+ERP_P_35+ERP_P_34+ERP_P_33+ERP_P_32+ERP_P_31+ERP_P_30+ERP_P_29+ERP_P_28+ERP_P_27+ERP_P_26+ERP_P_25+ERP_P_24+ERP_P_23+ERP_P_22+ERP_P_21+ERP_P_19+ERP_P_18+ERP_P_17+ERP_P_16+ERP_P_15+ERP_P_14+ERP_P_13+ERP_P_12+ERP_P_11+ERP_P_10+ERP_P_8+ERP_P_9+ERP_P_7+ERP_P_6+ERP_P_5+ERP_P_4+ERP_P_3+ERP_P_2+EQUIV_2+EQUIV_10+EQUIV_9+EQUIV_8+EQUIV_7+EQUIV_6+EQUIV_5+EQUIV_4+EQUIV_3\"\n",
    "\n",
    "data_flag=columns_wanted.split(\"+\")"
   ]
  },
  {
   "cell_type": "code",
   "execution_count": 2,
   "metadata": {},
   "outputs": [],
   "source": [
    "def make_table(area_name, small_area_name):\n",
    "    file_path=f\"../data/landing/{area_name}_{small_area_name}.csv\"\n",
    "    output_path=f\"../data/raw/{area_name}_{small_area_name}.csv\"\n",
    "\n",
    "    df=spark.read.csv(file_path, header=True, inferSchema=True)\n",
    "    edited_df=df.groupBy(\"TIME_PERIOD\") .pivot(\"MEASURE\") .agg({\"OBS_VALUE\": \"first\"})\n",
    "    edited_df.write.csv(output_path, header=True, mode=\"overwrite\")"
   ]
  },
  {
   "cell_type": "code",
   "execution_count": 3,
   "metadata": {},
   "outputs": [
    {
     "name": "stderr",
     "output_type": "stream",
     "text": [
      "24/09/13 09:50:57 WARN SparkStringUtils: Truncated the string representation of a plan since it was too large. This behavior can be adjusted by setting 'spark.sql.debug.maxToStringFields'.\n"
     ]
    }
   ],
   "source": [
    "Boroondara_names=[\"ashburton(Vic.)\", \"Balwyn\", \"Balwyn_North\", \"Camberwell\", \"Glen_Iris_E\", \"Hawthorn_E\", \"Kew_East\", \"Surrey_Hills(W)\"]\n",
    "\n",
    "Manningham_West_names=[\"Bulleen\", \"Doncaster\", \"Templestowe\", \"Templestowe_Lower\", \"Doncaster_EN\", \"Doncaster_ES\"]\n",
    "\n",
    "Whitehorse_West_names=[\"Blackburn\", \"Blackburn_S\", \"Box_Hill\", \"Box_Hill_N\", \"Burwood(Vic)\", \"Burwood_E\", \"Surrey_Hills(E)\"]\n",
    "\n",
    "for small_area_name in Boroondara_names:\n",
    "    make_table(\"Boroondara\", small_area_name)\n",
    "\n",
    "for small_area_name in Manningham_West_names:\n",
    "    make_table(\"Manningham_West\", small_area_name)\n",
    "\n",
    "for small_area_name in Whitehorse_West_names:\n",
    "    make_table(\"Whitehorse_West\", small_area_name)\n"
   ]
  },
  {
   "cell_type": "code",
   "execution_count": 4,
   "metadata": {},
   "outputs": [
    {
     "name": "stdout",
     "output_type": "stream",
     "text": [
      "+-----------+--------+-------+-------+-------+-------+-------+-------+-------+-------+--------+--------+--------+--------+--------+--------+--------+--------+--------+--------+-------+--------+--------+--------+--------+--------+--------+--------+--------+--------+-------+--------+--------+--------+--------+--------+--------+--------+--------+--------+-------+-------+-------+-------+-------+-------+\n",
      "|        _c0|     _c1|    _c2|    _c3|    _c4|    _c5|    _c6|    _c7|    _c8|    _c9|    _c10|    _c11|    _c12|    _c13|    _c14|    _c15|    _c16|    _c17|    _c18|    _c19|   _c20|    _c21|    _c22|    _c23|    _c24|    _c25|    _c26|    _c27|    _c28|    _c29|   _c30|    _c31|    _c32|    _c33|    _c34|    _c35|    _c36|    _c37|    _c38|    _c39|   _c40|   _c41|   _c42|   _c43|   _c44|   _c45|\n",
      "+-----------+--------+-------+-------+-------+-------+-------+-------+-------+-------+--------+--------+--------+--------+--------+--------+--------+--------+--------+--------+-------+--------+--------+--------+--------+--------+--------+--------+--------+--------+-------+--------+--------+--------+--------+--------+--------+--------+--------+--------+-------+-------+-------+-------+-------+-------+\n",
      "|TIME_PERIOD|EQUIV_10|EQUIV_2|EQUIV_3|EQUIV_4|EQUIV_5|EQUIV_6|EQUIV_7|EQUIV_8|EQUIV_9|ERP_P_10|ERP_P_11|ERP_P_12|ERP_P_13|ERP_P_14|ERP_P_15|ERP_P_16|ERP_P_17|ERP_P_18|ERP_P_19|ERP_P_2|ERP_P_21|ERP_P_22|ERP_P_23|ERP_P_24|ERP_P_25|ERP_P_26|ERP_P_27|ERP_P_28|ERP_P_29|ERP_P_3|ERP_P_30|ERP_P_31|ERP_P_32|ERP_P_33|ERP_P_34|ERP_P_35|ERP_P_36|ERP_P_37|ERP_P_38|ERP_P_4|ERP_P_5|ERP_P_6|ERP_P_7|ERP_P_8|ERP_P_9|\n",
      "|       2022|    NULL|   NULL|   NULL|   NULL|   NULL|   NULL|   NULL|   NULL|   NULL|   710.0|   712.0|   856.0|   803.0|   700.0|   566.0|   507.0|   538.0|   545.0|   543.0|  489.0|     4.3|     5.2|     5.0|     5.7|     6.2|     5.5|     5.7|     5.7|     6.2|  597.0|     6.2|     7.5|     7.0|     6.1|     5.0|     4.4|     4.7|     4.8|     4.8|  573.0|  652.0|  710.0|  626.0|  653.0|  648.0|\n",
      "|       2020|    NULL|   NULL|   NULL|   NULL|   NULL|   NULL|   NULL|   NULL|   NULL|   689.0|   759.0|   849.0|   803.0|   665.0|   550.0|   561.0|   564.0|   546.0|   492.0|  499.0|     4.3|     5.4|     5.0|     5.4|     6.2|     5.9|     6.3|     5.9|     5.9|  631.0|     6.5|     7.3|     6.9|     5.7|     4.7|     4.8|     4.8|     4.7|     4.2|  582.0|  629.0|  727.0|  692.0|  730.0|  689.0|\n",
      "|       2021|     1.8| 1084.0|   18.2|   22.9|   32.4|   11.7|    6.4|    2.5|    4.2|   692.0|   709.0|   863.0|   798.0|   670.0|   541.0|   564.0|   545.0|   533.0|   500.0|  510.0|     4.5|     5.2|     5.0|     5.5|     6.1|     5.4|     6.0|     5.8|     6.1|  587.0|     6.2|     7.6|     7.0|     5.9|     4.8|     5.0|     4.8|     4.7|     4.4|  571.0|  630.0|  691.0|  617.0|  685.0|  664.0|\n",
      "+-----------+--------+-------+-------+-------+-------+-------+-------+-------+-------+--------+--------+--------+--------+--------+--------+--------+--------+--------+--------+-------+--------+--------+--------+--------+--------+--------+--------+--------+--------+-------+--------+--------+--------+--------+--------+--------+--------+--------+--------+-------+-------+-------+-------+-------+-------+\n",
      "\n"
     ]
    }
   ],
   "source": [
    "df=spark.read.csv(\"../data/raw/Manningham_West_Bulleen.csv\")\n",
    "print(df)"
   ]
  },
  {
   "cell_type": "code",
   "execution_count": 5,
   "metadata": {},
   "outputs": [],
   "source": [
    "from urllib.request import urlretrieve\n",
    "\n",
    "id=\"207011146\"\n",
    "columns_wanted=\"EQUIV_3\"\n",
    "\n",
    "url=f\"https://api.data.abs.gov.au/data/ABS,ABS_REGIONAL_ASGS2021,/{columns_wanted}..{id}.A?startPeriod=2010&dimensionAtObservation=AllDimensions&format=csv\"\n",
    "output_file = f\"../data/landing/test.csv\"\n",
    "urlretrieve(url, output_file)\n",
    "\n",
    "file_path=f\"../data/landing/test.csv\"\n",
    "output_path=f\"../data/raw/test.csv\"\n",
    "\n",
    "df=spark.read.csv(file_path, header=True, inferSchema=True)\n",
    "edited_df=df.groupBy(\"TIME_PERIOD\") .pivot(\"MEASURE\") .agg({\"OBS_VALUE\": \"first\"})\n",
    "edited_df.write.csv(output_path, header=True, mode=\"overwrite\")"
   ]
  }
 ],
 "metadata": {
  "kernelspec": {
   "display_name": ".venv",
   "language": "python",
   "name": "python3"
  },
  "language_info": {
   "codemirror_mode": {
    "name": "ipython",
    "version": 3
   },
   "file_extension": ".py",
   "mimetype": "text/x-python",
   "name": "python",
   "nbconvert_exporter": "python",
   "pygments_lexer": "ipython3",
   "version": "3.11.0"
  }
 },
 "nbformat": 4,
 "nbformat_minor": 2
}
