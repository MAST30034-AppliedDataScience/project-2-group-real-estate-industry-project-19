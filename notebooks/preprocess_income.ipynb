{
 "cells": [
  {
   "cell_type": "code",
   "execution_count": 14,
   "metadata": {},
   "outputs": [
    {
     "name": "stderr",
     "output_type": "stream",
     "text": [
      "                                                                                \r"
     ]
    }
   ],
   "source": [
    "from urllib.request import urlretrieve\n",
    "from pyspark.sql import SparkSession\n",
    "from pyspark.sql import functions as F\n",
    "\n",
    "spark = (\n",
    "    SparkSession.builder.appName(\"project2 preprocessing\")\n",
    "    .config(\"spark.sql.repl.eagerEval.enabled\", True) \n",
    "    .config(\"spark.sql.parquet.cacheMetadata\", \"true\")\n",
    "    .config(\"spark.sql.session.timeZone\", \"Etc/UTC\")\n",
    "    .config(\"spark.driver.memory\", \"4g\")\n",
    "    .config(\"spark.executor.memory\", \"8g\")\n",
    "    .getOrCreate()\n",
    ")\n",
    "\n",
    "\n",
    "file_path=f\"../data/landing/income.csv\"\n",
    "sa2_code_path='../data/raw/sa2_code_name.csv'\n",
    "output_path=f\"../data/raw/test.csv\"\n",
    "\n",
    "df=spark.read.csv(file_path, header=True, inferSchema=True)\n",
    "df_code=spark.read.csv(sa2_code_path, header=True, inferSchema=True)\n",
    "\n",
    "df = df.withColumnRenamed('sa2_maincode_2016', 'SA2 code')\n",
    "\n",
    "# Columns that should be included in every dataset\n",
    "common_columns = ['FID', 'sa2_maincode_2016', 'geometry', 'sa2_name_2016', 'yr']\n",
    "other_columns = \"estmts_prsnl_incme_yr_endd_30_jne_emplye_ernrs_nm|estmts_prsnl_incme_yr_endd_30_jne_emplye_ernrs_mdn_age_yrs|estimates_personal_income_year_ended_30_june_total_employee_m|estimates_personal_income_year_ended_30_june_median_employee|estimates_personal_income_year_ended_30_june_mean_employee|estmts_prsnl_incme_yr_endd_30_jne_emplye_mn_srce_of_pc|estmts_prsnl_incme_yr_endd_30_jne_unncrprtd_bsnss_ernrs_nm|estm_prsnl_incme_yr_end_30_jne_uncrptd_bsn_erns_mdn_age_yrs|estmts_prsnl_incme_yr_endd_30_jne_ttl_unncrprtd_bsnss_m|estmts_prsnl_incme_yr_endd_30_jne_mdn_unncrprtd_bsnss|estmts_prsnl_incme_yr_endd_30_jne_mn_unncrprtd_bsnss|estmts_prsnl_incme_yr_endd_30_jne_unncrprtd_bsnss_mn_srce_of_pc|estmts_prsnl_incme_yr_endd_30_jne_invstmnt_ernrs_nm|estmts_prsnl_incme_yr_endd_30_jne_invstmnt_ernrs_mdn_age_yrs|estimates_personal_income_year_ended_30_june_total_investment_m|estimates_personal_income_year_ended_30_june_median_investment|estimates_personal_income_year_ended_30_june_mean_investment|estmts_prsnl_incme_yr_endd_30_jne_invstmnt_mn_srce_of_pc|estmts_prsnl_incme_yr_endd_30_jne_sprnntn_annty_ernrs_nm|estm_prsnl_incme_yr_end_30_jne_sprnt_anty_erns_mdn_age_yrs|estmts_prsnl_incme_yr_endd_30_jne_ttl_sprnntn_annty_m|estmts_prsnl_incme_yr_endd_30_jne_mdn_sprnntn_annty|estmts_prsnl_incme_yr_endd_30_jne_mn_sprnntn_annty|estmts_prsnl_incme_yr_endd_30_jne_sprnntn_annty_mn_srce_of_pc|estm_prsnl_incme_yr_end_30_jne_tl_erns_excl_gvrnmt_pns_alwncs_n|estm_prsnl_incme_yr_end_30_jne_tl_erns_excl_gvrnmt_pns_alwncs_m|estm_prsnl_incme_yr_end_30_jne_tl_excl_gvrnmt_pns_alwncs_m|estm_prsnl_incme_yr_end_30_jne_mdn_tl_excl_gvrnmt_pns_alwncs|estm_prsnl_incme_yr_end_30_jne_mn_tl_excl_gvrnmt_pns_alwncs|estm_prsnl_incme_yr_end_30_jne_tl_excl_gvrnmt_pns_alwncs_p802_r|estm_prsnl_incme_yr_end_30_jne_tl_excl_gvrnmt_pns_alwncs_p805_r|estm_prsnl_incme_yr_end_30_jne_tl_excl_gvrnmt_pns_alwncs_p205_r|estm_prsnl_incme_yr_end_30_jne_tl_excl_gvrnmt_pns_alwncs_p105_r|estm_prsnl_incme_yr_end_30_jne_tl_excl_gvrnmt_pns_alwncs_gni_cf|estm_prsnl_incme_yr_end_30_jne_tl_excl_gvrnmt_pns_alwncs_shre_o|estm_prsnl_incme_yr_end_30_jne_tl_excl_gvrnmt_pns_alwncs_shre_0|estm_prsnl_incme_yr_end_30_jne_tl_excl_gvrnmt_pns_alwncs_shre_1|estm_prsnl_incme_yr_end_30_jne_tl_excl_gvrnmt_pns_alwncs_lwst_q|estm_prsnl_incme_yr_end_30_jne_tl_excl_gvrnmt_pns_alwncs_scnd_q|estm_prsnl_incme_yr_end_30_jne_tl_excl_gvrnmt_pns_alwncs_thrd_q|estm_prsnl_incme_yr_end_30_jne_tl_excl_gvrnmt_pns_alwncs_hgst_q|grss_cptl_gns_rprtd_txpyrs_yr_endd_30_jne_by_prsns_nm|grss_cptl_gns_rprtd_txpyrs_yr_endd_30_jne_by_amnt_m|grss_cptl_gns_rprtd_txpyrs_yr_endd_30_jne_by_mdn|grss_cptl_gns_rprtd_txpyrs_yr_endd_30_jne_by_mn|slctd_gvrnmnt_pnsns_allwncs_30_jne_age_pnsn_cntrlnk_nm|slctd_gvrnmnt_pnsns_allwncs_30_jne_crr_pymnt_nm|slctd_gvrnmnt_pnsns_allwncs_30_jne_crr_allwnce_nm|slctd_gvrnmnt_pnsns_allwncs_30_jne_dsblty_spprt_pnsn_nm|slctd_gvrnmnt_pnsns_allwncs_30_jne_nwstrt_allwnce_nm|slctd_gvrnmnt_pnsns_allwncs_30_jne_prntng_pymnt_sngle_nm|slctd_gvrnmnt_pnsns_allwncs_30_jne_prntng_pymnt_prtnrd_nm|slctd_gvrnmt_pns_alwncs_30_jne_yth_alwnce_fl_tme_stdnprc_nm|slctd_gvrnmnt_pnsns_allwncs_30_jne_yth_allwnce_nm|slctd_gvrnmnt_pnsns_allwncs_30_jne_fmly_tx_bnft_nm|slctd_gvrnmnt_pnsns_allwncs_30_jne_fmly_tx_bnft_b_nm|slctd_gvrnmnt_pnsns_allwncs_30_jne_cmmnwlth_rnt_assstnce_nm|exprmntl_hshld_wlth_estmts_mdlld_prvte_dwllngs_mn_nt_wrth|ttl_prsnl_incme_wkly_prsns_agd_15_yrs_cnss_ernng_1_499_pr_wk_pc|tl_prsnl_incme_wkly_prsn_agd_15_yrs_cns_erng_500_999_pr_wk_pc|tl_prsnl_incme_wkly_prsn_agd_15_yrs_cns_erng_1000_1999_pr_wk_pc|tl_prsnl_incme_wkly_prsn_agd_15_yrs_cns_erng_2000_2999_pr_wk_pc|ttl_prsnl_incme_wkly_prsns_agd_15_yrs_cnss_ernng_3000_pr_wk_pc|ttl_prsnl_incme_wkly_prsns_agd_15_yrs_cnss_ernng_nl_pc|ttl_prsnl_incme_wkly_prsns_agd_15_yrs_cnss_ngtve_pc|tl_prsnl_incme_wkly_prsn_agd_15_yrs_cns_indqtly_dscrb_std_pc|equivalised_total_household_income_census_median_weekly\".split(\"|\")\n",
    "\n",
    "df=df.join(df_code.select('SA2 code'), on='SA2 code', how='inner')\n",
    "\n",
    "# Number of columns in the DataFrame\n",
    "total_columns = len(df.columns)\n",
    "\n",
    "# Threshold: Keep rows with at least half of the columns non-null\n",
    "thresh_value = total_columns // 2 + 1  # Half of columns, rounded up\n",
    "\n",
    "# Drop rows that have less than thresh_value non-null values\n",
    "#df_cleaned = df.dropna(thresh=thresh_value)\n",
    "df_cleaned=df\n"
   ]
  },
  {
   "cell_type": "code",
   "execution_count": 15,
   "metadata": {},
   "outputs": [
    {
     "name": "stderr",
     "output_type": "stream",
     "text": [
      "                                                                                \r"
     ]
    }
   ],
   "source": [
    "columns_with_null=[]\n",
    "\n",
    "for column in df_cleaned.columns:\n",
    "    # Filter rows where a column has null values\n",
    "    df_null = df_cleaned.filter(df_cleaned[column].isNull())\n",
    "\n",
    "# Count rows with null values\n",
    "    null_count = df_null.count()\n",
    "\n",
    "    if (null_count>0):\n",
    "        columns_with_null.append(column)\n"
   ]
  },
  {
   "cell_type": "code",
   "execution_count": 16,
   "metadata": {},
   "outputs": [],
   "source": [
    "from pyspark.sql.functions import col, when, avg\n",
    "from pyspark.sql import Window\n",
    "from pyspark.sql.functions import coalesce, lag, lead\n",
    "\n",
    "\n",
    "def null_filler(df, column_name):\n",
    "# Create a window specification partitioned by sa2_maincode_2016 and ordered by yr\n",
    "    window_spec = Window.partitionBy('SA2 code').orderBy('yr')\n",
    "\n",
    "# Use lag (previous year) and lead (next year) functions\n",
    "    df_with_adjacent_values = df.withColumn('prev_year_value', lag(column_name).over(window_spec)) \\\n",
    "                            .withColumn('next_year_value', lead(column_name).over(window_spec))\n",
    "\n",
    "\n",
    "# Calculate the average of prev_year_value and next_year_value, ignoring nulls\n",
    "    df_filled = df_with_adjacent_values.withColumn('filled_value',\n",
    "        when(\n",
    "            col(column_name).isNull(), \n",
    "            (coalesce(col('prev_year_value'), col('next_year_value')) + coalesce(col('next_year_value'), col('prev_year_value'))) / 2\n",
    "        ).otherwise(col(column_name))\n",
    "    )\n",
    "\n",
    "# Handle cases where both prev_year_value and next_year_value are null\n",
    "    df_filled = df_filled.withColumn('filled_value',\n",
    "        when(\n",
    "            col('filled_value').isNull(), \n",
    "            lag('prev_year_value', 2).over(window_spec)  # or lead for next 2 years\n",
    "        ).otherwise(col('filled_value'))\n",
    "    )\n",
    "\n",
    "    df_final = df_filled.withColumn(column_name, col('filled_value')).drop('prev_year_value', 'next_year_value', 'filled_value')\n",
    "    return(df_final)\n"
   ]
  },
  {
   "cell_type": "code",
   "execution_count": 17,
   "metadata": {},
   "outputs": [],
   "source": [
    "def null_filler_multi(df, columns_list):\n",
    "    for column in columns_list:\n",
    "        df=null_filler(df, column)\n",
    "    return df\n",
    "\n",
    "df_filled=null_filler_multi(df_cleaned, columns_with_null)"
   ]
  },
  {
   "cell_type": "code",
   "execution_count": 18,
   "metadata": {},
   "outputs": [
    {
     "name": "stderr",
     "output_type": "stream",
     "text": [
      "24/09/27 21:06:28 WARN DAGScheduler: Broadcasting large task binary with size 3.1 MiB\n",
      "                                                                                \r"
     ]
    }
   ],
   "source": [
    "from pyspark.sql import SparkSession\n",
    "\n",
    "spark = (\n",
    "    SparkSession.builder.appName(\"project2 preprocessing\")\n",
    "    .config(\"spark.sql.repl.eagerEval.enabled\", True) \n",
    "    .config(\"spark.sql.parquet.cacheMetadata\", \"true\")\n",
    "    .config(\"spark.sql.session.timeZone\", \"Etc/UTC\")\n",
    "    .config(\"spark.driver.memory\", \"4g\")\n",
    "    .config(\"spark.executor.memory\", \"8g\")\n",
    "    .getOrCreate()\n",
    ")\n",
    "\n",
    "output_path=f\"../data/raw/income.csv\"\n",
    "df_filled=df_filled.drop(\"geometry\")\n",
    "df_filled.write.csv(output_path, header=True, mode=\"overwrite\")"
   ]
  },
  {
   "cell_type": "code",
   "execution_count": 19,
   "metadata": {},
   "outputs": [
    {
     "name": "stdout",
     "output_type": "stream",
     "text": [
      "+---------+--------------------+-------------+----+--------------------+--------------------+--------------------+--------------------+--------------------+--------------------+--------------------+--------------------+--------------------+--------------------+--------------------+--------------------+--------------------+--------------------+--------------------+--------------------+--------------------+--------------------+--------------------+--------------------+--------------------+--------------------+--------------------+--------------------+--------------------+--------------------+--------------------+--------------------+--------------------+--------------------+--------------------+--------------------+--------------------+--------------------+--------------------+--------------------+--------------------+--------------------+--------------------+--------------------+--------------------+--------------------+--------------------+--------------------+--------------------+--------------------+--------------------+--------------------+--------------------+--------------------+--------------------+--------------------+--------------------+--------------------+--------------------+--------------------+--------------------+--------------------+--------------------+--------------------+--------------------+--------------------+--------------------+--------------------+--------------------+--------------------+--------------------+\n",
      "|      _c0|                 _c1|          _c2| _c3|                 _c4|                 _c5|                 _c6|                 _c7|                 _c8|                 _c9|                _c10|                _c11|                _c12|                _c13|                _c14|                _c15|                _c16|                _c17|                _c18|                _c19|                _c20|                _c21|                _c22|                _c23|                _c24|                _c25|                _c26|                _c27|                _c28|                _c29|                _c30|                _c31|                _c32|                _c33|                _c34|                _c35|                _c36|                _c37|                _c38|                _c39|                _c40|                _c41|                _c42|                _c43|                _c44|                _c45|                _c46|                _c47|                _c48|                _c49|                _c50|                _c51|                _c52|                _c53|                _c54|                _c55|                _c56|                _c57|                _c58|                _c59|                _c60|                _c61|                _c62|                _c63|                _c64|                _c65|                _c66|                _c67|                _c68|                _c69|                _c70|\n",
      "+---------+--------------------+-------------+----+--------------------+--------------------+--------------------+--------------------+--------------------+--------------------+--------------------+--------------------+--------------------+--------------------+--------------------+--------------------+--------------------+--------------------+--------------------+--------------------+--------------------+--------------------+--------------------+--------------------+--------------------+--------------------+--------------------+--------------------+--------------------+--------------------+--------------------+--------------------+--------------------+--------------------+--------------------+--------------------+--------------------+--------------------+--------------------+--------------------+--------------------+--------------------+--------------------+--------------------+--------------------+--------------------+--------------------+--------------------+--------------------+--------------------+--------------------+--------------------+--------------------+--------------------+--------------------+--------------------+--------------------+--------------------+--------------------+--------------------+--------------------+--------------------+--------------------+--------------------+--------------------+--------------------+--------------------+--------------------+--------------------+--------------------+--------------------+\n",
      "| SA2 code|                 FID|sa2_name_2016|  yr|estmts_prsnl_incm...|estmts_prsnl_incm...|estimates_persona...|estimates_persona...|estimates_persona...|estmts_prsnl_incm...|estmts_prsnl_incm...|estm_prsnl_incme_...|estmts_prsnl_incm...|estmts_prsnl_incm...|estmts_prsnl_incm...|estmts_prsnl_incm...|estmts_prsnl_incm...|estmts_prsnl_incm...|estimates_persona...|estimates_persona...|estimates_persona...|estmts_prsnl_incm...|estmts_prsnl_incm...|estm_prsnl_incme_...|estmts_prsnl_incm...|estmts_prsnl_incm...|estmts_prsnl_incm...|estmts_prsnl_incm...|estm_prsnl_incme_...|estm_prsnl_incme_...|estm_prsnl_incme_...|estm_prsnl_incme_...|estm_prsnl_incme_...|estm_prsnl_incme_...|estm_prsnl_incme_...|estm_prsnl_incme_...|estm_prsnl_incme_...|estm_prsnl_incme_...|estm_prsnl_incme_...|estm_prsnl_incme_...|estm_prsnl_incme_...|estm_prsnl_incme_...|estm_prsnl_incme_...|estm_prsnl_incme_...|estm_prsnl_incme_...|grss_cptl_gns_rpr...|grss_cptl_gns_rpr...|grss_cptl_gns_rpr...|grss_cptl_gns_rpr...|slctd_gvrnmnt_pns...|slctd_gvrnmnt_pns...|slctd_gvrnmnt_pns...|slctd_gvrnmnt_pns...|slctd_gvrnmnt_pns...|slctd_gvrnmnt_pns...|slctd_gvrnmnt_pns...|slctd_gvrnmt_pns_...|slctd_gvrnmnt_pns...|slctd_gvrnmnt_pns...|slctd_gvrnmnt_pns...|slctd_gvrnmnt_pns...|exprmntl_hshld_wl...|ttl_prsnl_incme_w...|tl_prsnl_incme_wk...|tl_prsnl_incme_wk...|tl_prsnl_incme_wk...|ttl_prsnl_incme_w...|ttl_prsnl_incme_w...|ttl_prsnl_incme_w...|tl_prsnl_incme_wk...|equivalised_total...|\n",
      "|201011001|abs_data_by_regio...|    Alfredton|2011|              5265.0|                40.0|               273.5|             45836.0|             51943.0|                80.7|               670.0|                45.0|                14.5|              9583.0|             21576.0|                 5.1|              4114.0|                45.0|                27.1|               270.0|              6581.0|                12.8|               163.0|                58.0|                 4.0|             12910.0|             24584.0|                 1.2|              5760.0|                42.0|               314.6|             46535.0|             54625.0|                4.38|                1.77|                0.41|                0.18|               0.424|                 5.8|                17.7|                28.1|                23.4|                25.7|                27.1|                23.7|               388.0|                 6.8|              2646.0|             17438.0|                NULL|                NULL|                NULL|                NULL|                NULL|                NULL|                NULL|                NULL|                NULL|               826.0|               661.0|                NULL|                NULL|                NULL|                NULL|                NULL|                NULL|                NULL|                NULL|                NULL|                NULL|               786.0|\n",
      "|201011001|abs_data_by_regio...|    Alfredton|2014|              5265.0|                40.0|               273.5|             45836.0|             51943.0|                80.7|               670.0|                45.0|                14.5|              9583.0|             21576.0|                 5.1|              4114.0|                45.0|                27.1|               270.0|              6581.0|                12.8|               163.0|                58.0|                 4.0|             12910.0|             24584.0|                 1.2|              5760.0|                42.0|               314.6|             46535.0|             54625.0|                4.38|                1.77|                0.41|                0.18|               0.424|                 5.8|                17.7|                28.1|                23.4|                25.7|                27.1|                23.7|               388.0|                 6.8|              2646.0|             17438.0|               831.0|                96.0|                NULL|               323.0|               197.0|               118.0|                NULL|               167.0|                52.0|               826.0|               661.0|                NULL|                NULL|                NULL|                NULL|                NULL|                NULL|                NULL|                NULL|                NULL|                NULL|               786.0|\n",
      "|201011001|abs_data_by_regio...|    Alfredton|2015|              5775.0|                40.0|               309.1|             47262.0|             53529.0|                80.6|               742.0|                46.0|                15.1|              8360.0|             20373.0|                 5.1|              4566.0|                44.0|                30.3|               242.0|              6632.0|                12.7|               161.0|                58.0|                 4.0|             16704.0|             24969.0|                 1.2|              6225.0|                42.0|               350.9|             48532.0|             56374.0|                4.31|                1.75|                0.41|                0.19|               0.425|                 6.0|                17.8|                28.3|                23.0|                25.4|                27.7|                24.0|               442.0|                 8.2|              4402.0|             18640.0|               831.0|                96.0|                NULL|               323.0|               197.0|               118.0|                NULL|               167.0|                52.0|               878.0|               720.0|                NULL|               712.8|                27.5|                25.6|                25.8|                 4.7|                 2.0|                 7.8|                 0.4|                 6.0|               914.0|\n",
      "|201011001|abs_data_by_regio...|    Alfredton|2016|              6189.0|                39.0|               343.4|             49071.0|             55492.0|                80.5|               788.0|                45.0|                16.9|              7402.0|             21502.0|                 5.3|              5012.0|                44.0|                33.4|               167.0|              6660.0|                12.7|               177.0|                58.0|                 4.0|             15729.0|             22788.0|                 1.1|              6718.0|                42.0|               387.9|             49385.0|             57747.0|                4.66|                1.77|                0.38|                0.17|                0.43|                 5.9|                17.7|                28.3|                23.5|                24.7|                27.3|                24.4|               455.0|                10.1|              2606.0|             22153.0|               907.0|                98.0|               299.0|               343.0|               214.0|               142.0|                24.0|               172.0|                34.0|               914.0|               703.0|               779.0|               712.8|                27.5|                25.6|                25.8|                 4.7|                 2.0|                 7.8|                 0.4|                 6.0|               914.0|\n",
      "|201011001|abs_data_by_regio...|    Alfredton|2017|              6564.0|                39.0|               374.8|             50119.0|             57095.0|                80.7|               827.0|                45.0|                21.1|             10312.0|             25502.0|                 5.2|              5116.0|                44.0|                38.4|               153.0|              7501.0|                12.4|               191.0|                58.0|                 5.3|             17749.0|             27655.0|                 1.4|              7124.0|                42.0|               427.6|             50845.0|             60026.0|                4.58|                1.77|                0.39|                0.17|               0.434|                 6.6|                18.6|                29.1|                23.1|                24.6|                27.6|                24.7|               468.0|                11.7|              2747.0|             25014.0|               925.0|               109.0|               299.0|               358.0|               213.0|               129.0|                24.0|               171.0|                48.0|               913.0|               705.0|               779.0|               712.8|                27.5|                25.6|                25.8|                 4.7|                 2.0|                 7.8|                 0.4|                 6.0|               914.0|\n",
      "|201011001|abs_data_by_regio...|    Alfredton|2018|              6564.0|                39.0|               374.8|             50119.0|             57095.0|                80.7|               827.0|                45.0|                21.1|             10312.0|             25502.0|                 5.2|              5116.0|                44.0|                38.4|               153.0|              7501.0|                12.4|               191.0|                58.0|                 5.3|             17749.0|             27655.0|                 1.4|              7124.0|                42.0|               427.6|             50845.0|             60026.0|                4.58|                1.77|                0.39|                0.17|               0.434|                 6.6|                18.6|                29.1|                23.1|                24.6|                27.6|                24.7|               558.0|                13.5|              3867.0|             24180.0|               989.0|               120.0|               322.0|               374.0|               234.0|               120.0|                23.0|               157.0|                50.0|               904.0|               704.0|               773.0|                NULL|                NULL|                NULL|                NULL|                NULL|                NULL|                NULL|                NULL|                NULL|                NULL|\n",
      "|201011001|abs_data_by_regio...|    Alfredton|2019|              6189.0|                39.0|               343.4|             49071.0|             55492.0|                80.5|               788.0|                45.0|                16.9|              7402.0|             21502.0|                 5.3|              5012.0|                44.0|                33.4|               167.0|              6660.0|                12.7|               177.0|                58.0|                 4.0|             15729.0|             22788.0|                 1.1|              6718.0|                42.0|               387.9|             49385.0|             57747.0|                4.66|                1.77|                0.38|                0.17|                0.43|                 5.9|                17.7|                28.3|                23.5|                24.7|                27.3|                24.4|               558.0|                13.5|              3867.0|             24180.0|              1070.0|               123.0|               330.0|               407.0|               200.0|               127.0|                17.0|               170.0|                40.0|               877.0|               697.0|               766.0|               712.8|                27.5|                25.6|                25.8|                 4.7|                 2.0|                 7.8|                 0.4|                 6.0|               914.0|\n",
      "|201011002|abs_data_by_regio...|     Ballarat|2011|              6110.0|                41.0|               327.9|             43963.0|             53664.0|                70.6|              1009.0|                50.0|                40.9|             10311.0|             40497.0|                 6.7|              5487.0|                49.0|                99.9|               752.0|             18206.0|                20.8|               250.0|                58.0|                 7.3|             17585.0|             29053.0|                 1.4|              7151.0|                45.0|               468.4|             47061.0|             65507.0|                5.18|                 1.9|                0.37|                0.15|               0.515|                11.6|                26.5|                37.7|                25.4|                23.5|                23.0|                28.1|               760.0|                31.4|              2864.0|             41370.0|                NULL|                NULL|                NULL|                NULL|                NULL|                NULL|                NULL|                NULL|                NULL|               682.0|               569.0|                NULL|                NULL|                NULL|                NULL|                NULL|                NULL|                NULL|                NULL|                NULL|                NULL|               762.0|\n",
      "|201011002|abs_data_by_regio...|     Ballarat|2014|              6110.0|                41.0|               327.9|             43963.0|             53664.0|                70.6|              1009.0|                50.0|                40.9|             10311.0|             40497.0|                 6.7|              5487.0|                49.0|                99.9|               752.0|             18206.0|                20.8|               250.0|                58.0|                 7.3|             17585.0|             29053.0|                 1.4|              7151.0|                45.0|               468.4|             47061.0|             65507.0|                5.18|                 1.9|                0.37|                0.15|               0.515|                11.6|                26.5|                37.7|                25.4|                23.5|                23.0|                28.1|               760.0|                31.4|              2864.0|             41370.0|              1455.0|               117.0|                NULL|               489.0|               396.0|               104.0|                NULL|               304.0|                92.0|               682.0|               569.0|                NULL|                NULL|                NULL|                NULL|                NULL|                NULL|                NULL|                NULL|                NULL|                NULL|               762.0|\n",
      "|201011002|abs_data_by_regio...|     Ballarat|2015|              6290.0|                41.0|               351.8|             44789.0|             55926.0|                69.9|               997.0|                51.0|                43.9|             11741.0|             44078.0|                 6.4|              5648.0|                48.0|               102.4|               749.0|             18127.0|                21.8|               237.0|                58.0|                 6.7|             18352.0|             28077.0|                 1.3|              7289.0|                45.0|               489.9|             47894.0|             67217.0|                5.22|                1.94|                0.37|                0.15|               0.519|                11.2|                26.5|                37.9|                25.5|                23.6|                23.0|                27.9|               810.0|                31.5|              4119.0|             38848.0|              1455.0|               117.0|                NULL|               489.0|               396.0|               104.0|                NULL|               304.0|                92.0|               644.0|               559.0|                NULL|              1013.0|                29.1|                22.2|                22.3|                 5.2|                 4.7|                 7.7|                 0.5|                 8.4|               903.0|\n",
      "|201011002|abs_data_by_regio...|     Ballarat|2016|              6299.0|                42.0|               368.5|             46998.0|             58506.0|                69.7|              1093.0|                51.0|                49.2|              9723.0|             45046.0|                 6.7|              5811.0|                49.0|               128.8|               680.0|             22164.0|                21.6|               244.0|                58.0|                 5.9|             15624.0|             24133.0|                 1.4|              7400.0|                46.0|               538.4|             49564.0|             72754.0|                5.24|                1.92|                0.37|                0.14|               0.539|                15.3|                30.1|                40.8|                24.7|                23.5|                23.6|                28.1|               784.0|                39.5|              2178.0|             50415.0|              1476.0|               113.0|               245.0|               464.0|               415.0|               107.0|                21.0|               350.0|                55.0|               625.0|               500.0|              1193.0|              1013.0|                29.1|                22.2|                22.3|                 5.2|                 4.7|                 7.7|                 0.5|                 8.4|               903.0|\n",
      "|201011002|abs_data_by_regio...|     Ballarat|2017|              6316.0|                42.0|               379.6|             48500.0|             60102.0|                69.0|              1086.0|                51.0|                53.4|             12357.0|             49134.0|                 6.9|              5774.0|                50.0|               114.9|               694.0|             19905.0|                22.3|               214.0|                59.0|                 4.7|             13630.0|             22167.0|                 1.2|              7470.0|                47.0|               537.1|             50413.0|             71895.0|                5.62|                1.97|                0.35|                0.14|               0.527|                11.9|                27.4|                38.7|                25.7|                22.5|                23.5|                28.2|               864.0|                30.3|              4278.0|             35052.0|              1425.0|               102.0|               245.0|               460.0|               438.0|                95.0|                21.0|               286.0|                73.0|               560.0|               442.0|              1193.0|              1013.0|                29.1|                22.2|                22.3|                 5.2|                 4.7|                 7.7|                 0.5|                 8.4|               903.0|\n",
      "|201011002|abs_data_by_regio...|     Ballarat|2018|              6316.0|                42.0|               379.6|             48500.0|             60102.0|                69.0|              1086.0|                51.0|                53.4|             12357.0|             49134.0|                 6.9|              5774.0|                50.0|               114.9|               694.0|             19905.0|                22.3|               214.0|                59.0|                 4.7|             13630.0|             22167.0|                 1.2|              7470.0|                47.0|               537.1|             50413.0|             71895.0|                5.62|                1.97|                0.35|                0.14|               0.527|                11.9|                27.4|                38.7|                25.7|                22.5|                23.5|                28.2|               865.0|                38.4|              5224.0|             44336.0|              1500.0|                92.0|               240.0|               508.0|               450.0|                87.0|                22.0|               248.0|                62.0|               512.0|               402.0|              1117.0|                NULL|                NULL|                NULL|                NULL|                NULL|                NULL|                NULL|                NULL|                NULL|                NULL|\n",
      "|201011002|abs_data_by_regio...|     Ballarat|2019|              6299.0|                42.0|               368.5|             46998.0|             58506.0|                69.7|              1093.0|                51.0|                49.2|              9723.0|             45046.0|                 6.7|              5811.0|                49.0|               128.8|               680.0|             22164.0|                21.6|               244.0|                58.0|                 5.9|             15624.0|             24133.0|                 1.4|              7400.0|                46.0|               538.4|             49564.0|             72754.0|                5.24|                1.92|                0.37|                0.14|               0.539|                15.3|                30.1|                40.8|                24.7|                23.5|                23.6|                28.1|               865.0|                38.4|              5224.0|             44336.0|              1471.0|               100.0|               227.0|               491.0|               401.0|                83.0|                20.0|               233.0|                63.0|               483.0|               400.0|              1021.0|              1013.0|                29.1|                22.2|                22.3|                 5.2|                 4.7|                 7.7|                 0.5|                 8.4|               903.0|\n",
      "|201011005|abs_data_by_regio...|    Buninyong|2011|              3395.0|                42.0|               182.9|             46530.0|             53866.0|                76.1|               573.0|                50.0|                15.6|              8323.0|             27273.0|                 7.0|              2930.0|                48.0|                23.1|               352.0|              7887.0|                15.2|               122.0|                58.0|                 2.9|             15067.0|             23569.0|                 1.2|              3897.0|                45.0|               221.2|             46283.0|             56765.0|                5.11|                1.83|                0.36|                0.15|               0.458|                 8.2|                20.2|                30.6|                25.9|                23.3|                24.7|                26.1|               307.0|                 5.8|              2881.0|             18936.0|                NULL|                NULL|                NULL|                NULL|                NULL|                NULL|                NULL|                NULL|                NULL|               416.0|               323.0|                NULL|                NULL|                NULL|                NULL|                NULL|                NULL|                NULL|                NULL|                NULL|                NULL|               812.0|\n",
      "|201011005|abs_data_by_regio...|    Buninyong|2014|              3395.0|                42.0|               182.9|             46530.0|             53866.0|                76.1|               573.0|                50.0|                15.6|              8323.0|             27273.0|                 7.0|              2930.0|                48.0|                23.1|               352.0|              7887.0|                15.2|               122.0|                58.0|                 2.9|             15067.0|             23569.0|                 1.2|              3897.0|                45.0|               221.2|             46283.0|             56765.0|                5.11|                1.83|                0.36|                0.15|               0.458|                 8.2|                20.2|                30.6|                25.9|                23.3|                24.7|                26.1|               307.0|                 5.8|              2881.0|             18936.0|               621.0|                62.0|                NULL|               157.0|               151.0|                33.0|                NULL|               462.0|                29.0|               416.0|               323.0|                NULL|                NULL|                NULL|                NULL|                NULL|                NULL|                NULL|                NULL|                NULL|                NULL|               812.0|\n",
      "|201011005|abs_data_by_regio...|    Buninyong|2015|              3517.0|                42.0|               191.3|             46826.0|             54393.0|                75.4|               595.0|                50.0|                17.9|              8325.0|             30023.0|                 7.2|              3031.0|                48.0|                24.2|               334.0|              7996.0|                15.7|               129.0|                58.0|                 2.7|             14173.0|             21188.0|                 1.3|              3966.0|                45.0|               230.1|             46972.0|             58011.0|                5.04|                1.85|                0.37|                0.14|                0.46|                 7.9|                20.0|                30.6|                25.9|                23.9|                24.3|                25.9|               338.0|                12.6|              3757.0|             37333.0|               621.0|                62.0|                NULL|               157.0|               151.0|                33.0|                NULL|               462.0|                29.0|               403.0|               314.0|                NULL|               972.8|                30.9|                22.1|                23.1|                 4.9|                 2.6|                 7.9|                 0.4|                 8.0|               920.0|\n",
      "|201011005|abs_data_by_regio...|    Buninyong|2016|              3530.0|                42.0|               199.1|             48431.0|             56401.0|                74.9|               573.0|                50.0|                16.9|             10719.0|             29453.0|                 7.4|              3066.0|                47.0|                22.1|               242.0|              7213.0|                15.9|               123.0|                58.0|                 3.2|             14154.0|             25613.0|                 1.3|              4001.0|                45.0|               233.2|             47511.0|             58292.0|                 5.5|                1.87|                0.34|                0.14|               0.463|                 7.4|                19.7|                30.5|                26.6|                23.6|                24.0|                25.8|               329.0|                12.3|              2432.0|             37320.0|               639.0|                58.0|               148.0|               153.0|               147.0|                39.0|                 7.0|               422.0|                24.0|               397.0|               275.0|               486.0|               972.8|                30.9|                22.1|                23.1|                 4.9|                 2.6|                 7.9|                 0.4|                 8.0|               920.0|\n",
      "|201011005|abs_data_by_regio...|    Buninyong|2017|              3606.0|                43.0|               211.4|             50684.0|             58612.0|                74.5|               580.0|                50.0|                17.0|             10863.0|             29225.0|                 7.1|              3116.0|                48.0|                23.9|               227.0|              7654.0|                16.2|               115.0|                59.0|                 2.7|             15955.0|             23260.0|                 1.4|              4118.0|                45.0|               247.1|             49179.0|             60009.0|                5.66|                1.88|                0.33|                0.13|                0.46|                 6.9|                19.0|                29.9|                26.3|                23.2|                23.2|                27.3|               348.0|                13.0|              3408.0|             37277.0|               608.0|                58.0|               148.0|               144.0|               155.0|                45.0|                 7.0|               318.0|                14.0|               367.0|               251.0|               486.0|               972.8|                30.9|                22.1|                23.1|                 4.9|                 2.6|                 7.9|                 0.4|                 8.0|               920.0|\n",
      "+---------+--------------------+-------------+----+--------------------+--------------------+--------------------+--------------------+--------------------+--------------------+--------------------+--------------------+--------------------+--------------------+--------------------+--------------------+--------------------+--------------------+--------------------+--------------------+--------------------+--------------------+--------------------+--------------------+--------------------+--------------------+--------------------+--------------------+--------------------+--------------------+--------------------+--------------------+--------------------+--------------------+--------------------+--------------------+--------------------+--------------------+--------------------+--------------------+--------------------+--------------------+--------------------+--------------------+--------------------+--------------------+--------------------+--------------------+--------------------+--------------------+--------------------+--------------------+--------------------+--------------------+--------------------+--------------------+--------------------+--------------------+--------------------+--------------------+--------------------+--------------------+--------------------+--------------------+--------------------+--------------------+--------------------+--------------------+--------------------+--------------------+--------------------+\n",
      "only showing top 20 rows\n",
      "\n"
     ]
    }
   ],
   "source": [
    "spark = (\n",
    "    SparkSession.builder.appName(\"project2 preprocessing\")\n",
    "    .config(\"spark.sql.repl.eagerEval.enabled\", True) \n",
    "    .config(\"spark.sql.parquet.cacheMetadata\", \"true\")\n",
    "    .config(\"spark.sql.session.timeZone\", \"Etc/UTC\")\n",
    "    .config(\"spark.driver.memory\", \"4g\")\n",
    "    .config(\"spark.executor.memory\", \"8g\")\n",
    "    .getOrCreate()\n",
    ")\n",
    "\n",
    "df=spark.read.csv(output_path)\n",
    "print(df)"
   ]
  }
 ],
 "metadata": {
  "kernelspec": {
   "display_name": ".venv",
   "language": "python",
   "name": "python3"
  },
  "language_info": {
   "codemirror_mode": {
    "name": "ipython",
    "version": 3
   },
   "file_extension": ".py",
   "mimetype": "text/x-python",
   "name": "python",
   "nbconvert_exporter": "python",
   "pygments_lexer": "ipython3",
   "version": "3.11.0"
  }
 },
 "nbformat": 4,
 "nbformat_minor": 2
}
