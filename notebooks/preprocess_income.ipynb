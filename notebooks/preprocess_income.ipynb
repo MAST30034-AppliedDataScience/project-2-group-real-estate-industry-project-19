{
 "cells": [
  {
   "cell_type": "code",
   "execution_count": 13,
   "metadata": {},
   "outputs": [
    {
     "name": "stderr",
     "output_type": "stream",
     "text": [
      "                                                                                \r"
     ]
    }
   ],
   "source": [
    "from urllib.request import urlretrieve\n",
    "from pyspark.sql import SparkSession\n",
    "from pyspark.sql import functions as F\n",
    "\n",
    "spark = (\n",
    "    SparkSession.builder.appName(\"project2 preprocessing\")\n",
    "    .config(\"spark.sql.repl.eagerEval.enabled\", True) \n",
    "    .config(\"spark.sql.parquet.cacheMetadata\", \"true\")\n",
    "    .config(\"spark.sql.session.timeZone\", \"Etc/UTC\")\n",
    "    .config(\"spark.driver.memory\", \"4g\")\n",
    "    .config(\"spark.executor.memory\", \"8g\")\n",
    "    .getOrCreate()\n",
    ")\n",
    "\n",
    "\n",
    "file_path=f\"../data/landing/income.csv\"\n",
    "output_path=f\"../data/raw/test.csv\"\n",
    "\n",
    "df=spark.read.csv(file_path, header=True, inferSchema=True)\n",
    "\n",
    "# Columns that should be included in every dataset\n",
    "common_columns = ['FID', 'sa2_maincode_2016', 'geometry', 'sa2_name_2016', 'yr']\n",
    "other_columns = \"estmts_prsnl_incme_yr_endd_30_jne_emplye_ernrs_nm|estmts_prsnl_incme_yr_endd_30_jne_emplye_ernrs_mdn_age_yrs|estimates_personal_income_year_ended_30_june_total_employee_m|estimates_personal_income_year_ended_30_june_median_employee|estimates_personal_income_year_ended_30_june_mean_employee|estmts_prsnl_incme_yr_endd_30_jne_emplye_mn_srce_of_pc|estmts_prsnl_incme_yr_endd_30_jne_unncrprtd_bsnss_ernrs_nm|estm_prsnl_incme_yr_end_30_jne_uncrptd_bsn_erns_mdn_age_yrs|estmts_prsnl_incme_yr_endd_30_jne_ttl_unncrprtd_bsnss_m|estmts_prsnl_incme_yr_endd_30_jne_mdn_unncrprtd_bsnss|estmts_prsnl_incme_yr_endd_30_jne_mn_unncrprtd_bsnss|estmts_prsnl_incme_yr_endd_30_jne_unncrprtd_bsnss_mn_srce_of_pc|estmts_prsnl_incme_yr_endd_30_jne_invstmnt_ernrs_nm|estmts_prsnl_incme_yr_endd_30_jne_invstmnt_ernrs_mdn_age_yrs|estimates_personal_income_year_ended_30_june_total_investment_m|estimates_personal_income_year_ended_30_june_median_investment|estimates_personal_income_year_ended_30_june_mean_investment|estmts_prsnl_incme_yr_endd_30_jne_invstmnt_mn_srce_of_pc|estmts_prsnl_incme_yr_endd_30_jne_sprnntn_annty_ernrs_nm|estm_prsnl_incme_yr_end_30_jne_sprnt_anty_erns_mdn_age_yrs|estmts_prsnl_incme_yr_endd_30_jne_ttl_sprnntn_annty_m|estmts_prsnl_incme_yr_endd_30_jne_mdn_sprnntn_annty|estmts_prsnl_incme_yr_endd_30_jne_mn_sprnntn_annty|estmts_prsnl_incme_yr_endd_30_jne_sprnntn_annty_mn_srce_of_pc|estm_prsnl_incme_yr_end_30_jne_tl_erns_excl_gvrnmt_pns_alwncs_n|estm_prsnl_incme_yr_end_30_jne_tl_erns_excl_gvrnmt_pns_alwncs_m|estm_prsnl_incme_yr_end_30_jne_tl_excl_gvrnmt_pns_alwncs_m|estm_prsnl_incme_yr_end_30_jne_mdn_tl_excl_gvrnmt_pns_alwncs|estm_prsnl_incme_yr_end_30_jne_mn_tl_excl_gvrnmt_pns_alwncs|estm_prsnl_incme_yr_end_30_jne_tl_excl_gvrnmt_pns_alwncs_p802_r|estm_prsnl_incme_yr_end_30_jne_tl_excl_gvrnmt_pns_alwncs_p805_r|estm_prsnl_incme_yr_end_30_jne_tl_excl_gvrnmt_pns_alwncs_p205_r|estm_prsnl_incme_yr_end_30_jne_tl_excl_gvrnmt_pns_alwncs_p105_r|estm_prsnl_incme_yr_end_30_jne_tl_excl_gvrnmt_pns_alwncs_gni_cf|estm_prsnl_incme_yr_end_30_jne_tl_excl_gvrnmt_pns_alwncs_shre_o|estm_prsnl_incme_yr_end_30_jne_tl_excl_gvrnmt_pns_alwncs_shre_0|estm_prsnl_incme_yr_end_30_jne_tl_excl_gvrnmt_pns_alwncs_shre_1|estm_prsnl_incme_yr_end_30_jne_tl_excl_gvrnmt_pns_alwncs_lwst_q|estm_prsnl_incme_yr_end_30_jne_tl_excl_gvrnmt_pns_alwncs_scnd_q|estm_prsnl_incme_yr_end_30_jne_tl_excl_gvrnmt_pns_alwncs_thrd_q|estm_prsnl_incme_yr_end_30_jne_tl_excl_gvrnmt_pns_alwncs_hgst_q|grss_cptl_gns_rprtd_txpyrs_yr_endd_30_jne_by_prsns_nm|grss_cptl_gns_rprtd_txpyrs_yr_endd_30_jne_by_amnt_m|grss_cptl_gns_rprtd_txpyrs_yr_endd_30_jne_by_mdn|grss_cptl_gns_rprtd_txpyrs_yr_endd_30_jne_by_mn|slctd_gvrnmnt_pnsns_allwncs_30_jne_age_pnsn_cntrlnk_nm|slctd_gvrnmnt_pnsns_allwncs_30_jne_crr_pymnt_nm|slctd_gvrnmnt_pnsns_allwncs_30_jne_crr_allwnce_nm|slctd_gvrnmnt_pnsns_allwncs_30_jne_dsblty_spprt_pnsn_nm|slctd_gvrnmnt_pnsns_allwncs_30_jne_nwstrt_allwnce_nm|slctd_gvrnmnt_pnsns_allwncs_30_jne_prntng_pymnt_sngle_nm|slctd_gvrnmnt_pnsns_allwncs_30_jne_prntng_pymnt_prtnrd_nm|slctd_gvrnmt_pns_alwncs_30_jne_yth_alwnce_fl_tme_stdnprc_nm|slctd_gvrnmnt_pnsns_allwncs_30_jne_yth_allwnce_nm|slctd_gvrnmnt_pnsns_allwncs_30_jne_fmly_tx_bnft_nm|slctd_gvrnmnt_pnsns_allwncs_30_jne_fmly_tx_bnft_b_nm|slctd_gvrnmnt_pnsns_allwncs_30_jne_cmmnwlth_rnt_assstnce_nm|exprmntl_hshld_wlth_estmts_mdlld_prvte_dwllngs_mn_nt_wrth|ttl_prsnl_incme_wkly_prsns_agd_15_yrs_cnss_ernng_1_499_pr_wk_pc|tl_prsnl_incme_wkly_prsn_agd_15_yrs_cns_erng_500_999_pr_wk_pc|tl_prsnl_incme_wkly_prsn_agd_15_yrs_cns_erng_1000_1999_pr_wk_pc|tl_prsnl_incme_wkly_prsn_agd_15_yrs_cns_erng_2000_2999_pr_wk_pc|ttl_prsnl_incme_wkly_prsns_agd_15_yrs_cnss_ernng_3000_pr_wk_pc|ttl_prsnl_incme_wkly_prsns_agd_15_yrs_cnss_ernng_nl_pc|ttl_prsnl_incme_wkly_prsns_agd_15_yrs_cnss_ngtve_pc|tl_prsnl_incme_wkly_prsn_agd_15_yrs_cns_indqtly_dscrb_std_pc|equivalised_total_household_income_census_median_weekly\".split(\"|\")\n",
    "\n",
    "# Number of columns in the DataFrame\n",
    "total_columns = len(df.columns)\n",
    "\n",
    "# Threshold: Keep rows with at least half of the columns non-null\n",
    "thresh_value = total_columns // 2 + 1  # Half of columns, rounded up\n",
    "\n",
    "# Drop rows that have less than thresh_value non-null values\n",
    "df_cleaned = df.dropna(thresh=thresh_value)"
   ]
  },
  {
   "cell_type": "code",
   "execution_count": 14,
   "metadata": {},
   "outputs": [
    {
     "name": "stderr",
     "output_type": "stream",
     "text": [
      "                                                                                \r"
     ]
    }
   ],
   "source": [
    "columns_with_null=[]\n",
    "\n",
    "for column in df.columns:\n",
    "    # Filter rows where a column has null values\n",
    "    df_null = df_cleaned.filter(df_cleaned[column].isNull())\n",
    "\n",
    "# Count rows with null values\n",
    "    null_count = df_null.count()\n",
    "\n",
    "    if (null_count>0):\n",
    "        columns_with_null.append(column)\n"
   ]
  },
  {
   "cell_type": "code",
   "execution_count": 15,
   "metadata": {},
   "outputs": [],
   "source": [
    "from pyspark.sql.functions import col, when, avg\n",
    "from pyspark.sql import Window\n",
    "from pyspark.sql.functions import coalesce, lag, lead\n",
    "\n",
    "\n",
    "def null_filler(df, column_name):\n",
    "# Create a window specification partitioned by sa2_maincode_2016 and ordered by yr\n",
    "    window_spec = Window.partitionBy('sa2_maincode_2016').orderBy('yr')\n",
    "\n",
    "# Use lag (previous year) and lead (next year) functions\n",
    "    df_with_adjacent_values = df.withColumn('prev_year_value', lag(column_name).over(window_spec)) \\\n",
    "                            .withColumn('next_year_value', lead(column_name).over(window_spec))\n",
    "\n",
    "\n",
    "# Calculate the average of prev_year_value and next_year_value, ignoring nulls\n",
    "    df_filled = df_with_adjacent_values.withColumn('filled_value',\n",
    "        when(\n",
    "            col(column_name).isNull(), \n",
    "            (coalesce(col('prev_year_value'), col('next_year_value')) + coalesce(col('next_year_value'), col('prev_year_value'))) / 2\n",
    "        ).otherwise(col(column_name))\n",
    "    )\n",
    "\n",
    "# Handle cases where both prev_year_value and next_year_value are null\n",
    "    df_filled = df_filled.withColumn('filled_value',\n",
    "        when(\n",
    "            col('filled_value').isNull(), \n",
    "            lag('prev_year_value', 2).over(window_spec)  # or lead for next 2 years\n",
    "        ).otherwise(col('filled_value'))\n",
    "    )\n",
    "\n",
    "    df_final = df_filled.withColumn(column_name, col('filled_value')).drop('prev_year_value', 'next_year_value', 'filled_value')\n",
    "    return(df_final)\n"
   ]
  },
  {
   "cell_type": "code",
   "execution_count": 16,
   "metadata": {},
   "outputs": [],
   "source": [
    "def null_filler_multi(df, columns_list):\n",
    "    for column in columns_list:\n",
    "        df=null_filler(df, column)\n",
    "    return df\n",
    "\n",
    "df_filled=null_filler_multi(df_cleaned, columns_with_null)"
   ]
  },
  {
   "cell_type": "code",
   "execution_count": 17,
   "metadata": {},
   "outputs": [
    {
     "name": "stderr",
     "output_type": "stream",
     "text": [
      "24/09/20 10:09:36 WARN DAGScheduler: Broadcasting large task binary with size 2.4 MiB\n",
      "                                                                                \r"
     ]
    }
   ],
   "source": [
    "from pyspark.sql import SparkSession\n",
    "\n",
    "spark = (\n",
    "    SparkSession.builder.appName(\"project2 preprocessing\")\n",
    "    .config(\"spark.sql.repl.eagerEval.enabled\", True) \n",
    "    .config(\"spark.sql.parquet.cacheMetadata\", \"true\")\n",
    "    .config(\"spark.sql.session.timeZone\", \"Etc/UTC\")\n",
    "    .config(\"spark.driver.memory\", \"4g\")\n",
    "    .config(\"spark.executor.memory\", \"8g\")\n",
    "    .getOrCreate()\n",
    ")\n",
    "\n",
    "output_path=f\"../data/raw/income.csv\"\n",
    "df_filled=df_filled.drop(\"geometry\")\n",
    "df_filled.write.csv(output_path, header=True, mode=\"overwrite\")"
   ]
  },
  {
   "cell_type": "code",
   "execution_count": 18,
   "metadata": {},
   "outputs": [
    {
     "name": "stdout",
     "output_type": "stream",
     "text": [
      "+--------------------+-----------------+--------------------+----+--------------------+--------------------+--------------------+--------------------+--------------------+--------------------+--------------------+--------------------+--------------------+--------------------+--------------------+--------------------+--------------------+--------------------+--------------------+--------------------+--------------------+--------------------+--------------------+--------------------+--------------------+--------------------+--------------------+--------------------+--------------------+--------------------+--------------------+--------------------+--------------------+--------------------+--------------------+--------------------+--------------------+--------------------+--------------------+--------------------+--------------------+--------------------+--------------------+--------------------+--------------------+--------------------+--------------------+--------------------+--------------------+--------------------+--------------------+--------------------+--------------------+--------------------+--------------------+--------------------+--------------------+--------------------+--------------------+--------------------+--------------------+--------------------+--------------------+--------------------+--------------------+--------------------+--------------------+--------------------+--------------------+--------------------+--------------------+\n",
      "|                 _c0|              _c1|                 _c2| _c3|                 _c4|                 _c5|                 _c6|                 _c7|                 _c8|                 _c9|                _c10|                _c11|                _c12|                _c13|                _c14|                _c15|                _c16|                _c17|                _c18|                _c19|                _c20|                _c21|                _c22|                _c23|                _c24|                _c25|                _c26|                _c27|                _c28|                _c29|                _c30|                _c31|                _c32|                _c33|                _c34|                _c35|                _c36|                _c37|                _c38|                _c39|                _c40|                _c41|                _c42|                _c43|                _c44|                _c45|                _c46|                _c47|                _c48|                _c49|                _c50|                _c51|                _c52|                _c53|                _c54|                _c55|                _c56|                _c57|                _c58|                _c59|                _c60|                _c61|                _c62|                _c63|                _c64|                _c65|                _c66|                _c67|                _c68|                _c69|                _c70|\n",
      "+--------------------+-----------------+--------------------+----+--------------------+--------------------+--------------------+--------------------+--------------------+--------------------+--------------------+--------------------+--------------------+--------------------+--------------------+--------------------+--------------------+--------------------+--------------------+--------------------+--------------------+--------------------+--------------------+--------------------+--------------------+--------------------+--------------------+--------------------+--------------------+--------------------+--------------------+--------------------+--------------------+--------------------+--------------------+--------------------+--------------------+--------------------+--------------------+--------------------+--------------------+--------------------+--------------------+--------------------+--------------------+--------------------+--------------------+--------------------+--------------------+--------------------+--------------------+--------------------+--------------------+--------------------+--------------------+--------------------+--------------------+--------------------+--------------------+--------------------+--------------------+--------------------+--------------------+--------------------+--------------------+--------------------+--------------------+--------------------+--------------------+--------------------+--------------------+\n",
      "|                 FID|sa2_maincode_2016|       sa2_name_2016|  yr|estmts_prsnl_incm...|estmts_prsnl_incm...|estimates_persona...|estimates_persona...|estimates_persona...|estmts_prsnl_incm...|estmts_prsnl_incm...|estm_prsnl_incme_...|estmts_prsnl_incm...|estmts_prsnl_incm...|estmts_prsnl_incm...|estmts_prsnl_incm...|estmts_prsnl_incm...|estmts_prsnl_incm...|estimates_persona...|estimates_persona...|estimates_persona...|estmts_prsnl_incm...|estmts_prsnl_incm...|estm_prsnl_incme_...|estmts_prsnl_incm...|estmts_prsnl_incm...|estmts_prsnl_incm...|estmts_prsnl_incm...|estm_prsnl_incme_...|estm_prsnl_incme_...|estm_prsnl_incme_...|estm_prsnl_incme_...|estm_prsnl_incme_...|estm_prsnl_incme_...|estm_prsnl_incme_...|estm_prsnl_incme_...|estm_prsnl_incme_...|estm_prsnl_incme_...|estm_prsnl_incme_...|estm_prsnl_incme_...|estm_prsnl_incme_...|estm_prsnl_incme_...|estm_prsnl_incme_...|estm_prsnl_incme_...|estm_prsnl_incme_...|grss_cptl_gns_rpr...|grss_cptl_gns_rpr...|grss_cptl_gns_rpr...|grss_cptl_gns_rpr...|slctd_gvrnmnt_pns...|slctd_gvrnmnt_pns...|slctd_gvrnmnt_pns...|slctd_gvrnmnt_pns...|slctd_gvrnmnt_pns...|slctd_gvrnmnt_pns...|slctd_gvrnmnt_pns...|slctd_gvrnmt_pns_...|slctd_gvrnmnt_pns...|slctd_gvrnmnt_pns...|slctd_gvrnmnt_pns...|slctd_gvrnmnt_pns...|exprmntl_hshld_wl...|ttl_prsnl_incme_w...|tl_prsnl_incme_wk...|tl_prsnl_incme_wk...|tl_prsnl_incme_wk...|ttl_prsnl_incme_w...|ttl_prsnl_incme_w...|ttl_prsnl_incme_w...|tl_prsnl_incme_wk...|equivalised_total...|\n",
      "|abs_data_by_regio...|        101021008|             Karabar|2014|                4690|                  40|               269.0|               54157|               57355|                85.2|               463.0|                47.0|                 9.1|             11363.0|             19634.0|                 4.4|              3136.0|                46.0|                 8.6|               189.0|              2733.0|                 6.5|               302.0|                60.0|                 9.5|             25054.0|             31464.0|                 3.5|                4789|                  43|               281.6|               53942|               58792|                3.38|                 1.6|                0.47|                0.25|               0.367|                 4.4|                14.4|                24.2|                17.3|                23.2|                32.4|                27.0|               201.0|                 4.0|              2197.0|             19970.0|               704.0|                66.0|                NULL|               368.0|               218.0|               145.0|                NULL|                28.0|                38.0|               583.0|               527.0|                NULL|                NULL|                NULL|                NULL|                NULL|                NULL|                NULL|                NULL|                NULL|                NULL|                NULL|\n",
      "|abs_data_by_regio...|        101021008|             Karabar|2015|                4806|                  40|               283.3|               55369|               58943|                84.5|               469.0|                46.0|                 8.4|             10503.0|             17884.0|                 4.4|              3214.0|                46.0|                 7.7|               192.0|              2399.0|                 7.0|               339.0|                60.0|                10.5|             25399.0|             30999.0|                 3.9|                4866|                  43|               289.8|               54942|               59548|                3.43|                 1.6|                0.47|                0.25|               0.369|                 4.4|                14.4|                24.2|                17.4|                24.0|                31.7|                27.0|               198.0|                 3.8|              2277.0|             18970.0|               704.0|                66.0|                NULL|               368.0|               218.0|               145.0|                NULL|                28.0|                38.0|               582.0|               519.0|                NULL|               908.6|                24.2|                24.8|                28.6|                 6.4|                 1.6|                 6.5|                 0.5|                 7.5|              1008.0|\n",
      "|abs_data_by_regio...|        101021008|             Karabar|2016|                4903|                  40|               296.6|               56591|               60495|                85.1|               452.0|                47.0|                 8.7|              9495.0|             19153.0|                 4.2|              3303.0|                46.0|                 9.3|               137.0|              2829.0|                 6.4|               356.0|                60.0|                11.6|             27011.0|             32566.0|                 4.0|                4937|                  42|               301.6|               55870|               61093|                3.55|                1.62|                0.46|                0.23|               0.376|                 4.6|                14.9|                24.8|                18.1|                23.7|                31.6|                26.6|               217.0|                 4.5|              2080.0|             20942.0|               735.0|                65.0|               195.0|               333.0|               215.0|               141.0|                18.0|                28.0|                41.0|               564.0|               483.0|               380.0|               908.6|                24.2|                24.8|                28.6|                 6.4|                 1.6|                 6.5|                 0.5|                 7.5|              1008.0|\n",
      "|abs_data_by_regio...|        101021008|             Karabar|2017|                4960|                  40|               304.8|               58359|               61447|                85.4|               439.0|                47.0|                 9.0|             10828.0|             20508.0|                 4.0|              3223.0|                46.0|                 9.0|               118.0|              2796.0|                 6.1|               372.0|                61.0|                13.5|             29310.0|             36288.0|                 4.3|                4988|                  42|               311.9|               57880|               62535|                3.32|                1.59|                0.48|                0.25|               0.362|                 4.2|                14.3|                24.1|                16.2|                24.2|                32.6|                27.0|               218.0|                 2.6|              2385.0|             11700.0|               720.0|                65.0|               195.0|               320.0|               200.0|               142.0|                18.0|                18.0|                30.0|               535.0|               446.0|               380.0|               908.6|                24.2|                24.8|                28.6|                 6.4|                 1.6|                 6.5|                 0.5|                 7.5|              1008.0|\n",
      "|abs_data_by_regio...|        101021009|          Queanbeyan|2014|                5929|                  37|               338.3|               54151|               57062|                84.3|               650.0|                45.0|                10.7|              7749.0|             16529.0|                 4.7|              3957.0|                42.0|                16.0|               185.0|              4034.0|                 7.1|               391.0|                62.0|                11.0|             24000.0|             28257.0|                 3.6|                6049|                  39|               353.1|               53975|               58375|                3.32|                1.58|                0.48|                0.26|               0.361|                 4.2|                14.2|                24.0|                17.1|                23.8|                32.5|                26.6|               246.0|                 6.5|              1934.0|             26293.0|              1233.0|                52.0|                NULL|               475.0|               324.0|               132.0|                NULL|                52.0|                61.0|               657.0|               567.0|                NULL|                NULL|                NULL|                NULL|                NULL|                NULL|                NULL|                NULL|                NULL|                NULL|                NULL|\n",
      "|abs_data_by_regio...|        101021009|          Queanbeyan|2015|                6079|                  37|               356.3|               55872|               58607|                84.1|               622.0|                45.0|                12.2|              9372.0|             19676.0|                 4.8|              4069.0|                42.0|                15.6|               169.0|              3836.0|                 7.0|               423.0|                63.0|                13.0|             24744.0|             30662.0|                 3.9|                6194|                  40|               367.4|               54716|               59310|                3.33|                1.58|                0.47|                0.25|               0.368|                 4.6|                14.7|                24.4|                17.4|                24.2|                32.0|                26.4|               275.0|                 6.1|              2589.0|             22277.0|              1233.0|                52.0|                NULL|               475.0|               324.0|               132.0|                NULL|                52.0|                61.0|               635.0|               564.0|                NULL|               697.4|                21.2|                25.3|                29.0|                 5.7|                 1.5|                 5.4|                 0.4|                11.5|              1020.0|\n",
      "|abs_data_by_regio...|        101021009|          Queanbeyan|2016|                6320|                  37|               380.3|               56111|               60181|                84.7|               622.0|                45.0|                12.1|             11119.0|             19458.0|                 4.8|              4258.0|                42.0|                14.8|               119.0|              3465.0|                 6.5|               427.0|                63.0|                13.5|             25285.0|             31731.0|                 3.8|                6419|                  39|               390.0|               54999|               60764|                3.41|                1.63|                0.48|                0.27|               0.366|                 4.4|                14.5|                24.3|                16.7|                24.8|                31.7|                26.7|               276.0|                 9.0|              3401.0|             32651.0|              1252.0|                56.0|               204.0|               466.0|               291.0|               151.0|                22.0|                62.0|                35.0|               669.0|               565.0|               782.0|               697.4|                21.2|                25.3|                29.0|                 5.7|                 1.5|                 5.4|                 0.4|                11.5|              1020.0|\n",
      "|abs_data_by_regio...|        101021009|          Queanbeyan|2017|                6436|                  37|               386.1|               56350|               59983|                85.5|               589.0|                45.0|                11.9|              9503.0|             20140.0|                 4.1|              4159.0|                42.0|                13.6|               104.0|              3261.0|                 6.0|               452.0|                61.0|                14.1|             24926.0|             31271.0|                 3.9|                6486|                  39|               395.4|               55376|               60958|                3.42|                1.61|                0.47|                0.26|                0.37|                 4.8|                14.9|                24.6|                17.0|                25.0|                32.5|                25.5|               291.0|                 9.2|              3607.0|             31527.0|              1206.0|                60.0|               204.0|               435.0|               295.0|               145.0|                22.0|                44.0|                35.0|               617.0|               520.0|               782.0|               697.4|                21.2|                25.3|                29.0|                 5.7|                 1.5|                 5.4|                 0.4|                11.5|              1020.0|\n",
      "|abs_data_by_regio...|        101021012|Queanbeyan West -...|2014|                7446|                  41|               533.6|               65969|               71661|                84.1|               769.0|                46.0|                20.0|              9765.0|             26070.0|                 4.3|              5849.0|                44.0|                32.1|               195.0|              5484.0|                 7.9|               583.0|                59.0|                20.8|             27712.0|             35692.0|                 3.5|                7843|                  43|               588.2|               65961|               74993|                3.67|                1.66|                0.45|                0.24|               0.398|                 5.4|                16.6|                26.9|                15.0|                18.3|                25.3|                41.3|               581.0|                12.9|              2332.0|             22264.0|               508.0|                40.0|                NULL|               171.0|                98.0|                88.0|                NULL|                38.0|                22.0|               492.0|               478.0|                NULL|                NULL|                NULL|                NULL|                NULL|                NULL|                NULL|                NULL|                NULL|                NULL|                NULL|\n",
      "|abs_data_by_regio...|        101021012|Queanbeyan West -...|2015|                7824|                  41|               575.0|               67421|               73494|                83.5|               794.0|                46.0|                20.6|             10897.0|             25887.0|                 4.5|              5972.0|                45.0|                30.7|               184.0|              5137.0|                 7.8|               601.0|                59.0|                22.7|             30477.0|             37769.0|                 4.0|                8067|                  43|               618.6|               67545|               76685|                3.67|                1.65|                0.45|                0.24|               0.398|                 5.2|                16.4|                26.9|                15.3|                18.0|                26.1|                40.6|               612.0|                22.3|              2820.0|             36392.0|               508.0|                40.0|                NULL|               171.0|                98.0|                88.0|                NULL|                38.0|                22.0|               489.0|               477.0|                NULL|              1453.8|                17.6|                17.5|                32.1|                12.9|                 6.7|                 7.7|                 0.3|                 5.3|              1428.0|\n",
      "|abs_data_by_regio...|        101021012|Queanbeyan West -...|2016|                7782|                  41|               590.5|               68407|               75886|                83.3|               769.0|                47.0|                23.8|             12797.0|             30997.0|                 4.6|              6018.0|                45.0|                33.9|               159.0|              5627.0|                 7.8|               615.0|                59.0|                24.3|             31597.0|             39530.0|                 4.0|                8039|                  44|               639.3|               68719|               79526|                3.91|                1.69|                0.43|                0.22|               0.408|                 5.8|                17.2|                27.7|                15.1|                18.7|                25.0|                41.2|               591.0|                11.8|              2561.0|             19997.0|               530.0|                33.0|               173.0|               167.0|                98.0|                79.0|                 7.0|                36.0|                20.0|               462.0|               365.0|               232.0|              1453.8|                17.6|                17.5|                32.1|                12.9|                 6.7|                 7.7|                 0.3|                 5.3|              1428.0|\n",
      "|abs_data_by_regio...|        101021012|Queanbeyan West -...|2017|                7997|                  42|               611.3|               68696|               76441|                83.4|               732.0|                48.0|                24.8|             12768.0|             33844.0|                 4.1|              6046.0|                45.0|                36.1|               137.0|              5975.0|                 7.6|               679.0|                59.0|                27.7|             32390.0|             40810.0|                 4.4|                8272|                  44|               668.0|               69787|               80753|                3.93|                1.68|                0.43|                0.21|               0.413|                 6.1|                17.7|                28.3|                15.6|                18.0|                25.5|                40.9|               607.0|                80.5|              3804.0|            132583.0|               533.0|                37.0|               173.0|               163.0|                87.0|                76.0|                 7.0|                22.0|                16.0|               427.0|               327.0|               232.0|              1453.8|                17.6|                17.5|                32.1|                12.9|                 6.7|                 7.7|                 0.3|                 5.3|              1428.0|\n",
      "|abs_data_by_regio...|        101031014|               Cooma|2014|                3314|                  43|               155.0|               40542|               46770|                72.8|               759.0|                53.0|                13.3|              9504.0|             17487.0|                 9.7|              2688.0|                51.0|                17.6|               410.0|              6550.0|                12.7|               231.0|                65.0|                 6.9|             25095.0|             29981.0|                 3.9|                3752|                  47|               186.1|               41771|               49602|                4.33|                1.79|                0.41|                0.18|               0.434|                 6.1|                18.4|                29.0|                25.3|                30.0|                25.8|                18.9|               225.0|                 5.2|              2716.0|             23309.0|              1070.0|                65.0|                NULL|               388.0|               231.0|                80.0|                NULL|                22.0|                68.0|               519.0|               415.0|                NULL|                NULL|                NULL|                NULL|                NULL|                NULL|                NULL|                NULL|                NULL|                NULL|                NULL|\n",
      "|abs_data_by_regio...|        101031014|               Cooma|2015|                3317|                  43|               155.6|               41878|               46908|                72.4|               730.0|                53.0|                16.6|             13231.0|             22697.0|                10.4|              2630.0|                51.0|                19.3|               367.0|              7324.0|                12.7|               239.0|                66.0|                 6.8|             25297.0|             28590.0|                 3.8|                3711|                  47|               188.2|               43231|               50712|                4.56|                1.76|                0.39|                0.16|               0.434|                 5.7|                18.0|                28.8|                26.3|                28.6|                26.5|                18.7|               252.0|                 8.1|              4382.0|             32151.0|              1070.0|                65.0|                NULL|               388.0|               231.0|                80.0|                NULL|                22.0|                68.0|               486.0|               400.0|                NULL|               814.7|                31.0|                27.3|                17.6|                 2.8|                 1.5|                 4.8|                 0.4|                14.6|               691.0|\n",
      "|abs_data_by_regio...|        101031014|               Cooma|2016|                3286|                  42|               157.7|               41936|               48006|                72.1|               709.0|                54.0|                17.7|             15148.0|             24949.0|                11.0|              2579.0|                51.0|                16.1|               300.0|              6234.0|                12.0|               233.0|                66.0|                 6.7|             23661.0|             28789.0|                 4.1|                3680|                  47|               187.9|               43586|               51063|                4.45|                1.78|                 0.4|                0.17|               0.433|                 5.6|                17.9|                28.7|                26.4|                28.8|                26.3|                18.5|               214.0|                 3.7|              2098.0|             17437.0|              1102.0|                68.0|               169.0|               377.0|               222.0|                97.0|                33.0|                31.0|                43.0|               507.0|               412.0|               663.0|               814.7|                31.0|                27.3|                17.6|                 2.8|                 1.5|                 4.8|                 0.4|                14.6|               691.0|\n",
      "|abs_data_by_regio...|        101031014|               Cooma|2017|                3378|                  42|               161.6|               42291|               47838|                73.3|               741.0|                53.0|                18.5|             12682.0|             24900.0|                10.2|              2588.0|                51.0|                17.0|               283.0|              6560.0|                11.8|               232.0|                67.0|                 7.2|             26079.0|             31034.0|                 3.9|                3800|                  47|               195.0|               43326|               51324|                4.52|                1.82|                 0.4|                0.17|               0.443|                 5.5|                18.0|                29.0|                26.0|                30.0|                25.2|                18.8|               256.0|                13.0|              5002.0|             50589.0|              1091.0|                64.0|               169.0|               369.0|               256.0|               119.0|                33.0|                13.0|                49.0|               494.0|               403.0|               663.0|               814.7|                31.0|                27.3|                17.6|                 2.8|                 1.5|                 4.8|                 0.4|                14.6|               691.0|\n",
      "|abs_data_by_regio...|        101041017|        Batemans Bay|2014|                2889|                  43|               109.2|               32502|               37792|                63.4|               710.0|                51.0|                13.6|             13000.0|             19166.0|                11.5|              2552.0|                56.0|                17.9|               500.0|              7008.0|                17.7|               342.0|                64.0|                 9.8|             23821.0|             28695.0|                 6.3|                3633|                  51|               145.8|               33561|               40126|                5.07|                1.76|                0.35|                0.12|                0.46|                 7.0|                19.8|                31.0|                33.8|                34.1|                21.0|                11.2|               239.0|                 4.9|              4175.0|             20656.0|              1671.0|               164.0|                NULL|               569.0|               402.0|               161.0|                NULL|                24.0|                71.0|               634.0|               509.0|                NULL|                NULL|                NULL|                NULL|                NULL|                NULL|                NULL|                NULL|                NULL|                NULL|                NULL|\n",
      "|abs_data_by_regio...|        101041017|        Batemans Bay|2015|                3036|                  43|               114.5|               32097|               37707|                63.7|               717.0|                51.0|                15.3|             14239.0|             21278.0|                11.5|              2584.0|                56.0|                18.4|               453.0|              7133.0|                17.8|               339.0|                65.0|                10.0|             25190.0|             29514.0|                 6.2|                3698|                  51|               151.5|               34370|               40959|                4.97|                1.74|                0.35|                0.13|               0.458|                 7.3|                20.0|                30.9|                33.7|                33.6|                22.2|                10.5|               270.0|                 7.5|              4497.0|             27681.0|              1671.0|               164.0|                NULL|               569.0|               402.0|               161.0|                NULL|                24.0|                71.0|               657.0|               539.0|                NULL|               832.2|                38.4|                28.2|                13.3|                 1.5|                 1.0|                 4.9|                 0.4|                12.2|               611.0|\n",
      "|abs_data_by_regio...|        101041017|        Batemans Bay|2016|                2958|                  43|               117.5|               35581|               39729|                64.4|               658.0|                52.0|                14.6|             17700.0|             22203.0|                11.3|              2601.0|                56.0|                18.4|               361.0|              7064.0|                16.8|               345.0|                64.0|                10.9|             25110.0|             31637.0|                 6.7|                3724|                  50|               157.1|               36310|               42183|                 4.8|                1.71|                0.36|                0.12|                0.45|                 6.9|                19.3|                30.3|                31.6|                34.6|                22.8|                11.1|               257.0|                17.1|              4957.0|             66439.0|              1693.0|               172.0|               334.0|               545.0|               379.0|               161.0|                57.0|                21.0|                59.0|               661.0|               533.0|               877.0|               832.2|                38.4|                28.2|                13.3|                 1.5|                 1.0|                 4.9|                 0.4|                12.2|               611.0|\n",
      "+--------------------+-----------------+--------------------+----+--------------------+--------------------+--------------------+--------------------+--------------------+--------------------+--------------------+--------------------+--------------------+--------------------+--------------------+--------------------+--------------------+--------------------+--------------------+--------------------+--------------------+--------------------+--------------------+--------------------+--------------------+--------------------+--------------------+--------------------+--------------------+--------------------+--------------------+--------------------+--------------------+--------------------+--------------------+--------------------+--------------------+--------------------+--------------------+--------------------+--------------------+--------------------+--------------------+--------------------+--------------------+--------------------+--------------------+--------------------+--------------------+--------------------+--------------------+--------------------+--------------------+--------------------+--------------------+--------------------+--------------------+--------------------+--------------------+--------------------+--------------------+--------------------+--------------------+--------------------+--------------------+--------------------+--------------------+--------------------+--------------------+--------------------+--------------------+\n",
      "only showing top 20 rows\n",
      "\n"
     ]
    }
   ],
   "source": [
    "spark = (\n",
    "    SparkSession.builder.appName(\"project2 preprocessing\")\n",
    "    .config(\"spark.sql.repl.eagerEval.enabled\", True) \n",
    "    .config(\"spark.sql.parquet.cacheMetadata\", \"true\")\n",
    "    .config(\"spark.sql.session.timeZone\", \"Etc/UTC\")\n",
    "    .config(\"spark.driver.memory\", \"4g\")\n",
    "    .config(\"spark.executor.memory\", \"8g\")\n",
    "    .getOrCreate()\n",
    ")\n",
    "\n",
    "df=spark.read.csv(output_path)\n",
    "print(df)"
   ]
  }
 ],
 "metadata": {
  "kernelspec": {
   "display_name": ".venv",
   "language": "python",
   "name": "python3"
  },
  "language_info": {
   "codemirror_mode": {
    "name": "ipython",
    "version": 3
   },
   "file_extension": ".py",
   "mimetype": "text/x-python",
   "name": "python",
   "nbconvert_exporter": "python",
   "pygments_lexer": "ipython3",
   "version": "3.11.0"
  }
 },
 "nbformat": 4,
 "nbformat_minor": 2
}
