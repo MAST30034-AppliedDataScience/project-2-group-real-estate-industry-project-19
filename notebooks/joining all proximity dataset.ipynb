{
 "cells": [
  {
   "cell_type": "code",
   "execution_count": 6,
   "metadata": {},
   "outputs": [
    {
     "name": "stdout",
     "output_type": "stream",
     "text": [
      "Merged dataset saved at /home/Daniel Bi/project two/data/landing/rental_merged.csv\n"
     ]
    }
   ],
   "source": [
    "import pandas as pd\n",
    "\n",
    "# File paths\n",
    "distances_cbd_trains_schools_path = '/home/Daniel Bi/project two/data/landing/rental_distances_cbd_trains_schools.csv'\n",
    "parks_path = '/home/Daniel Bi/project two/data/landing/rental_with_parks.csv'\n",
    "shopping_path = '/home/Daniel Bi/project two/data/landing/rental_with_shopping.csv'\n",
    "\n",
    "# Step 1: Load all three datasets\n",
    "df_cbd_trains_schools = pd.read_csv(distances_cbd_trains_schools_path)\n",
    "df_parks = pd.read_csv(parks_path)\n",
    "df_shopping = pd.read_csv(shopping_path)\n",
    "\n",
    "# Step 2: Align based on the 'property_index' in the main dataset and shift the index correctly\n",
    "# Add 1 to the index of parks and shopping to account for the 0-based index in the main dataset\n",
    "# However, we subtract 1 to fix the mismatch and properly align the rows\n",
    "df_parks['property_index'] = df_parks.index  # Correct the index alignment\n",
    "df_shopping['property_index'] = df_shopping.index  # Correct the index alignment\n",
    "\n",
    "# Step 3: Select non-overlapping columns to append from parks and shopping datasets\n",
    "columns_to_append_parks = ['nearest_parks_name', 'nearest_parks_latitude', 'nearest_parks_longitude',\n",
    "                           'straight_line_distance_parks', 'route_distance_parks']\n",
    "columns_to_append_shopping = ['nearest_shopping_name', 'nearest_shopping_latitude', 'nearest_shopping_longitude',\n",
    "                              'straight_line_distance_shopping', 'route_distance_shopping']\n",
    "\n",
    "# Step 4: Merge the columns from the parks dataset\n",
    "df_merged = pd.merge(df_cbd_trains_schools, df_parks[['property_index'] + columns_to_append_parks], \n",
    "                     on='property_index', how='left')\n",
    "\n",
    "# Step 5: Merge the columns from the shopping dataset\n",
    "df_merged = pd.merge(df_merged, df_shopping[['property_index'] + columns_to_append_shopping], \n",
    "                     on='property_index', how='left')\n",
    "\n",
    "# Step 6: Save the merged dataset\n",
    "output_path = '/home/Daniel Bi/project two/data/landing/rental_merged.csv'\n",
    "df_merged.to_csv(output_path, index=False)\n",
    "\n",
    "print(f\"Merged dataset saved at {output_path}\")\n",
    "\n",
    "\n"
   ]
  }
 ],
 "metadata": {
  "kernelspec": {
   "display_name": "Python 3",
   "language": "python",
   "name": "python3"
  },
  "language_info": {
   "codemirror_mode": {
    "name": "ipython",
    "version": 3
   },
   "file_extension": ".py",
   "mimetype": "text/x-python",
   "name": "python",
   "nbconvert_exporter": "python",
   "pygments_lexer": "ipython3",
   "version": "3.10.12"
  }
 },
 "nbformat": 4,
 "nbformat_minor": 2
}
