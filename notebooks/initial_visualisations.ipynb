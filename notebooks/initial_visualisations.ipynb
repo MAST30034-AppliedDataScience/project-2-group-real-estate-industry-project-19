{
 "cells": [
  {
   "cell_type": "code",
   "execution_count": null,
   "metadata": {},
   "outputs": [],
   "source": [
    "import geopandas as gpd\n",
    "import matplotlib.pyplot as plt\n",
    "\n",
    "# Step 1: Load the shapefile\n",
    "shapefile_path = \"parks_and_reserves_shapefile/parks-and-reserves1.shp\"  # Adjust the path as needed\n",
    "gdf = gpd.read_file(shapefile_path)\n",
    "\n",
    "# Step 2: Create the plot\n",
    "fig, ax = plt.subplots(figsize=(10, 10))\n",
    "gdf.plot(ax=ax, edgecolor='k', color='green')\n",
    "plt.title('Parks and Reserves in Victoria')\n",
    "\n",
    "# Step 3: Save the plot to a file\n",
    "output_path = \"plots/parks_and_reserves_visualization.png\"\n",
    "plt.savefig(output_path, dpi=300)  # Save as a PNG with 300 DPI for high quality\n",
    "\n",
    "# Optionally, you can also display the plot\n",
    "# plt.show()\n"
   ]
  },
  {
   "cell_type": "code",
   "execution_count": null,
   "metadata": {},
   "outputs": [],
   "source": [
    "import requests\n",
    "import zipfile\n",
    "import io\n",
    "import os\n",
    "import geopandas as gpd\n",
    "import matplotlib.pyplot as plt\n",
    "\n",
    "# Step 1: Download the shapefile\n",
    "url = \"https://www.abs.gov.au/statistics/standards/australian-statistical-geography-standard-asgs-edition-3/jul2021-jun2026/access-and-downloads/digital-boundary-files/SA2_2021_AUST_SHP_GDA2020.zip\"\n",
    "response = requests.get(url)\n",
    "zip_file = zipfile.ZipFile(io.BytesIO(response.content))\n",
    "extract_path = \"sa2_shapefile\"\n",
    "zip_file.extractall(extract_path)  # Extract to a folder named \"sa2_shapefile\"\n",
    "\n",
    "# Step 2: Load the shapefile\n",
    "shapefile_name = \"SA2_2021_AUST_GDA2020.shp\"\n",
    "shapefile_path = os.path.join(extract_path, shapefile_name)\n",
    "\n",
    "gdf = gpd.read_file(shapefile_path)\n",
    "\n",
    "# Step 3: Filter to only include areas within Victoria (State code 2)\n",
    "victoria_gdf = gdf[gdf['STE_CODE21'] == '2']\n",
    "\n",
    "# Step 4: Plot the Victoria SA2 regions\n",
    "fig, ax = plt.subplots(figsize=(10, 10))\n",
    "victoria_gdf.plot(ax=ax, edgecolor='k', color='lightblue')\n",
    "plt.title('SA2 Regions in Victoria, Australia')\n",
    "\n",
    "# Step 5: Save the plot to a file\n",
    "output_path = \"plots/victoria_sa2_regions.png\"\n",
    "plt.savefig(output_path, dpi=300)  # Save as a PNG with 300 DPI for high quality"
   ]
  },
  {
   "cell_type": "code",
   "execution_count": null,
   "metadata": {},
   "outputs": [],
   "source": [
    "\n",
    "\n",
    "import geopandas as gpd\n",
    "import matplotlib.pyplot as plt\n",
    "\n",
    "# Step 1: Load the shapefile\n",
    "shapefile_path = \"/data/landing/parks_and_reserves_shapefile/parks-and-reserves1.shp\"  # Adjust the path as needed\n",
    "gdf = gpd.read_file(shapefile_path)\n",
    "\n",
    "# Step 2: Create the plot\n",
    "fig, ax = plt.subplots(figsize=(10, 10))\n",
    "gdf.plot(ax=ax, edgecolor='k', color='green')\n",
    "plt.title('Parks and Reserves in Victoria')\n",
    "\n",
    "# Step 3: Save the plot to a file\n",
    "output_path = \"parks_and_reserves_visualization.png\"\n",
    "plt.savefig(output_path, dpi=300)  # Save as a PNG with 300 DPI for high quality\n",
    "\n",
    "# Optionally, you can also display the plot\n",
    "# plt.show()"
   ]
  }
 ],
 "metadata": {
  "kernelspec": {
   "display_name": "Python 3",
   "language": "python",
   "name": "python3"
  },
  "language_info": {
   "name": "python",
   "version": "3.9.6"
  }
 },
 "nbformat": 4,
 "nbformat_minor": 2
}
