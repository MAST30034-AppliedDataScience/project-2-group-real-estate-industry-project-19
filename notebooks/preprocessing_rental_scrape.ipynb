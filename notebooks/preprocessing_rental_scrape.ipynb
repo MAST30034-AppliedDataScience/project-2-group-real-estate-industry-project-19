{
 "cells": [
  {
   "cell_type": "markdown",
   "metadata": {},
   "source": [
    "**PREPROCESSING**\n",
    "--------------\n",
    "\n",
    "This notebook will clean and feature engineer the scraped rental data"
   ]
  },
  {
   "cell_type": "code",
   "execution_count": 194,
   "metadata": {},
   "outputs": [],
   "source": [
    "import pandas as pd\n",
    "import sys\n",
    "sys.path.append('..')\n",
    "from scripts import preprocess\n",
    "import importlib\n",
    "importlib.reload(preprocess)\n",
    "from scripts.preprocess import extract_suburb_postcode, categorise_property, calculate_annual_increase, extract_number, extract_first_number"
   ]
  },
  {
   "cell_type": "markdown",
   "metadata": {},
   "source": [
    "**Now, cleaning up scrape for current listings from domain**"
   ]
  },
  {
   "cell_type": "code",
   "execution_count": 195,
   "metadata": {},
   "outputs": [],
   "source": [
    "current_rental_df = pd.read_csv('../data/landing/rental_scrape.csv')"
   ]
  },
  {
   "cell_type": "code",
   "execution_count": 196,
   "metadata": {},
   "outputs": [],
   "source": [
    "current_rental_df[['Suburb', 'Postcode']] = current_rental_df['Address'].apply(lambda x: pd.Series(extract_suburb_postcode(x)))"
   ]
  },
  {
   "cell_type": "markdown",
   "metadata": {},
   "source": [
    "Checking for suburbs not in the list of inner east suburbs we wish to predict and removing those instances"
   ]
  },
  {
   "cell_type": "code",
   "execution_count": 197,
   "metadata": {},
   "outputs": [
    {
     "name": "stdout",
     "output_type": "stream",
     "text": [
      "Number of entries labeled as 'Unknown' in the 'Suburb' column: 967\n"
     ]
    }
   ],
   "source": [
    "import pandas as pd\n",
    "\n",
    "unknown_suburbs_count = current_rental_df[current_rental_df['Suburb'] == 'Unknown'].shape[0]\n",
    "\n",
    "print(f\"Number of entries labeled as 'Unknown' in the 'Suburb' column: {unknown_suburbs_count}\")\n"
   ]
  },
  {
   "cell_type": "code",
   "execution_count": 198,
   "metadata": {},
   "outputs": [],
   "source": [
    "current_rental_df = current_rental_df[current_rental_df['Suburb'] != 'Unknown']"
   ]
  },
  {
   "cell_type": "markdown",
   "metadata": {},
   "source": [
    "Renaming columns to match historical dataset and extracting just the number for `Beds` `Baths` and `Cars`. Filling NaN `Cars` values with 0"
   ]
  },
  {
   "cell_type": "code",
   "execution_count": 206,
   "metadata": {},
   "outputs": [],
   "source": [
    "current_rental_df.rename(columns={'Bedrooms':'Beds', 'Bathrooms':'Baths', 'Parking':'Cars', 'PropertyType':'Property Type'}, inplace=True)\n",
    "\n",
    "current_rental_df['Cars'] = current_rental_df['Cars'].fillna('0')\n",
    "\n",
    "current_rental_df['Beds'] = current_rental_df['Beds'].apply(extract_number)\n",
    "current_rental_df['Baths'] = current_rental_df['Baths'].apply(extract_number)\n",
    "current_rental_df['Cars'] = current_rental_df['Cars'].apply(extract_number)"
   ]
  },
  {
   "cell_type": "markdown",
   "metadata": {},
   "source": [
    "No NaN values for `Beds` and `Baths`"
   ]
  },
  {
   "cell_type": "code",
   "execution_count": 207,
   "metadata": {},
   "outputs": [
    {
     "name": "stdout",
     "output_type": "stream",
     "text": [
      "Number of rows removed: 0\n"
     ]
    }
   ],
   "source": [
    "initial_row_count = len(current_rental_df)\n",
    "\n",
    "current_rental_df = current_rental_df.dropna(subset=['Beds', 'Baths'])\n",
    "\n",
    "final_row_count = len(current_rental_df)\n",
    "\n",
    "rows_removed = initial_row_count - final_row_count\n",
    "\n",
    "print(f'Number of rows removed: {rows_removed}')\n"
   ]
  },
  {
   "cell_type": "markdown",
   "metadata": {},
   "source": [
    "Extracting rental price from string"
   ]
  },
  {
   "cell_type": "code",
   "execution_count": 208,
   "metadata": {},
   "outputs": [],
   "source": [
    "current_rental_df['Cost'] = current_rental_df['Cost'].apply(extract_first_number)"
   ]
  },
  {
   "cell_type": "markdown",
   "metadata": {},
   "source": [
    "Dropping unused columns"
   ]
  },
  {
   "cell_type": "code",
   "execution_count": 202,
   "metadata": {},
   "outputs": [],
   "source": [
    "current_rental_df.drop(columns=['URL', 'Name', 'Description'], inplace=True)"
   ]
  },
  {
   "cell_type": "code",
   "execution_count": 209,
   "metadata": {},
   "outputs": [
    {
     "data": {
      "text/html": [
       "<div>\n",
       "<style scoped>\n",
       "    .dataframe tbody tr th:only-of-type {\n",
       "        vertical-align: middle;\n",
       "    }\n",
       "\n",
       "    .dataframe tbody tr th {\n",
       "        vertical-align: top;\n",
       "    }\n",
       "\n",
       "    .dataframe thead th {\n",
       "        text-align: right;\n",
       "    }\n",
       "</style>\n",
       "<table border=\"1\" class=\"dataframe\">\n",
       "  <thead>\n",
       "    <tr style=\"text-align: right;\">\n",
       "      <th></th>\n",
       "      <th>Cost</th>\n",
       "      <th>Beds</th>\n",
       "      <th>Baths</th>\n",
       "      <th>Cars</th>\n",
       "      <th>Address</th>\n",
       "      <th>Property Type</th>\n",
       "      <th>Suburb</th>\n",
       "      <th>Postcode</th>\n",
       "    </tr>\n",
       "  </thead>\n",
       "  <tbody>\n",
       "    <tr>\n",
       "      <th>0</th>\n",
       "      <td>550.0</td>\n",
       "      <td>2</td>\n",
       "      <td>2</td>\n",
       "      <td>1</td>\n",
       "      <td>2/21-23 Westgate Street, Pascoe Vale South VIC...</td>\n",
       "      <td>Apartment / Unit / Flat</td>\n",
       "      <td>Pascoe Vale</td>\n",
       "      <td>3044</td>\n",
       "    </tr>\n",
       "    <tr>\n",
       "      <th>1</th>\n",
       "      <td>560.0</td>\n",
       "      <td>2</td>\n",
       "      <td>1</td>\n",
       "      <td>1</td>\n",
       "      <td>6/121 Mcdonald Street, Mordialloc VIC 3195</td>\n",
       "      <td>Apartment / Unit / Flat</td>\n",
       "      <td>Mordialloc</td>\n",
       "      <td>3195</td>\n",
       "    </tr>\n",
       "    <tr>\n",
       "      <th>2</th>\n",
       "      <td>550.0</td>\n",
       "      <td>2</td>\n",
       "      <td>1</td>\n",
       "      <td>1</td>\n",
       "      <td>5/3 Carnarvon Street, Doncaster VIC 3108</td>\n",
       "      <td>Apartment / Unit / Flat</td>\n",
       "      <td>Doncaster</td>\n",
       "      <td>3108</td>\n",
       "    </tr>\n",
       "    <tr>\n",
       "      <th>3</th>\n",
       "      <td>340.0</td>\n",
       "      <td>1</td>\n",
       "      <td>1</td>\n",
       "      <td>1</td>\n",
       "      <td>4/10 Cole Street, Noble Park VIC 3174</td>\n",
       "      <td>Apartment / Unit / Flat</td>\n",
       "      <td>Noble Park</td>\n",
       "      <td>3174</td>\n",
       "    </tr>\n",
       "    <tr>\n",
       "      <th>5</th>\n",
       "      <td>460.0</td>\n",
       "      <td>3</td>\n",
       "      <td>1</td>\n",
       "      <td>0</td>\n",
       "      <td>8 Perth Avenue, Albion VIC 3020</td>\n",
       "      <td>House</td>\n",
       "      <td>Albion</td>\n",
       "      <td>3020</td>\n",
       "    </tr>\n",
       "    <tr>\n",
       "      <th>...</th>\n",
       "      <td>...</td>\n",
       "      <td>...</td>\n",
       "      <td>...</td>\n",
       "      <td>...</td>\n",
       "      <td>...</td>\n",
       "      <td>...</td>\n",
       "      <td>...</td>\n",
       "      <td>...</td>\n",
       "    </tr>\n",
       "    <tr>\n",
       "      <th>12093</th>\n",
       "      <td>950.0</td>\n",
       "      <td>4</td>\n",
       "      <td>3</td>\n",
       "      <td>2</td>\n",
       "      <td>2/1106 Burke Road, Balwyn North VIC 3104</td>\n",
       "      <td>Townhouse</td>\n",
       "      <td>Balwyn</td>\n",
       "      <td>3103</td>\n",
       "    </tr>\n",
       "    <tr>\n",
       "      <th>12094</th>\n",
       "      <td>75.0</td>\n",
       "      <td>0</td>\n",
       "      <td>1</td>\n",
       "      <td>1</td>\n",
       "      <td>Car Park/228 La Trobe St, Melbourne VIC 3000</td>\n",
       "      <td>Carspace</td>\n",
       "      <td>Melbourne</td>\n",
       "      <td>3004</td>\n",
       "    </tr>\n",
       "    <tr>\n",
       "      <th>12095</th>\n",
       "      <td>690.0</td>\n",
       "      <td>3</td>\n",
       "      <td>2</td>\n",
       "      <td>2</td>\n",
       "      <td>4/420 Middleborough Road, Blackburn VIC 3130</td>\n",
       "      <td>Townhouse</td>\n",
       "      <td>Blackburn</td>\n",
       "      <td>3130</td>\n",
       "    </tr>\n",
       "    <tr>\n",
       "      <th>12097</th>\n",
       "      <td>700.0</td>\n",
       "      <td>3</td>\n",
       "      <td>1</td>\n",
       "      <td>1</td>\n",
       "      <td>Balwyn VIC 3103</td>\n",
       "      <td>House</td>\n",
       "      <td>Balwyn</td>\n",
       "      <td>3103</td>\n",
       "    </tr>\n",
       "    <tr>\n",
       "      <th>12098</th>\n",
       "      <td>650.0</td>\n",
       "      <td>3</td>\n",
       "      <td>1</td>\n",
       "      <td>1</td>\n",
       "      <td>43 Highview Drive, Doncaster VIC 3108</td>\n",
       "      <td>House</td>\n",
       "      <td>Doncaster</td>\n",
       "      <td>3108</td>\n",
       "    </tr>\n",
       "  </tbody>\n",
       "</table>\n",
       "<p>11119 rows × 8 columns</p>\n",
       "</div>"
      ],
      "text/plain": [
       "        Cost  Beds  Baths  Cars  \\\n",
       "0      550.0     2      2     1   \n",
       "1      560.0     2      1     1   \n",
       "2      550.0     2      1     1   \n",
       "3      340.0     1      1     1   \n",
       "5      460.0     3      1     0   \n",
       "...      ...   ...    ...   ...   \n",
       "12093  950.0     4      3     2   \n",
       "12094   75.0     0      1     1   \n",
       "12095  690.0     3      2     2   \n",
       "12097  700.0     3      1     1   \n",
       "12098  650.0     3      1     1   \n",
       "\n",
       "                                                 Address  \\\n",
       "0      2/21-23 Westgate Street, Pascoe Vale South VIC...   \n",
       "1             6/121 Mcdonald Street, Mordialloc VIC 3195   \n",
       "2               5/3 Carnarvon Street, Doncaster VIC 3108   \n",
       "3                  4/10 Cole Street, Noble Park VIC 3174   \n",
       "5                        8 Perth Avenue, Albion VIC 3020   \n",
       "...                                                  ...   \n",
       "12093           2/1106 Burke Road, Balwyn North VIC 3104   \n",
       "12094       Car Park/228 La Trobe St, Melbourne VIC 3000   \n",
       "12095       4/420 Middleborough Road, Blackburn VIC 3130   \n",
       "12097                                    Balwyn VIC 3103   \n",
       "12098              43 Highview Drive, Doncaster VIC 3108   \n",
       "\n",
       "                 Property Type       Suburb Postcode  \n",
       "0      Apartment / Unit / Flat  Pascoe Vale     3044  \n",
       "1      Apartment / Unit / Flat   Mordialloc     3195  \n",
       "2      Apartment / Unit / Flat    Doncaster     3108  \n",
       "3      Apartment / Unit / Flat   Noble Park     3174  \n",
       "5                        House       Albion     3020  \n",
       "...                        ...          ...      ...  \n",
       "12093                Townhouse       Balwyn     3103  \n",
       "12094                 Carspace    Melbourne     3004  \n",
       "12095                Townhouse    Blackburn     3130  \n",
       "12097                    House       Balwyn     3103  \n",
       "12098                    House    Doncaster     3108  \n",
       "\n",
       "[11119 rows x 8 columns]"
      ]
     },
     "execution_count": 209,
     "metadata": {},
     "output_type": "execute_result"
    }
   ],
   "source": [
    "current_rental_df"
   ]
  },
  {
   "cell_type": "markdown",
   "metadata": {},
   "source": [
    "saving updated data "
   ]
  },
  {
   "cell_type": "code",
   "execution_count": 210,
   "metadata": {},
   "outputs": [],
   "source": [
    "current_rental_df.to_csv('../data/curated/current_rental_data.csv')"
   ]
  },
  {
   "cell_type": "code",
   "execution_count": null,
   "metadata": {},
   "outputs": [],
   "source": []
  }
 ],
 "metadata": {
  "kernelspec": {
   "display_name": "myenv",
   "language": "python",
   "name": "python3"
  },
  "language_info": {
   "codemirror_mode": {
    "name": "ipython",
    "version": 3
   },
   "file_extension": ".py",
   "mimetype": "text/x-python",
   "name": "python",
   "nbconvert_exporter": "python",
   "pygments_lexer": "ipython3",
   "version": "3.11.5"
  }
 },
 "nbformat": 4,
 "nbformat_minor": 2
}
