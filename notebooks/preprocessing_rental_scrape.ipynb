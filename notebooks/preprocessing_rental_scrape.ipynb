{
 "cells": [
  {
   "cell_type": "markdown",
   "metadata": {},
   "source": [
    "**PREPROCESSING**\n",
    "--------------\n",
    "\n",
    "This notebook will clean and feature engineer the scraped rental data"
   ]
  },
  {
   "cell_type": "code",
   "execution_count": 153,
   "metadata": {},
   "outputs": [],
   "source": [
    "import pandas as pd\n",
    "import sys\n",
    "sys.path.append('..')\n",
    "from scripts import preprocess\n",
    "import importlib\n",
    "importlib.reload(preprocess)\n",
    "from scripts.preprocess import extract_suburb_postcode, categorise_property, calculate_annual_increase, extract_number, extract_first_number"
   ]
  },
  {
   "cell_type": "markdown",
   "metadata": {},
   "source": [
    "Starting off with fixing up the historial rental dataset from old listings"
   ]
  },
  {
   "cell_type": "code",
   "execution_count": 154,
   "metadata": {},
   "outputs": [],
   "source": [
    "df1 = pd.read_csv('../data/landing/rental_history_scrape1.csv', encoding='ISO-8859-1')\n",
    "df2 = pd.read_csv('../data/landing/rental_history_scrape2.csv', encoding='ISO-8859-1')\n",
    "combined_rental_history_df = pd.concat([df1, df2], ignore_index=True)"
   ]
  },
  {
   "cell_type": "code",
   "execution_count": 129,
   "metadata": {},
   "outputs": [
    {
     "data": {
      "text/plain": [
       "array(['Category : House', nan, 'Category : Townhouse',\n",
       "       'Category : Unit/apmt', 'Category : Commercial',\n",
       "       'Category : Rental_residential', 'Category : Available Now',\n",
       "       'Category : Villa', 'Category : Medical/consulting',\n",
       "       'Category : Apartment', 'Category : Duplexsemi-detached',\n",
       "       'Category : Duplex, Semi', 'Category : Semi',\n",
       "       'Category : Home Unit', 'Category : Rural', 'Category : Unit',\n",
       "       'Category : Residential Lease', 'Category : Duplex',\n",
       "       'Category : Town Home', 'Category : Flat',\n",
       "       'Category : Semi-detatched', 'Category : Other',\n",
       "       'Category : Penthouse', 'Category : Villa, Unit, Land',\n",
       "       'Category : Home', 'Category : Studio', 'Category : Available',\n",
       "       'Category : Available Date', 'Category : Offices',\n",
       "       'Category : Semi-detached', 'Category : Semi/duplex',\n",
       "       'Category : Duplexsemidetached', 'Category : Semi Detached',\n",
       "       'Category : Duplex/semi Detach', 'Category : Villa For',\n",
       "       'Category : Industrial/warehouse',\n",
       "       'Category : Semi-detached/duplex', 'Category : Uni',\n",
       "       'Category : Terrace', 'Category : Serviced Apartment',\n",
       "       'Category : Residential', 'Category : Vacantland',\n",
       "       'Category : Servicedapartment', 'Category : Rental',\n",
       "       'Category : Tourism', 'Category : Industrial',\n",
       "       'Category : Car Space', 'Category : Industrial (com)',\n",
       "       'Category : Blockofunits', 'Category : Block Of Units',\n",
       "       'Category : Acreage/semi-rural', 'Category : Duplex Semi-detached',\n",
       "       'Category : Villa, House', 'Category : Retail', 'Category : Land',\n",
       "       'Category : Duplex Or Semi', 'Category : Healthcare',\n",
       "       'Category : Rental Property', 'Category : Villa, Unit'],\n",
       "      dtype=object)"
      ]
     },
     "execution_count": 129,
     "metadata": {},
     "output_type": "execute_result"
    }
   ],
   "source": [
    "combined_rental_history_df['Property Type'].unique()"
   ]
  },
  {
   "cell_type": "markdown",
   "metadata": {},
   "source": [
    "There are many property types which are not residential. We will have to remove those"
   ]
  },
  {
   "cell_type": "code",
   "execution_count": 130,
   "metadata": {},
   "outputs": [
    {
     "name": "stdout",
     "output_type": "stream",
     "text": [
      "Number of rows dropped: 161\n"
     ]
    }
   ],
   "source": [
    "\n",
    "\n",
    "# Define non-residential keywords\n",
    "non_residential_keywords = ['Commercial', 'Medical/consulting', 'Offices', \n",
    "                            'Industrial', 'Tourism', 'Retail', 'Healthcare',\n",
    "                            'Car Space', 'Land', 'Acreage/semi-rural', 'Vacantland']\n",
    "\n",
    "# Get the initial number of rows\n",
    "initial_row_count = len(combined_rental_history_df)\n",
    "\n",
    "# Filter out non-residential entries\n",
    "combined_rental_history_df = combined_rental_history_df[~combined_rental_history_df['Property Type'].str.contains('|'.join(non_residential_keywords), na=False)]\n",
    "# Get the final number of rows\n",
    "final_row_count = len(combined_rental_history_df)\n",
    "\n",
    "# Calculate the number of rows dropped\n",
    "rows_dropped = initial_row_count - final_row_count\n",
    "\n",
    "# Display the number of rows dropped\n",
    "print(f'Number of rows dropped: {rows_dropped}')\n"
   ]
  },
  {
   "cell_type": "code",
   "execution_count": 131,
   "metadata": {},
   "outputs": [
    {
     "data": {
      "text/plain": [
       "array(['Category : House', nan, 'Category : Townhouse',\n",
       "       'Category : Unit/apmt', 'Category : Rental_residential',\n",
       "       'Category : Available Now', 'Category : Villa',\n",
       "       'Category : Apartment', 'Category : Duplexsemi-detached',\n",
       "       'Category : Duplex, Semi', 'Category : Semi',\n",
       "       'Category : Home Unit', 'Category : Rural', 'Category : Unit',\n",
       "       'Category : Residential Lease', 'Category : Duplex',\n",
       "       'Category : Town Home', 'Category : Flat',\n",
       "       'Category : Semi-detatched', 'Category : Other',\n",
       "       'Category : Penthouse', 'Category : Home', 'Category : Studio',\n",
       "       'Category : Available', 'Category : Available Date',\n",
       "       'Category : Semi-detached', 'Category : Semi/duplex',\n",
       "       'Category : Duplexsemidetached', 'Category : Semi Detached',\n",
       "       'Category : Duplex/semi Detach', 'Category : Villa For',\n",
       "       'Category : Semi-detached/duplex', 'Category : Uni',\n",
       "       'Category : Terrace', 'Category : Serviced Apartment',\n",
       "       'Category : Residential', 'Category : Servicedapartment',\n",
       "       'Category : Rental', 'Category : Blockofunits',\n",
       "       'Category : Block Of Units', 'Category : Duplex Semi-detached',\n",
       "       'Category : Villa, House', 'Category : Duplex Or Semi',\n",
       "       'Category : Rental Property', 'Category : Villa, Unit'],\n",
       "      dtype=object)"
      ]
     },
     "execution_count": 131,
     "metadata": {},
     "output_type": "execute_result"
    }
   ],
   "source": [
    "combined_rental_history_df['Property Type'].unique()"
   ]
  },
  {
   "cell_type": "markdown",
   "metadata": {},
   "source": [
    "There is still too many categories for model training. Updating to only 3 categories based on address structure and imputing NaN property types based on the address."
   ]
  },
  {
   "cell_type": "code",
   "execution_count": 132,
   "metadata": {},
   "outputs": [],
   "source": [
    "combined_rental_history_df['Property Type'] = combined_rental_history_df.apply(categorise_property, axis=1)"
   ]
  },
  {
   "cell_type": "markdown",
   "metadata": {},
   "source": [
    "Adding a Suburb and Postcode feature based on the address"
   ]
  },
  {
   "cell_type": "code",
   "execution_count": 133,
   "metadata": {},
   "outputs": [],
   "source": [
    "combined_rental_history_df[['Suburb', 'Postcode']] = combined_rental_history_df['Address'].apply(lambda x: pd.Series(extract_suburb_postcode(x)))"
   ]
  },
  {
   "cell_type": "markdown",
   "metadata": {},
   "source": [
    "**Cleaning up NaN values**\n",
    "\n",
    "If Cars is NaN, replace with 0, assuming that there are no carparks.\n",
    "If Bed or Bath is NaN, we will remove the entry as we are assuming that a residential property cannot exist without those features."
   ]
  },
  {
   "cell_type": "code",
   "execution_count": 134,
   "metadata": {},
   "outputs": [
    {
     "name": "stdout",
     "output_type": "stream",
     "text": [
      "Number of rows removed: 574\n"
     ]
    }
   ],
   "source": [
    "initial_row_count = len(combined_rental_history_df)\n",
    "\n",
    "combined_rental_history_df['Cars'] = combined_rental_history_df['Cars'].fillna('Car : 0')\n",
    "\n",
    "combined_rental_history_df = combined_rental_history_df.dropna(subset=['Beds', 'Baths'])\n",
    "\n",
    "final_row_count = len(combined_rental_history_df)\n",
    "\n",
    "rows_removed = initial_row_count - final_row_count\n",
    "\n",
    "print(f'Number of rows removed: {rows_removed}')\n"
   ]
  },
  {
   "cell_type": "markdown",
   "metadata": {},
   "source": [
    "Extracting just the number from the string of `Beds` `Baths` and `Cars` feature"
   ]
  },
  {
   "cell_type": "code",
   "execution_count": 135,
   "metadata": {},
   "outputs": [],
   "source": [
    "combined_rental_history_df['Beds'] = combined_rental_history_df['Beds'].apply(extract_number)\n",
    "combined_rental_history_df['Baths'] = combined_rental_history_df['Baths'].apply(extract_number)\n",
    "combined_rental_history_df['Cars'] = combined_rental_history_df['Cars'].apply(extract_number)"
   ]
  },
  {
   "cell_type": "markdown",
   "metadata": {},
   "source": [
    "Working out the annual % increase in rent for each property"
   ]
  },
  {
   "cell_type": "code",
   "execution_count": 136,
   "metadata": {},
   "outputs": [],
   "source": [
    "combined_rental_history_df[['Oldest Price', 'Oldest Date', 'Newest Price', 'Newest Date', 'Months Difference', 'Annual Increase in Rent %']] = combined_rental_history_df.apply(calculate_annual_increase, axis=1)"
   ]
  },
  {
   "cell_type": "markdown",
   "metadata": {},
   "source": [
    "For all properties that only have 1 recorded price and therefore cannot work out the annual increase, we will impute the median annual increase for the suburb and property type"
   ]
  },
  {
   "cell_type": "code",
   "execution_count": 137,
   "metadata": {},
   "outputs": [
    {
     "name": "stderr",
     "output_type": "stream",
     "text": [
      "/var/folders/f3/7b141t_576gfjr1gs8rqdfsm0000gn/T/ipykernel_8363/757051840.py:2: FutureWarning: A value is trying to be set on a copy of a DataFrame or Series through chained assignment using an inplace method.\n",
      "The behavior will change in pandas 3.0. This inplace method will never work because the intermediate object on which we are setting values always behaves as a copy.\n",
      "\n",
      "For example, when doing 'df[col].method(value, inplace=True)', try using 'df.method({col: value}, inplace=True)' or df[col] = df[col].method(value) instead, to perform the operation inplace on the original object.\n",
      "\n",
      "\n",
      "  combined_rental_history_df['Annual Increase in Rent %'].fillna(median_increase_per_group, inplace=True)\n"
     ]
    }
   ],
   "source": [
    "median_increase_per_group = combined_rental_history_df.groupby(['Suburb', 'Property Type'])['Annual Increase in Rent %'].transform('median')\n",
    "combined_rental_history_df['Annual Increase in Rent %'].fillna(median_increase_per_group, inplace=True)"
   ]
  },
  {
   "cell_type": "markdown",
   "metadata": {},
   "source": [
    "Removing `Last Advertised Price` as a feature and `Historical Prices` as we will only need the annual increase"
   ]
  },
  {
   "cell_type": "code",
   "execution_count": 138,
   "metadata": {},
   "outputs": [],
   "source": [
    "combined_rental_history_df.drop(columns=['Last Advertised Price', 'Historical Prices'], inplace=True)"
   ]
  },
  {
   "cell_type": "code",
   "execution_count": 139,
   "metadata": {},
   "outputs": [
    {
     "data": {
      "text/html": [
       "<div>\n",
       "<style scoped>\n",
       "    .dataframe tbody tr th:only-of-type {\n",
       "        vertical-align: middle;\n",
       "    }\n",
       "\n",
       "    .dataframe tbody tr th {\n",
       "        vertical-align: top;\n",
       "    }\n",
       "\n",
       "    .dataframe thead th {\n",
       "        text-align: right;\n",
       "    }\n",
       "</style>\n",
       "<table border=\"1\" class=\"dataframe\">\n",
       "  <thead>\n",
       "    <tr style=\"text-align: right;\">\n",
       "      <th></th>\n",
       "      <th>Address</th>\n",
       "      <th>Beds</th>\n",
       "      <th>Baths</th>\n",
       "      <th>Cars</th>\n",
       "      <th>Property Type</th>\n",
       "      <th>Suburb</th>\n",
       "      <th>Postcode</th>\n",
       "      <th>Oldest Price</th>\n",
       "      <th>Oldest Date</th>\n",
       "      <th>Newest Price</th>\n",
       "      <th>Newest Date</th>\n",
       "      <th>Months Difference</th>\n",
       "      <th>Annual Increase in Rent %</th>\n",
       "    </tr>\n",
       "  </thead>\n",
       "  <tbody>\n",
       "    <tr>\n",
       "      <th>0</th>\n",
       "      <td>19 POULTER STREET, ASHBURTON</td>\n",
       "      <td>3</td>\n",
       "      <td>1</td>\n",
       "      <td>2</td>\n",
       "      <td>House</td>\n",
       "      <td>Ashburton</td>\n",
       "      <td>3147</td>\n",
       "      <td>550.0</td>\n",
       "      <td>2009-04-10</td>\n",
       "      <td>590.0</td>\n",
       "      <td>2024-09-10</td>\n",
       "      <td>185.0</td>\n",
       "      <td>0.471744</td>\n",
       "    </tr>\n",
       "    <tr>\n",
       "      <th>1</th>\n",
       "      <td>50 KARNAK ROAD, ASHBURTON</td>\n",
       "      <td>4</td>\n",
       "      <td>3</td>\n",
       "      <td>3</td>\n",
       "      <td>House</td>\n",
       "      <td>Ashburton</td>\n",
       "      <td>3147</td>\n",
       "      <td>1190.0</td>\n",
       "      <td>2017-10-10</td>\n",
       "      <td>1350.0</td>\n",
       "      <td>2024-08-10</td>\n",
       "      <td>82.0</td>\n",
       "      <td>1.967616</td>\n",
       "    </tr>\n",
       "    <tr>\n",
       "      <th>2</th>\n",
       "      <td>50 KARNAK RD, ASHBURTON</td>\n",
       "      <td>4</td>\n",
       "      <td>3</td>\n",
       "      <td>0</td>\n",
       "      <td>House</td>\n",
       "      <td>Ashburton</td>\n",
       "      <td>3147</td>\n",
       "      <td>1290.0</td>\n",
       "      <td>2021-01-10</td>\n",
       "      <td>1350.0</td>\n",
       "      <td>2024-08-10</td>\n",
       "      <td>43.0</td>\n",
       "      <td>1.297999</td>\n",
       "    </tr>\n",
       "    <tr>\n",
       "      <th>3</th>\n",
       "      <td>55 VICTORY BOULEVARD, ASHBURTON</td>\n",
       "      <td>2</td>\n",
       "      <td>2</td>\n",
       "      <td>2</td>\n",
       "      <td>House</td>\n",
       "      <td>Ashburton</td>\n",
       "      <td>3147</td>\n",
       "      <td>495.0</td>\n",
       "      <td>2008-01-10</td>\n",
       "      <td>1050.0</td>\n",
       "      <td>2024-08-10</td>\n",
       "      <td>199.0</td>\n",
       "      <td>6.761078</td>\n",
       "    </tr>\n",
       "    <tr>\n",
       "      <th>4</th>\n",
       "      <td>11A SOLWAY STREET, ASHBURTON</td>\n",
       "      <td>4</td>\n",
       "      <td>3</td>\n",
       "      <td>4</td>\n",
       "      <td>Apartment / Unit / Flat</td>\n",
       "      <td>Ashburton</td>\n",
       "      <td>3147</td>\n",
       "      <td>1100.0</td>\n",
       "      <td>2020-10-10</td>\n",
       "      <td>1395.0</td>\n",
       "      <td>2024-08-10</td>\n",
       "      <td>46.0</td>\n",
       "      <td>6.996047</td>\n",
       "    </tr>\n",
       "    <tr>\n",
       "      <th>...</th>\n",
       "      <td>...</td>\n",
       "      <td>...</td>\n",
       "      <td>...</td>\n",
       "      <td>...</td>\n",
       "      <td>...</td>\n",
       "      <td>...</td>\n",
       "      <td>...</td>\n",
       "      <td>...</td>\n",
       "      <td>...</td>\n",
       "      <td>...</td>\n",
       "      <td>...</td>\n",
       "      <td>...</td>\n",
       "      <td>...</td>\n",
       "    </tr>\n",
       "    <tr>\n",
       "      <th>50993</th>\n",
       "      <td>9/92 VICTORIA CR, MONT ALBERT</td>\n",
       "      <td>2</td>\n",
       "      <td>1</td>\n",
       "      <td>1</td>\n",
       "      <td>Apartment / Unit / Flat</td>\n",
       "      <td>Mont Albert</td>\n",
       "      <td>3127</td>\n",
       "      <td>250.0</td>\n",
       "      <td>2006-12-10</td>\n",
       "      <td>250.0</td>\n",
       "      <td>2006-12-10</td>\n",
       "      <td>0.0</td>\n",
       "      <td>1.300823</td>\n",
       "    </tr>\n",
       "    <tr>\n",
       "      <th>50994</th>\n",
       "      <td>1/7 GILBERT STREET, MONT ALBERT</td>\n",
       "      <td>2</td>\n",
       "      <td>1</td>\n",
       "      <td>2</td>\n",
       "      <td>Apartment / Unit / Flat</td>\n",
       "      <td>Mont Albert</td>\n",
       "      <td>3127</td>\n",
       "      <td>250.0</td>\n",
       "      <td>2006-12-10</td>\n",
       "      <td>250.0</td>\n",
       "      <td>2006-12-10</td>\n",
       "      <td>0.0</td>\n",
       "      <td>1.300823</td>\n",
       "    </tr>\n",
       "    <tr>\n",
       "      <th>50995</th>\n",
       "      <td>3/764 WHITEHORSE ROAD, MONT ALBERT</td>\n",
       "      <td>2</td>\n",
       "      <td>1</td>\n",
       "      <td>1</td>\n",
       "      <td>Apartment / Unit / Flat</td>\n",
       "      <td>Mont Albert</td>\n",
       "      <td>3127</td>\n",
       "      <td>220.0</td>\n",
       "      <td>2006-11-10</td>\n",
       "      <td>240.0</td>\n",
       "      <td>2006-12-10</td>\n",
       "      <td>1.0</td>\n",
       "      <td>109.090909</td>\n",
       "    </tr>\n",
       "    <tr>\n",
       "      <th>50996</th>\n",
       "      <td>3/458 BELMORE ROAD, MONT ALBERT</td>\n",
       "      <td>3</td>\n",
       "      <td>2</td>\n",
       "      <td>2</td>\n",
       "      <td>Apartment / Unit / Flat</td>\n",
       "      <td>Mont Albert</td>\n",
       "      <td>3127</td>\n",
       "      <td>330.0</td>\n",
       "      <td>2006-11-10</td>\n",
       "      <td>330.0</td>\n",
       "      <td>2006-11-10</td>\n",
       "      <td>0.0</td>\n",
       "      <td>1.300823</td>\n",
       "    </tr>\n",
       "    <tr>\n",
       "      <th>50998</th>\n",
       "      <td>1A MORRIS STREET, MONT ALBERT</td>\n",
       "      <td>3</td>\n",
       "      <td>2</td>\n",
       "      <td>1</td>\n",
       "      <td>Apartment / Unit / Flat</td>\n",
       "      <td>Mont Albert</td>\n",
       "      <td>3127</td>\n",
       "      <td>380.0</td>\n",
       "      <td>2006-10-10</td>\n",
       "      <td>380.0</td>\n",
       "      <td>2006-10-10</td>\n",
       "      <td>0.0</td>\n",
       "      <td>1.300823</td>\n",
       "    </tr>\n",
       "  </tbody>\n",
       "</table>\n",
       "<p>50264 rows × 13 columns</p>\n",
       "</div>"
      ],
      "text/plain": [
       "                                  Address  Beds  Baths  Cars  \\\n",
       "0            19 POULTER STREET, ASHBURTON     3      1     2   \n",
       "1               50 KARNAK ROAD, ASHBURTON     4      3     3   \n",
       "2                 50 KARNAK RD, ASHBURTON     4      3     0   \n",
       "3         55 VICTORY BOULEVARD, ASHBURTON     2      2     2   \n",
       "4            11A SOLWAY STREET, ASHBURTON     4      3     4   \n",
       "...                                   ...   ...    ...   ...   \n",
       "50993       9/92 VICTORIA CR, MONT ALBERT     2      1     1   \n",
       "50994     1/7 GILBERT STREET, MONT ALBERT     2      1     2   \n",
       "50995  3/764 WHITEHORSE ROAD, MONT ALBERT     2      1     1   \n",
       "50996     3/458 BELMORE ROAD, MONT ALBERT     3      2     2   \n",
       "50998       1A MORRIS STREET, MONT ALBERT     3      2     1   \n",
       "\n",
       "                 Property Type       Suburb Postcode  Oldest Price  \\\n",
       "0                        House    Ashburton     3147         550.0   \n",
       "1                        House    Ashburton     3147        1190.0   \n",
       "2                        House    Ashburton     3147        1290.0   \n",
       "3                        House    Ashburton     3147         495.0   \n",
       "4      Apartment / Unit / Flat    Ashburton     3147        1100.0   \n",
       "...                        ...          ...      ...           ...   \n",
       "50993  Apartment / Unit / Flat  Mont Albert     3127         250.0   \n",
       "50994  Apartment / Unit / Flat  Mont Albert     3127         250.0   \n",
       "50995  Apartment / Unit / Flat  Mont Albert     3127         220.0   \n",
       "50996  Apartment / Unit / Flat  Mont Albert     3127         330.0   \n",
       "50998  Apartment / Unit / Flat  Mont Albert     3127         380.0   \n",
       "\n",
       "      Oldest Date  Newest Price Newest Date  Months Difference  \\\n",
       "0      2009-04-10         590.0  2024-09-10              185.0   \n",
       "1      2017-10-10        1350.0  2024-08-10               82.0   \n",
       "2      2021-01-10        1350.0  2024-08-10               43.0   \n",
       "3      2008-01-10        1050.0  2024-08-10              199.0   \n",
       "4      2020-10-10        1395.0  2024-08-10               46.0   \n",
       "...           ...           ...         ...                ...   \n",
       "50993  2006-12-10         250.0  2006-12-10                0.0   \n",
       "50994  2006-12-10         250.0  2006-12-10                0.0   \n",
       "50995  2006-11-10         240.0  2006-12-10                1.0   \n",
       "50996  2006-11-10         330.0  2006-11-10                0.0   \n",
       "50998  2006-10-10         380.0  2006-10-10                0.0   \n",
       "\n",
       "       Annual Increase in Rent %  \n",
       "0                       0.471744  \n",
       "1                       1.967616  \n",
       "2                       1.297999  \n",
       "3                       6.761078  \n",
       "4                       6.996047  \n",
       "...                          ...  \n",
       "50993                   1.300823  \n",
       "50994                   1.300823  \n",
       "50995                 109.090909  \n",
       "50996                   1.300823  \n",
       "50998                   1.300823  \n",
       "\n",
       "[50264 rows x 13 columns]"
      ]
     },
     "execution_count": 139,
     "metadata": {},
     "output_type": "execute_result"
    }
   ],
   "source": [
    "combined_rental_history_df"
   ]
  },
  {
   "cell_type": "code",
   "execution_count": 140,
   "metadata": {},
   "outputs": [],
   "source": [
    "combined_rental_history_df.to_csv('../data/raw/rental_history_data.csv')"
   ]
  },
  {
   "cell_type": "markdown",
   "metadata": {},
   "source": [
    "**Now, cleaning up scrape for current listings from domain**"
   ]
  },
  {
   "cell_type": "code",
   "execution_count": 141,
   "metadata": {},
   "outputs": [],
   "source": [
    "current_rental_df = pd.read_csv('../data/landing/rental_scrape.csv')"
   ]
  },
  {
   "cell_type": "code",
   "execution_count": 142,
   "metadata": {},
   "outputs": [],
   "source": [
    "current_rental_df[['Suburb', 'Postcode']] = current_rental_df['Address'].apply(lambda x: pd.Series(extract_suburb_postcode(x)))"
   ]
  },
  {
   "cell_type": "markdown",
   "metadata": {},
   "source": [
    "Checking for suburbs not in the list of inner east suburbs we wish to predict and removing those instances"
   ]
  },
  {
   "cell_type": "code",
   "execution_count": 143,
   "metadata": {},
   "outputs": [
    {
     "name": "stdout",
     "output_type": "stream",
     "text": [
      "Number of entries labeled as 'Unknown' in the 'Suburb' column: 695\n"
     ]
    }
   ],
   "source": [
    "import pandas as pd\n",
    "\n",
    "unknown_suburbs_count = current_rental_df[current_rental_df['Suburb'] == 'Unknown'].shape[0]\n",
    "\n",
    "print(f\"Number of entries labeled as 'Unknown' in the 'Suburb' column: {unknown_suburbs_count}\")\n"
   ]
  },
  {
   "cell_type": "code",
   "execution_count": 144,
   "metadata": {},
   "outputs": [],
   "source": [
    "current_rental_df = current_rental_df[current_rental_df['Suburb'] != 'Unknown']"
   ]
  },
  {
   "cell_type": "markdown",
   "metadata": {},
   "source": [
    "Renaming columns to match historical dataset and extracting just the number for `Beds` `Baths` and `Cars`. Filling NaN `Cars` values with 0"
   ]
  },
  {
   "cell_type": "code",
   "execution_count": 145,
   "metadata": {},
   "outputs": [],
   "source": [
    "current_rental_df.rename(columns={'Bedrooms':'Beds', 'Bathrooms':'Baths', 'Parking':'Cars', 'PropertyType':'Property Type'}, inplace=True)\n",
    "\n",
    "current_rental_df['Cars'] = current_rental_df['Cars'].fillna('Car : 0')\n",
    "\n",
    "current_rental_df['Beds'] = current_rental_df['Beds'].apply(extract_number)\n",
    "current_rental_df['Baths'] = current_rental_df['Baths'].apply(extract_number)\n",
    "current_rental_df['Cars'] = current_rental_df['Cars'].apply(extract_number)"
   ]
  },
  {
   "cell_type": "markdown",
   "metadata": {},
   "source": [
    "No NaN values for `Beds` and `Baths`"
   ]
  },
  {
   "cell_type": "code",
   "execution_count": 146,
   "metadata": {},
   "outputs": [
    {
     "name": "stdout",
     "output_type": "stream",
     "text": [
      "Number of rows removed: 0\n"
     ]
    }
   ],
   "source": [
    "initial_row_count = len(current_rental_df)\n",
    "\n",
    "current_rental_df = current_rental_df.dropna(subset=['Beds', 'Baths'])\n",
    "\n",
    "final_row_count = len(current_rental_df)\n",
    "\n",
    "rows_removed = initial_row_count - final_row_count\n",
    "\n",
    "print(f'Number of rows removed: {rows_removed}')\n"
   ]
  },
  {
   "cell_type": "markdown",
   "metadata": {},
   "source": [
    "Extracting rental price from string"
   ]
  },
  {
   "cell_type": "code",
   "execution_count": 147,
   "metadata": {},
   "outputs": [],
   "source": [
    "current_rental_df['Cost'] = current_rental_df['Cost'].apply(extract_first_number)"
   ]
  },
  {
   "cell_type": "markdown",
   "metadata": {},
   "source": [
    "Dropping unused columns"
   ]
  },
  {
   "cell_type": "code",
   "execution_count": 150,
   "metadata": {},
   "outputs": [
    {
     "ename": "KeyError",
     "evalue": "\"['URL', 'Name', 'Description'] not found in axis\"",
     "output_type": "error",
     "traceback": [
      "\u001b[0;31m---------------------------------------------------------------------------\u001b[0m",
      "\u001b[0;31mKeyError\u001b[0m                                  Traceback (most recent call last)",
      "Cell \u001b[0;32mIn[150], line 1\u001b[0m\n\u001b[0;32m----> 1\u001b[0m \u001b[43mcurrent_rental_df\u001b[49m\u001b[38;5;241;43m.\u001b[39;49m\u001b[43mdrop\u001b[49m\u001b[43m(\u001b[49m\u001b[43mcolumns\u001b[49m\u001b[38;5;241;43m=\u001b[39;49m\u001b[43m[\u001b[49m\u001b[38;5;124;43m'\u001b[39;49m\u001b[38;5;124;43mURL\u001b[39;49m\u001b[38;5;124;43m'\u001b[39;49m\u001b[43m,\u001b[49m\u001b[43m \u001b[49m\u001b[38;5;124;43m'\u001b[39;49m\u001b[38;5;124;43mName\u001b[39;49m\u001b[38;5;124;43m'\u001b[39;49m\u001b[43m,\u001b[49m\u001b[43m \u001b[49m\u001b[38;5;124;43m'\u001b[39;49m\u001b[38;5;124;43mDescription\u001b[39;49m\u001b[38;5;124;43m'\u001b[39;49m\u001b[43m]\u001b[49m\u001b[43m,\u001b[49m\u001b[43m \u001b[49m\u001b[43minplace\u001b[49m\u001b[38;5;241;43m=\u001b[39;49m\u001b[38;5;28;43;01mTrue\u001b[39;49;00m\u001b[43m)\u001b[49m\n",
      "File \u001b[0;32m~/myenv/lib/python3.11/site-packages/pandas/core/frame.py:5581\u001b[0m, in \u001b[0;36mDataFrame.drop\u001b[0;34m(self, labels, axis, index, columns, level, inplace, errors)\u001b[0m\n\u001b[1;32m   5433\u001b[0m \u001b[38;5;28;01mdef\u001b[39;00m \u001b[38;5;21mdrop\u001b[39m(\n\u001b[1;32m   5434\u001b[0m     \u001b[38;5;28mself\u001b[39m,\n\u001b[1;32m   5435\u001b[0m     labels: IndexLabel \u001b[38;5;241m|\u001b[39m \u001b[38;5;28;01mNone\u001b[39;00m \u001b[38;5;241m=\u001b[39m \u001b[38;5;28;01mNone\u001b[39;00m,\n\u001b[0;32m   (...)\u001b[0m\n\u001b[1;32m   5442\u001b[0m     errors: IgnoreRaise \u001b[38;5;241m=\u001b[39m \u001b[38;5;124m\"\u001b[39m\u001b[38;5;124mraise\u001b[39m\u001b[38;5;124m\"\u001b[39m,\n\u001b[1;32m   5443\u001b[0m ) \u001b[38;5;241m-\u001b[39m\u001b[38;5;241m>\u001b[39m DataFrame \u001b[38;5;241m|\u001b[39m \u001b[38;5;28;01mNone\u001b[39;00m:\n\u001b[1;32m   5444\u001b[0m \u001b[38;5;250m    \u001b[39m\u001b[38;5;124;03m\"\"\"\u001b[39;00m\n\u001b[1;32m   5445\u001b[0m \u001b[38;5;124;03m    Drop specified labels from rows or columns.\u001b[39;00m\n\u001b[1;32m   5446\u001b[0m \n\u001b[0;32m   (...)\u001b[0m\n\u001b[1;32m   5579\u001b[0m \u001b[38;5;124;03m            weight  1.0     0.8\u001b[39;00m\n\u001b[1;32m   5580\u001b[0m \u001b[38;5;124;03m    \"\"\"\u001b[39;00m\n\u001b[0;32m-> 5581\u001b[0m     \u001b[38;5;28;01mreturn\u001b[39;00m \u001b[38;5;28;43msuper\u001b[39;49m\u001b[43m(\u001b[49m\u001b[43m)\u001b[49m\u001b[38;5;241;43m.\u001b[39;49m\u001b[43mdrop\u001b[49m\u001b[43m(\u001b[49m\n\u001b[1;32m   5582\u001b[0m \u001b[43m        \u001b[49m\u001b[43mlabels\u001b[49m\u001b[38;5;241;43m=\u001b[39;49m\u001b[43mlabels\u001b[49m\u001b[43m,\u001b[49m\n\u001b[1;32m   5583\u001b[0m \u001b[43m        \u001b[49m\u001b[43maxis\u001b[49m\u001b[38;5;241;43m=\u001b[39;49m\u001b[43maxis\u001b[49m\u001b[43m,\u001b[49m\n\u001b[1;32m   5584\u001b[0m \u001b[43m        \u001b[49m\u001b[43mindex\u001b[49m\u001b[38;5;241;43m=\u001b[39;49m\u001b[43mindex\u001b[49m\u001b[43m,\u001b[49m\n\u001b[1;32m   5585\u001b[0m \u001b[43m        \u001b[49m\u001b[43mcolumns\u001b[49m\u001b[38;5;241;43m=\u001b[39;49m\u001b[43mcolumns\u001b[49m\u001b[43m,\u001b[49m\n\u001b[1;32m   5586\u001b[0m \u001b[43m        \u001b[49m\u001b[43mlevel\u001b[49m\u001b[38;5;241;43m=\u001b[39;49m\u001b[43mlevel\u001b[49m\u001b[43m,\u001b[49m\n\u001b[1;32m   5587\u001b[0m \u001b[43m        \u001b[49m\u001b[43minplace\u001b[49m\u001b[38;5;241;43m=\u001b[39;49m\u001b[43minplace\u001b[49m\u001b[43m,\u001b[49m\n\u001b[1;32m   5588\u001b[0m \u001b[43m        \u001b[49m\u001b[43merrors\u001b[49m\u001b[38;5;241;43m=\u001b[39;49m\u001b[43merrors\u001b[49m\u001b[43m,\u001b[49m\n\u001b[1;32m   5589\u001b[0m \u001b[43m    \u001b[49m\u001b[43m)\u001b[49m\n",
      "File \u001b[0;32m~/myenv/lib/python3.11/site-packages/pandas/core/generic.py:4788\u001b[0m, in \u001b[0;36mNDFrame.drop\u001b[0;34m(self, labels, axis, index, columns, level, inplace, errors)\u001b[0m\n\u001b[1;32m   4786\u001b[0m \u001b[38;5;28;01mfor\u001b[39;00m axis, labels \u001b[38;5;129;01min\u001b[39;00m axes\u001b[38;5;241m.\u001b[39mitems():\n\u001b[1;32m   4787\u001b[0m     \u001b[38;5;28;01mif\u001b[39;00m labels \u001b[38;5;129;01mis\u001b[39;00m \u001b[38;5;129;01mnot\u001b[39;00m \u001b[38;5;28;01mNone\u001b[39;00m:\n\u001b[0;32m-> 4788\u001b[0m         obj \u001b[38;5;241m=\u001b[39m \u001b[43mobj\u001b[49m\u001b[38;5;241;43m.\u001b[39;49m\u001b[43m_drop_axis\u001b[49m\u001b[43m(\u001b[49m\u001b[43mlabels\u001b[49m\u001b[43m,\u001b[49m\u001b[43m \u001b[49m\u001b[43maxis\u001b[49m\u001b[43m,\u001b[49m\u001b[43m \u001b[49m\u001b[43mlevel\u001b[49m\u001b[38;5;241;43m=\u001b[39;49m\u001b[43mlevel\u001b[49m\u001b[43m,\u001b[49m\u001b[43m \u001b[49m\u001b[43merrors\u001b[49m\u001b[38;5;241;43m=\u001b[39;49m\u001b[43merrors\u001b[49m\u001b[43m)\u001b[49m\n\u001b[1;32m   4790\u001b[0m \u001b[38;5;28;01mif\u001b[39;00m inplace:\n\u001b[1;32m   4791\u001b[0m     \u001b[38;5;28mself\u001b[39m\u001b[38;5;241m.\u001b[39m_update_inplace(obj)\n",
      "File \u001b[0;32m~/myenv/lib/python3.11/site-packages/pandas/core/generic.py:4830\u001b[0m, in \u001b[0;36mNDFrame._drop_axis\u001b[0;34m(self, labels, axis, level, errors, only_slice)\u001b[0m\n\u001b[1;32m   4828\u001b[0m         new_axis \u001b[38;5;241m=\u001b[39m axis\u001b[38;5;241m.\u001b[39mdrop(labels, level\u001b[38;5;241m=\u001b[39mlevel, errors\u001b[38;5;241m=\u001b[39merrors)\n\u001b[1;32m   4829\u001b[0m     \u001b[38;5;28;01melse\u001b[39;00m:\n\u001b[0;32m-> 4830\u001b[0m         new_axis \u001b[38;5;241m=\u001b[39m \u001b[43maxis\u001b[49m\u001b[38;5;241;43m.\u001b[39;49m\u001b[43mdrop\u001b[49m\u001b[43m(\u001b[49m\u001b[43mlabels\u001b[49m\u001b[43m,\u001b[49m\u001b[43m \u001b[49m\u001b[43merrors\u001b[49m\u001b[38;5;241;43m=\u001b[39;49m\u001b[43merrors\u001b[49m\u001b[43m)\u001b[49m\n\u001b[1;32m   4831\u001b[0m     indexer \u001b[38;5;241m=\u001b[39m axis\u001b[38;5;241m.\u001b[39mget_indexer(new_axis)\n\u001b[1;32m   4833\u001b[0m \u001b[38;5;66;03m# Case for non-unique axis\u001b[39;00m\n\u001b[1;32m   4834\u001b[0m \u001b[38;5;28;01melse\u001b[39;00m:\n",
      "File \u001b[0;32m~/myenv/lib/python3.11/site-packages/pandas/core/indexes/base.py:7070\u001b[0m, in \u001b[0;36mIndex.drop\u001b[0;34m(self, labels, errors)\u001b[0m\n\u001b[1;32m   7068\u001b[0m \u001b[38;5;28;01mif\u001b[39;00m mask\u001b[38;5;241m.\u001b[39many():\n\u001b[1;32m   7069\u001b[0m     \u001b[38;5;28;01mif\u001b[39;00m errors \u001b[38;5;241m!=\u001b[39m \u001b[38;5;124m\"\u001b[39m\u001b[38;5;124mignore\u001b[39m\u001b[38;5;124m\"\u001b[39m:\n\u001b[0;32m-> 7070\u001b[0m         \u001b[38;5;28;01mraise\u001b[39;00m \u001b[38;5;167;01mKeyError\u001b[39;00m(\u001b[38;5;124mf\u001b[39m\u001b[38;5;124m\"\u001b[39m\u001b[38;5;132;01m{\u001b[39;00mlabels[mask]\u001b[38;5;241m.\u001b[39mtolist()\u001b[38;5;132;01m}\u001b[39;00m\u001b[38;5;124m not found in axis\u001b[39m\u001b[38;5;124m\"\u001b[39m)\n\u001b[1;32m   7071\u001b[0m     indexer \u001b[38;5;241m=\u001b[39m indexer[\u001b[38;5;241m~\u001b[39mmask]\n\u001b[1;32m   7072\u001b[0m \u001b[38;5;28;01mreturn\u001b[39;00m \u001b[38;5;28mself\u001b[39m\u001b[38;5;241m.\u001b[39mdelete(indexer)\n",
      "\u001b[0;31mKeyError\u001b[0m: \"['URL', 'Name', 'Description'] not found in axis\""
     ]
    }
   ],
   "source": [
    "current_rental_df.drop(columns=['URL', 'Name', 'Description'], inplace=True)"
   ]
  },
  {
   "cell_type": "code",
   "execution_count": 151,
   "metadata": {},
   "outputs": [
    {
     "data": {
      "text/html": [
       "<div>\n",
       "<style scoped>\n",
       "    .dataframe tbody tr th:only-of-type {\n",
       "        vertical-align: middle;\n",
       "    }\n",
       "\n",
       "    .dataframe tbody tr th {\n",
       "        vertical-align: top;\n",
       "    }\n",
       "\n",
       "    .dataframe thead th {\n",
       "        text-align: right;\n",
       "    }\n",
       "</style>\n",
       "<table border=\"1\" class=\"dataframe\">\n",
       "  <thead>\n",
       "    <tr style=\"text-align: right;\">\n",
       "      <th></th>\n",
       "      <th>Cost</th>\n",
       "      <th>Beds</th>\n",
       "      <th>Baths</th>\n",
       "      <th>Cars</th>\n",
       "      <th>Address</th>\n",
       "      <th>Property Type</th>\n",
       "      <th>Suburb</th>\n",
       "      <th>Postcode</th>\n",
       "    </tr>\n",
       "  </thead>\n",
       "  <tbody>\n",
       "    <tr>\n",
       "      <th>1</th>\n",
       "      <td>650.0</td>\n",
       "      <td>3</td>\n",
       "      <td>1</td>\n",
       "      <td>1.0</td>\n",
       "      <td>43 Highview Drive, Doncaster VIC 3108</td>\n",
       "      <td>House</td>\n",
       "      <td>Doncaster</td>\n",
       "      <td>3108</td>\n",
       "    </tr>\n",
       "    <tr>\n",
       "      <th>3</th>\n",
       "      <td>770.0</td>\n",
       "      <td>3</td>\n",
       "      <td>2</td>\n",
       "      <td>2.0</td>\n",
       "      <td>2 Tidcombe Cres, Doncaster East VIC 3109</td>\n",
       "      <td>House</td>\n",
       "      <td>Doncaster</td>\n",
       "      <td>3108</td>\n",
       "    </tr>\n",
       "    <tr>\n",
       "      <th>4</th>\n",
       "      <td>470.0</td>\n",
       "      <td>1</td>\n",
       "      <td>1</td>\n",
       "      <td>1.0</td>\n",
       "      <td>706/632-640 Doncaster Road, Doncaster VIC 3108</td>\n",
       "      <td>Apartment / Unit / Flat</td>\n",
       "      <td>Doncaster</td>\n",
       "      <td>3108</td>\n",
       "    </tr>\n",
       "    <tr>\n",
       "      <th>5</th>\n",
       "      <td>995.0</td>\n",
       "      <td>3</td>\n",
       "      <td>2</td>\n",
       "      <td>2.0</td>\n",
       "      <td>101/1571 Malvern Road, Glen Iris VIC 3146</td>\n",
       "      <td>Apartment / Unit / Flat</td>\n",
       "      <td>Glen Iris</td>\n",
       "      <td>3146</td>\n",
       "    </tr>\n",
       "    <tr>\n",
       "      <th>9</th>\n",
       "      <td>775.0</td>\n",
       "      <td>3</td>\n",
       "      <td>2</td>\n",
       "      <td>3.0</td>\n",
       "      <td>165 Wiltshire Drive, Kew VIC 3101</td>\n",
       "      <td>Townhouse</td>\n",
       "      <td>Kew</td>\n",
       "      <td>3101</td>\n",
       "    </tr>\n",
       "    <tr>\n",
       "      <th>...</th>\n",
       "      <td>...</td>\n",
       "      <td>...</td>\n",
       "      <td>...</td>\n",
       "      <td>...</td>\n",
       "      <td>...</td>\n",
       "      <td>...</td>\n",
       "      <td>...</td>\n",
       "      <td>...</td>\n",
       "    </tr>\n",
       "    <tr>\n",
       "      <th>1653</th>\n",
       "      <td>590.0</td>\n",
       "      <td>2</td>\n",
       "      <td>1</td>\n",
       "      <td>1.0</td>\n",
       "      <td>309D/15 Foundation Boulevard, Burwood East VIC...</td>\n",
       "      <td>Apartment / Unit / Flat</td>\n",
       "      <td>Burwood</td>\n",
       "      <td>3125</td>\n",
       "    </tr>\n",
       "    <tr>\n",
       "      <th>1656</th>\n",
       "      <td>680.0</td>\n",
       "      <td>3</td>\n",
       "      <td>2</td>\n",
       "      <td>1.0</td>\n",
       "      <td>2/111 Balwyn Road, Balwyn VIC 3103</td>\n",
       "      <td>Apartment / Unit / Flat</td>\n",
       "      <td>Balwyn</td>\n",
       "      <td>3103</td>\n",
       "    </tr>\n",
       "    <tr>\n",
       "      <th>1657</th>\n",
       "      <td>850.0</td>\n",
       "      <td>3</td>\n",
       "      <td>2</td>\n",
       "      <td>2.0</td>\n",
       "      <td>3/32 Yerrin Street, Balwyn VIC 3103</td>\n",
       "      <td>Townhouse</td>\n",
       "      <td>Balwyn</td>\n",
       "      <td>3103</td>\n",
       "    </tr>\n",
       "    <tr>\n",
       "      <th>1658</th>\n",
       "      <td>550.0</td>\n",
       "      <td>3</td>\n",
       "      <td>1</td>\n",
       "      <td>1.0</td>\n",
       "      <td>289 Blackburn Road, Mount Waverley VIC 3149</td>\n",
       "      <td>House</td>\n",
       "      <td>Blackburn</td>\n",
       "      <td>3130</td>\n",
       "    </tr>\n",
       "    <tr>\n",
       "      <th>1659</th>\n",
       "      <td>335.0</td>\n",
       "      <td>1</td>\n",
       "      <td>1</td>\n",
       "      <td>NaN</td>\n",
       "      <td>386 Burwood Highway, Burwood VIC 3125</td>\n",
       "      <td>Apartment / Unit / Flat</td>\n",
       "      <td>Burwood</td>\n",
       "      <td>3125</td>\n",
       "    </tr>\n",
       "  </tbody>\n",
       "</table>\n",
       "<p>965 rows × 8 columns</p>\n",
       "</div>"
      ],
      "text/plain": [
       "       Cost  Beds  Baths  Cars  \\\n",
       "1     650.0     3      1   1.0   \n",
       "3     770.0     3      2   2.0   \n",
       "4     470.0     1      1   1.0   \n",
       "5     995.0     3      2   2.0   \n",
       "9     775.0     3      2   3.0   \n",
       "...     ...   ...    ...   ...   \n",
       "1653  590.0     2      1   1.0   \n",
       "1656  680.0     3      2   1.0   \n",
       "1657  850.0     3      2   2.0   \n",
       "1658  550.0     3      1   1.0   \n",
       "1659  335.0     1      1   NaN   \n",
       "\n",
       "                                                Address  \\\n",
       "1                 43 Highview Drive, Doncaster VIC 3108   \n",
       "3              2 Tidcombe Cres, Doncaster East VIC 3109   \n",
       "4        706/632-640 Doncaster Road, Doncaster VIC 3108   \n",
       "5             101/1571 Malvern Road, Glen Iris VIC 3146   \n",
       "9                     165 Wiltshire Drive, Kew VIC 3101   \n",
       "...                                                 ...   \n",
       "1653  309D/15 Foundation Boulevard, Burwood East VIC...   \n",
       "1656                 2/111 Balwyn Road, Balwyn VIC 3103   \n",
       "1657                3/32 Yerrin Street, Balwyn VIC 3103   \n",
       "1658        289 Blackburn Road, Mount Waverley VIC 3149   \n",
       "1659              386 Burwood Highway, Burwood VIC 3125   \n",
       "\n",
       "                Property Type     Suburb Postcode  \n",
       "1                       House  Doncaster     3108  \n",
       "3                       House  Doncaster     3108  \n",
       "4     Apartment / Unit / Flat  Doncaster     3108  \n",
       "5     Apartment / Unit / Flat  Glen Iris     3146  \n",
       "9                   Townhouse        Kew     3101  \n",
       "...                       ...        ...      ...  \n",
       "1653  Apartment / Unit / Flat    Burwood     3125  \n",
       "1656  Apartment / Unit / Flat     Balwyn     3103  \n",
       "1657                Townhouse     Balwyn     3103  \n",
       "1658                    House  Blackburn     3130  \n",
       "1659  Apartment / Unit / Flat    Burwood     3125  \n",
       "\n",
       "[965 rows x 8 columns]"
      ]
     },
     "execution_count": 151,
     "metadata": {},
     "output_type": "execute_result"
    }
   ],
   "source": [
    "current_rental_df"
   ]
  },
  {
   "cell_type": "code",
   "execution_count": 152,
   "metadata": {},
   "outputs": [],
   "source": [
    "current_rental_df.to_csv('../data/raw/current_rental_data.csv')"
   ]
  },
  {
   "cell_type": "code",
   "execution_count": null,
   "metadata": {},
   "outputs": [],
   "source": []
  }
 ],
 "metadata": {
  "kernelspec": {
   "display_name": "myenv",
   "language": "python",
   "name": "python3"
  },
  "language_info": {
   "codemirror_mode": {
    "name": "ipython",
    "version": 3
   },
   "file_extension": ".py",
   "mimetype": "text/x-python",
   "name": "python",
   "nbconvert_exporter": "python",
   "pygments_lexer": "ipython3",
   "version": "3.11.5"
  }
 },
 "nbformat": 4,
 "nbformat_minor": 2
}
