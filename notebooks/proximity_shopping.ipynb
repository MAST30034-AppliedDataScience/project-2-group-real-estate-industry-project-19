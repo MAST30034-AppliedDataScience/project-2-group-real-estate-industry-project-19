{
 "cells": [
  {
   "cell_type": "code",
   "execution_count": 1,
   "metadata": {},
   "outputs": [],
   "source": [
    "import pandas as pd\n",
    "import geopandas as gpd\n",
    "import numpy as np\n",
    "from sklearn.metrics.pairwise import haversine_distances\n",
    "\n",
    "\n",
    "# Directories\n",
    "data_dir = '../data/'\n",
    "landing_dir = data_dir + 'landing/'\n",
    "raw_dir = data_dir + 'raw/'\n",
    "curated_dir = data_dir + 'curated/'\n",
    "\n",
    "# Download files\n",
    "foi_sf = gpd.read_file(f\"{landing_dir}FOI/GEOMARK_POLYGON.shp\")\n",
    "rental_df = pd.read_csv(f\"{raw_dir}rental_with_coordinates.csv\")\n"
   ]
  },
  {
   "cell_type": "code",
   "execution_count": 2,
   "metadata": {},
   "outputs": [],
   "source": [
    "# Setting shapefile format\n",
    "foi_sf['geometry'] = foi_sf['geometry'].to_crs(\"+proj=longlat +ellps=WGS84 +datum=WGS84 +no_defs\")\n",
    "\n",
    "# List of subfeature types: shopping precincts and shopping centres only\n",
    "shopping_labels = [\"shopping precinct\", \"shopping centre\"]\n",
    "\n",
    "# Removing irrelevant features, as we only want shopping centers in VIC\n",
    "shopping_sf = foi_sf[foi_sf['STATE'] == \"VIC\"]\n",
    "shopping_sf = shopping_sf[shopping_sf['FTYPE'] == \"commercial facility\"]\n",
    "shopping_sf = shopping_sf[shopping_sf['FEATSUBTYP'].isin(shopping_labels)]\n",
    "shopping_sf = shopping_sf.reset_index(drop=True)\n",
    "\n",
    "# Cleaning the rental dataframe to remove null entries for coordinates\n",
    "rental_df = rental_df.dropna(subset=['latitude', 'longitude'])\n",
    "rental_df = rental_df.reset_index(drop=True)"
   ]
  },
  {
   "cell_type": "code",
   "execution_count": 3,
   "metadata": {},
   "outputs": [
    {
     "name": "stderr",
     "output_type": "stream",
     "text": [
      "/var/folders/gd/m0kqkz893_x6z1pmcms3kw_r0000gn/T/ipykernel_6134/750693827.py:2: UserWarning: Geometry is in a geographic CRS. Results from 'centroid' are likely incorrect. Use 'GeoSeries.to_crs()' to re-project geometries to a projected CRS before this operation.\n",
      "\n",
      "  shopping_sf['centroid'] = shopping_sf.centroid\n"
     ]
    },
    {
     "data": {
      "text/plain": [
       "array([[-38.0045428, 145.0884301],\n",
       "       [-37.7863384, 145.1237982],\n",
       "       [-37.9523213, 145.1736   ],\n",
       "       ...,\n",
       "       [-37.8091737, 145.0833678],\n",
       "       [-37.7930145, 145.1318194],\n",
       "       [-37.4304853, 143.8912389]])"
      ]
     },
     "execution_count": 3,
     "metadata": {},
     "output_type": "execute_result"
    }
   ],
   "source": [
    "\n",
    "# Creating an array of centroids of polygons in the shopping feature shapefiles\n",
    "shopping_sf['centroid'] = shopping_sf.centroid\n",
    "shopping_centroid_list = shopping_sf['centroid'].apply(lambda geom: (geom.y, geom.x))\n",
    "shopping_centroid_list = list(shopping_centroid_list)\n",
    "shopping_centroid_array = np.array(shopping_centroid_list)\n",
    "\n",
    "# Turn rental coordinates into a numpy array\n",
    "rental_centroid_array = rental_df[['latitude', 'longitude']].to_numpy()\n",
    "\n",
    "# Turn the arrays into radians for distance calculation\n",
    "shopping_centroid_radians = np.radians(shopping_centroid_array)\n",
    "rental_centroid_radians = np.radians(rental_centroid_array)\n",
    "\n",
    "# Used Haversine distance as the earth's curve may affect distance \n",
    "distances_radians = haversine_distances(shopping_centroid_radians, rental_centroid_radians)\n",
    "distances_km = distances_radians * 6371\n",
    "\n",
    "# Grabbing the id of the nearest shopping feature\n",
    "nearest_point_id = np.argmin(distances_km, axis=0)\n",
    "# Grabbing distance between the rental and the nearest shopping feature\n",
    "nearest_distance = np.min(distances_km, axis=0)\n",
    "\n",
    "# Add to dataframe\n",
    "rental_df['nearest_shopping_id'] = shopping_sf.index[nearest_point_id]\n",
    "rental_df['distance_to_nearest_shopping'] = nearest_distance\n"
   ]
  },
  {
   "cell_type": "code",
   "execution_count": 5,
   "metadata": {},
   "outputs": [],
   "source": [
    "# Save dataframe to csv\n",
    "rental_df.to_csv(f\"{curated_dir}rental_with_shopping_features.csv\")"
   ]
  },
  {
   "cell_type": "code",
   "execution_count": null,
   "metadata": {},
   "outputs": [],
   "source": []
  }
 ],
 "metadata": {
  "kernelspec": {
   "display_name": "Python 3",
   "language": "python",
   "name": "python3"
  },
  "language_info": {
   "codemirror_mode": {
    "name": "ipython",
    "version": 3
   },
   "file_extension": ".py",
   "mimetype": "text/x-python",
   "name": "python",
   "nbconvert_exporter": "python",
   "pygments_lexer": "ipython3",
   "version": "3.9.6"
  }
 },
 "nbformat": 4,
 "nbformat_minor": 2
}
