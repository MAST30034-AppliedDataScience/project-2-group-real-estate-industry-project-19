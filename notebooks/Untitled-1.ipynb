{
 "cells": [
  {
   "cell_type": "code",
   "execution_count": null,
   "metadata": {},
   "outputs": [],
   "source": [
    "# Directories\n",
    "data_dir = '../data/'\n",
    "landing_dir = data_dir + 'landing/'\n",
    "\n",
    "#can download through download\n",
    "shopping_parks_sf = gpd.read_file(f\"{landing_dir}FOI/GEOMARK_POLYGON.shp\")\n",
    "\n",
    "shopping_type = \"commercial facility\"\n",
    "shopping_labels = [\"shopping precinct\", \"shopping centre\"]\n",
    "shopping_sf = shopping_parks_sf[shopping_parks_sf['STATE'] == \"VIC\"]\n",
    "shopping_sf = shopping_sf[shopping_sf['FTYPE'] == shopping_type]\n",
    "shopping_sf = shopping_sf[shopping_sf['FEATSUBTYP'].isin(shopping_labels)]\n",
    "shopping_sf = shopping_sf.reset_index(drop=True)\n",
    "shopping_sf = shopping_sf.to_crs(epsg=4326)\n",
    "\n",
    "parks_type = \"reserve\"\n",
    "parks_labels = [\"park\", \"conservation park\", \"gardens\", \"national park\", \"city square\"]\n",
    "parks_sf = shopping_parks_sf[shopping_parks_sf['STATE'] == \"VIC\"]\n",
    "parks_sf = parks_sf[parks_sf['FTYPE'] == parks_type]\n",
    "parks_sf = parks_sf[parks_sf['FEATSUBTYP'].isin(parks_labels)]\n",
    "parks_sf = parks_sf.reset_index(drop=True)\n",
    "parks_sf = parks_sf.to_crs(epsg=4326)"
   ]
  }
 ],
 "metadata": {
  "kernelspec": {
   "display_name": "Python 3",
   "language": "python",
   "name": "python3"
  },
  "language_info": {
   "name": "python",
   "version": "3.9.6"
  }
 },
 "nbformat": 4,
 "nbformat_minor": 2
}
