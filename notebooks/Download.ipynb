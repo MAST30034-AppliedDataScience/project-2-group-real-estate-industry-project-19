{
 "cells": [
  {
   "cell_type": "code",
   "execution_count": 2,
   "metadata": {},
   "outputs": [
    {
     "name": "stderr",
     "output_type": "stream",
     "text": [
      "/Users/teliatung/Library/Python/3.9/lib/python/site-packages/urllib3/__init__.py:35: NotOpenSSLWarning: urllib3 v2 only supports OpenSSL 1.1.1+, currently the 'ssl' module is compiled with 'LibreSSL 2.8.3'. See: https://github.com/urllib3/urllib3/issues/3020\n",
      "  warnings.warn(\n"
     ]
    }
   ],
   "source": [
    "import os\n",
    "import requests\n",
    "import json\n",
    "from urllib.parse import urlencode\n",
    "import zipfile\n",
    "from urllib.request import urlretrieve\n",
    "import io\n",
    "import shutil\n",
    "\n",
    "def fetch_data_from_api(ids, start_period, dimension_at_observation, output_file):\n",
    "    base_url = \"https://api.data.abs.gov.au/data/ABS,ABS_REGIONAL_ASGS2021,/..\"\n",
    "    params = {\n",
    "        'startPeriod': start_period,\n",
    "        'dimensionAtObservation': dimension_at_observation,\n",
    "    }\n",
    "    \n",
    "    # Ensure the directory exists\n",
    "    os.makedirs(os.path.dirname(output_file), exist_ok=True)\n",
    "\n",
    "    for i in range(0, len(ids), 50):  # Split IDs into batches of 50\n",
    "        batch_ids = ids[i:i + 50]\n",
    "        url = base_url + '+'.join(map(str, batch_ids)) + '.A?' + urlencode(params)\n",
    "\n",
    "        try:\n",
    "            print(f\"Fetching data from the API with batch: {batch_ids}...\")\n",
    "            response = requests.get(url, timeout=60)  # Set a longer timeout if necessary\n",
    "            response.raise_for_status()  # Raise an error for bad responses\n",
    "\n",
    "            # Parsing the response\n",
    "            data = response.json()\n",
    "            print(\"Data fetched successfully.\")\n",
    "\n",
    "            # Append or save the data (in this example, it appends to a file)\n",
    "            with open(output_file, 'a') as file:\n",
    "                json.dump(data, file, indent=4)  # indent=4 for pretty printing\n",
    "            print(f\"Data saved successfully to {output_file}.\")\n",
    "\n",
    "        except requests.exceptions.HTTPError as http_err:\n",
    "            print(f\"HTTP error occurred: {http_err}\")\n",
    "        except requests.exceptions.RequestException as req_err:\n",
    "            print(f\"Request error occurred: {req_err}\")\n",
    "        except Exception as err:\n",
    "            print(f\"Other error occurred: {err}\")\n",
    "            \n",
    "data_dir = '../data/'\n",
    "landing_dir = data_dir + 'landing/'\n",
    "raw_dir = data_dir + 'raw/'\n"
   ]
  },
  {
   "cell_type": "code",
   "execution_count": 3,
   "metadata": {},
   "outputs": [
    {
     "name": "stdout",
     "output_type": "stream",
     "text": [
      "Fetching data from the API with batch: ['206041124']...\n",
      "Request error occurred: Expecting value: line 1 column 1 (char 0)\n"
     ]
    }
   ],
   "source": [
    "ids=[\"206041124\"]\n",
    "\n",
    "fetch_data_from_api(ids, '2020', 'AllDimensions', f'{raw_dir}raw_abs.json')"
   ]
  },
  {
   "cell_type": "code",
   "execution_count": 17,
   "metadata": {},
   "outputs": [
    {
     "data": {
      "text/plain": [
       "('../data/landing/raw_abs.csv', <http.client.HTTPMessage at 0x1083cb970>)"
      ]
     },
     "execution_count": 17,
     "metadata": {},
     "output_type": "execute_result"
    }
   ],
   "source": [
    "# Define the API URL from the \"Data query\"\n",
    "url = \"https://api.data.abs.gov.au/data/ABS,ABS_REGIONAL_ASGS2021,/..206041124.A?startPeriod=2020&dimensionAtObservation=AllDimensions&format=csv\"\n",
    "# Define the output file path\n",
    "output_file = f'{landing_dir}raw_abs.csv'\n",
    "\n",
    "urlretrieve(url, output_file)"
   ]
  },
  {
   "cell_type": "code",
   "execution_count": 18,
   "metadata": {},
   "outputs": [
    {
     "data": {
      "text/plain": [
       "('../data/landing/school_locations.csv',\n",
       " <http.client.HTTPMessage at 0x108453460>)"
      ]
     },
     "execution_count": 18,
     "metadata": {},
     "output_type": "execute_result"
    }
   ],
   "source": [
    "# Define the API URL from the \"Data query\"\n",
    "url = \"https://www.education.vic.gov.au/Documents/about/research/datavic/dv346-schoollocations2023.csv\"\n",
    "# Define the output file path\n",
    "output_file = f'{landing_dir}school_locations.csv'\n",
    "\n",
    "urlretrieve(url, output_file)"
   ]
  },
  {
   "cell_type": "code",
   "execution_count": 11,
   "metadata": {},
   "outputs": [],
   "source": [
    "def download_from_vic_datashare(url, output_dir, dataset_name):\n",
    "    zip_dir = f\"{output_dir}.zip\"\n",
    "    \n",
    "    # Retrieve file from url\n",
    "    urlretrieve(url, zip_dir) \n",
    "\n",
    "    # Check if the path exists\n",
    "    if os.path.exists(output_dir):\n",
    "        shutil.rmtree(output_dir)\n",
    "    \n",
    "    # Opens zip file\n",
    "    with zipfile.ZipFile(zip_dir, 'r') as zip_ref:\n",
    "        zip_ref.extractall(output_dir)\n",
    "\n",
    "    # Deletes the zip file as the unzipped file has its own folder now\n",
    "    os.remove(zip_dir)\n",
    "\n",
    "    # Data is hidden in folders \n",
    "    shapefile_dir = output_dir + f'/ll_gda94/esrishape/whole_of_dataset/victoria/{dataset_name}/'\n",
    "    \n",
    "    # Move all files into the topmost folder for ease of coding\n",
    "    file_names = os.listdir(shapefile_dir)\n",
    "    for file_name in file_names:\n",
    "        path = os.path.join(shapefile_dir, file_name)\n",
    "        # Force move even if file exists\n",
    "        shutil.move(path, f\"{output_dir}/\")\n",
    "\n",
    "    # Remove the empty folder within the folder within the folder etc\n",
    "    shutil.rmtree(f\"{output_dir}/ll_gda94\")\n",
    "    \n",
    "    return\n",
    "\n",
    "\n",
    "# Get features of interest shapefile\n",
    "foi_url = \"https://s3.ap-southeast-2.amazonaws.com/cl-isd-prd-datashare-s3-delivery/Order_MYWBSS.zip\"\n",
    "foi_output_dir = f'{landing_dir}FOI'\n",
    "\n",
    "download_from_vic_datashare(foi_url, foi_output_dir,\"VMFEAT\")\n",
    "\n",
    "# Get train station shapefile\n",
    "ptv_url = \"https://s3.ap-southeast-2.amazonaws.com/cl-isd-prd-datashare-s3-delivery/Order_07LW04.zip\"\n",
    "ptv_output_dir = f'{landing_dir}PTV'\n",
    "\n",
    "download_from_vic_datashare(ptv_url, ptv_output_dir,\"TRANSPORT\")\n",
    "\n"
   ]
  },
  {
   "cell_type": "code",
   "execution_count": null,
   "metadata": {},
   "outputs": [],
   "source": []
  }
 ],
 "metadata": {
  "kernelspec": {
   "display_name": "Python 3",
   "language": "python",
   "name": "python3"
  },
  "language_info": {
   "codemirror_mode": {
    "name": "ipython",
    "version": 3
   },
   "file_extension": ".py",
   "mimetype": "text/x-python",
   "name": "python",
   "nbconvert_exporter": "python",
   "pygments_lexer": "ipython3",
   "version": "3.9.6"
  }
 },
 "nbformat": 4,
 "nbformat_minor": 2
}
