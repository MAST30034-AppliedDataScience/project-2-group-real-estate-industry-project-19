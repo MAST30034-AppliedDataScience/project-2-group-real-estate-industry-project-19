{
 "cells": [
  {
   "cell_type": "code",
   "execution_count": 1,
   "metadata": {},
   "outputs": [],
   "source": [
    "from urllib.request import urlretrieve\n",
    "\n",
    "Area_names=[\"Boroondara\", \"Manningham_West\", \"Whitehorse_West\"]\n",
    "\n",
    "columns_wanted=\"ERP_P_38+ERP_P_37+ERP_P_36+ERP_P_35+ERP_P_34+ERP_P_33+ERP_P_32+ERP_P_31+ERP_P_30+ERP_P_29+ERP_P_28+ERP_P_27+ERP_P_26+ERP_P_25+ERP_P_24+ERP_P_23+ERP_P_22+ERP_P_21+ERP_P_19+ERP_P_18+ERP_P_17+ERP_P_16+ERP_P_15+ERP_P_14+ERP_P_13+ERP_P_12+ERP_P_11+ERP_P_10+ERP_P_8+ERP_P_9+ERP_P_7+ERP_P_6+ERP_P_5+ERP_P_4+ERP_P_3+ERP_P_2+EQUIV_2+EQUIV_10+EQUIV_9+EQUIV_8+EQUIV_7+EQUIV_6+EQUIV_5+EQUIV_4+EQUIV_3\"\n",
    "\n",
    "Boroondara_ids=[\"207011146\", \"207011147\", \"207011148\", \"207011149\", \"207011150\", \"207011152\", \"207011154\", \"207011155\"]\n",
    "Boroondara_names=[\"ashburton(Vic.)\", \"Balwyn\", \"Balwyn_North\", \"Camberwell\", \"Glen_Iris_E\", \"Hawthorn_E\", \"Kew_East\", \"Surrey_Hills(W)\"]\n",
    "\n",
    "Manningham_West_ids=[\"207021156\", \"207021157\", \"207021159\", \"207021160\", \"207021424\", \"207021425\"]\n",
    "Manningham_West_names=[\"Bulleen\", \"Doncaster\", \"Templestowe\", \"Templestowe_Lower\", \"Doncaster_EN\", \"Doncaster_ES\"]\n",
    "\n",
    "Whitehorse_West_ids=[\"207031161\", \"207031162\", \"207031163\", \"207031164\", \"207031165\", \"207031166\", \"207031167\"]\n",
    "Whitehorse_West_names=[\"Blackburn\", \"Blackburn_S\", \"Box_Hill\", \"Box_Hill_N\", \"Burwood(Vic)\", \"Burwood_E\", \"Surrey_Hills(E)\"]\n",
    "\n",
    "\n",
    "def download_Boroondara():\n",
    "    i=0\n",
    "    for id in Boroondara_ids:\n",
    "        url=f\"https://api.data.abs.gov.au/data/ABS,ABS_REGIONAL_ASGS2021,/{columns_wanted}..{id}.A?startPeriod=2020&dimensionAtObservation=AllDimensions&format=csv\"\n",
    "        output_file = f\"../data/landing/Boroondara_{Boroondara_names[i]}.csv\"\n",
    "        urlretrieve(url, output_file)\n",
    "        i+=1\n",
    "\n",
    "def download_Manningham_West():\n",
    "    i=0\n",
    "    for id in Manningham_West_ids:\n",
    "        url=f\"https://api.data.abs.gov.au/data/ABS,ABS_REGIONAL_ASGS2021,/{columns_wanted}..{id}.A?startPeriod=2020&dimensionAtObservation=AllDimensions&format=csv\"\n",
    "        output_file = f\"../data/landing/Manningham_West_{Manningham_West_names[i]}.csv\"\n",
    "        urlretrieve(url, output_file)\n",
    "        i+=1\n",
    "\n",
    "def download_Whitehorse_West():\n",
    "    i=0\n",
    "    for id in Whitehorse_West_ids:\n",
    "        url=f\"https://api.data.abs.gov.au/data/ABS,ABS_REGIONAL_ASGS2021,/{columns_wanted}..{id}.A?startPeriod=2020&dimensionAtObservation=AllDimensions&format=csv\"\n",
    "        output_file = f\"../data/landing/Whitehorse_West_{Whitehorse_West_names[i]}.csv\"\n",
    "        urlretrieve(url, output_file)\n",
    "        i+=1\n"
   ]
  },
  {
   "cell_type": "code",
   "execution_count": 2,
   "metadata": {},
   "outputs": [],
   "source": [
    "download_Boroondara()\n",
    "download_Manningham_West()\n",
    "download_Whitehorse_West()"
   ]
  },
  {
   "cell_type": "code",
   "execution_count": 3,
   "metadata": {},
   "outputs": [
    {
     "data": {
      "text/plain": [
       "('../data/landing/school_locations.csv',\n",
       " <http.client.HTTPMessage at 0x7f3fa9e134d0>)"
      ]
     },
     "execution_count": 3,
     "metadata": {},
     "output_type": "execute_result"
    }
   ],
   "source": [
    "# Define the API URL from the \"Data query\"\n",
    "url = \"https://www.education.vic.gov.au/Documents/about/research/datavic/dv346-schoollocations2023.csv\"\n",
    "# Define the output file path\n",
    "output_file = '../data/landing/school_locations.csv'\n",
    "\n",
    "urlretrieve(url, output_file)"
   ]
  }
 ],
 "metadata": {
  "kernelspec": {
   "display_name": ".venv",
   "language": "python",
   "name": "python3"
  },
  "language_info": {
   "codemirror_mode": {
    "name": "ipython",
    "version": 3
   },
   "file_extension": ".py",
   "mimetype": "text/x-python",
   "name": "python",
   "nbconvert_exporter": "python",
   "pygments_lexer": "ipython3",
   "version": "3.11.0"
  }
 },
 "nbformat": 4,
 "nbformat_minor": 2
}
