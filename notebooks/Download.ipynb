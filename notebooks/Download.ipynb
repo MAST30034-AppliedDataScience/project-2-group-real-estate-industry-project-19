{
 "cells": [
  {
   "cell_type": "code",
   "execution_count": 1,
   "metadata": {},
   "outputs": [
    {
     "name": "stderr",
     "output_type": "stream",
     "text": [
      "/Users/teliatung/Library/Python/3.9/lib/python/site-packages/urllib3/__init__.py:35: NotOpenSSLWarning: urllib3 v2 only supports OpenSSL 1.1.1+, currently the 'ssl' module is compiled with 'LibreSSL 2.8.3'. See: https://github.com/urllib3/urllib3/issues/3020\n",
      "  warnings.warn(\n"
     ]
    }
   ],
   "source": [
    "import os\n",
    "import requests\n",
    "import json\n",
    "from urllib.parse import urlencode\n",
    "import zipfile\n",
    "from urllib.request import urlretrieve\n",
    "import io\n",
    "import shutil\n",
    "\n",
    "def fetch_data_from_api(ids, start_period, dimension_at_observation, output_file):\n",
    "    base_url = \"https://api.data.abs.gov.au/data/ABS,ABS_REGIONAL_ASGS2021,/..\"\n",
    "    params = {\n",
    "        'startPeriod': start_period,\n",
    "        'dimensionAtObservation': dimension_at_observation,\n",
    "    }\n",
    "    \n",
    "    # Ensure the directory exists\n",
    "    os.makedirs(os.path.dirname(output_file), exist_ok=True)\n",
    "\n",
    "    for i in range(0, len(ids), 50):  # Split IDs into batches of 50\n",
    "        batch_ids = ids[i:i + 50]\n",
    "        url = base_url + '+'.join(map(str, batch_ids)) + '.A?' + urlencode(params)\n",
    "\n",
    "        try:\n",
    "            print(f\"Fetching data from the API with batch: {batch_ids}...\")\n",
    "            response = requests.get(url, timeout=60)  # Set a longer timeout if necessary\n",
    "            response.raise_for_status()  # Raise an error for bad responses\n",
    "\n",
    "            # Parsing the response\n",
    "            data = response.json()\n",
    "            print(\"Data fetched successfully.\")\n",
    "\n",
    "            # Append or save the data (in this example, it appends to a file)\n",
    "            with open(output_file, 'a') as file:\n",
    "                json.dump(data, file, indent=4)  # indent=4 for pretty printing\n",
    "            print(f\"Data saved successfully to {output_file}.\")\n",
    "\n",
    "        except requests.exceptions.HTTPError as http_err:\n",
    "            print(f\"HTTP error occurred: {http_err}\")\n",
    "        except requests.exceptions.RequestException as req_err:\n",
    "            print(f\"Request error occurred: {req_err}\")\n",
    "        except Exception as err:\n",
    "            print(f\"Other error occurred: {err}\")\n",
    "            \n",
    "data_dir = '../data/'\n",
    "landing_dir = data_dir + 'landing/'\n",
    "raw_dir = data_dir + 'raw/'\n"
   ]
  },
  {
   "cell_type": "code",
   "execution_count": 16,
   "metadata": {},
   "outputs": [
    {
     "name": "stdout",
     "output_type": "stream",
     "text": [
      "Fetching data from the API with batch: ['206041124']...\n",
      "Request error occurred: Expecting value: line 1 column 1 (char 0)\n"
     ]
    }
   ],
   "source": [
    "ids=[\"206041124\"]\n",
    "\n",
    "fetch_data_from_api(ids, '2020', 'AllDimensions', f'{raw_dir}raw_abs.json')"
   ]
  },
  {
   "cell_type": "code",
   "execution_count": 17,
   "metadata": {},
   "outputs": [
    {
     "data": {
      "text/plain": [
       "('../data/landing/raw_abs.csv', <http.client.HTTPMessage at 0x1083cb970>)"
      ]
     },
     "execution_count": 17,
     "metadata": {},
     "output_type": "execute_result"
    }
   ],
   "source": [
    "# Define the API URL from the \"Data query\"\n",
    "url = \"https://api.data.abs.gov.au/data/ABS,ABS_REGIONAL_ASGS2021,/..206041124.A?startPeriod=2020&dimensionAtObservation=AllDimensions&format=csv\"\n",
    "# Define the output file path\n",
    "output_file = f'{landing_dir}raw_abs.csv'\n",
    "\n",
    "urlretrieve(url, output_file)"
   ]
  },
  {
   "cell_type": "code",
   "execution_count": 18,
   "metadata": {},
   "outputs": [
    {
     "data": {
      "text/plain": [
       "('../data/landing/school_locations.csv',\n",
       " <http.client.HTTPMessage at 0x108453460>)"
      ]
     },
     "execution_count": 18,
     "metadata": {},
     "output_type": "execute_result"
    }
   ],
   "source": [
    "# Define the API URL from the \"Data query\"\n",
    "url = \"https://www.education.vic.gov.au/Documents/about/research/datavic/dv346-schoollocations2023.csv\"\n",
    "# Define the output file path\n",
    "output_file = f'{landing_dir}school_locations.csv'\n",
    "\n",
    "urlretrieve(url, output_file)"
   ]
  },
  {
   "cell_type": "code",
   "execution_count": 4,
   "metadata": {},
   "outputs": [
    {
     "name": "stdout",
     "output_type": "stream",
     "text": [
      "../data/landing/FOI/ll_gda94/esrishape/whole_of_dataset/victoria/VMFEAT/GEOMARK_POLYGON.prj\n"
     ]
    },
    {
     "ename": "Error",
     "evalue": "Destination path '../data/landing/FOI/GEOMARK_POLYGON.prj' already exists",
     "output_type": "error",
     "traceback": [
      "\u001b[0;31m---------------------------------------------------------------------------\u001b[0m",
      "\u001b[0;31mError\u001b[0m                                     Traceback (most recent call last)",
      "Cell \u001b[0;32mIn[4], line 24\u001b[0m\n\u001b[1;32m     22\u001b[0m     \u001b[38;5;28mprint\u001b[39m(path)\n\u001b[1;32m     23\u001b[0m     \u001b[38;5;66;03m# Force move even if file exists\u001b[39;00m\n\u001b[0;32m---> 24\u001b[0m     \u001b[43mshutil\u001b[49m\u001b[38;5;241;43m.\u001b[39;49m\u001b[43mmove\u001b[49m\u001b[43m(\u001b[49m\u001b[43mpath\u001b[49m\u001b[43m,\u001b[49m\u001b[43m \u001b[49m\u001b[38;5;124;43mf\u001b[39;49m\u001b[38;5;124;43m\"\u001b[39;49m\u001b[38;5;132;43;01m{\u001b[39;49;00m\u001b[43moutput_dir\u001b[49m\u001b[38;5;132;43;01m}\u001b[39;49;00m\u001b[38;5;124;43m/\u001b[39;49m\u001b[38;5;124;43m\"\u001b[39;49m\u001b[43m)\u001b[49m\n\u001b[1;32m     26\u001b[0m \u001b[38;5;66;03m# Remove the empty folder within the folder within the folder etc\u001b[39;00m\n\u001b[1;32m     27\u001b[0m shutil\u001b[38;5;241m.\u001b[39mrmtree(\u001b[38;5;124mf\u001b[39m\u001b[38;5;124m\"\u001b[39m\u001b[38;5;132;01m{\u001b[39;00moutput_dir\u001b[38;5;132;01m}\u001b[39;00m\u001b[38;5;124m/ll_gda94\u001b[39m\u001b[38;5;124m\"\u001b[39m)\n",
      "File \u001b[0;32m/Library/Developer/CommandLineTools/Library/Frameworks/Python3.framework/Versions/3.9/lib/python3.9/shutil.py:804\u001b[0m, in \u001b[0;36mmove\u001b[0;34m(src, dst, copy_function)\u001b[0m\n\u001b[1;32m    801\u001b[0m     real_dst \u001b[38;5;241m=\u001b[39m os\u001b[38;5;241m.\u001b[39mpath\u001b[38;5;241m.\u001b[39mjoin(dst, _basename(src))\n\u001b[1;32m    803\u001b[0m     \u001b[38;5;28;01mif\u001b[39;00m os\u001b[38;5;241m.\u001b[39mpath\u001b[38;5;241m.\u001b[39mexists(real_dst):\n\u001b[0;32m--> 804\u001b[0m         \u001b[38;5;28;01mraise\u001b[39;00m Error(\u001b[38;5;124m\"\u001b[39m\u001b[38;5;124mDestination path \u001b[39m\u001b[38;5;124m'\u001b[39m\u001b[38;5;132;01m%s\u001b[39;00m\u001b[38;5;124m'\u001b[39m\u001b[38;5;124m already exists\u001b[39m\u001b[38;5;124m\"\u001b[39m \u001b[38;5;241m%\u001b[39m real_dst)\n\u001b[1;32m    805\u001b[0m \u001b[38;5;28;01mtry\u001b[39;00m:\n\u001b[1;32m    806\u001b[0m     os\u001b[38;5;241m.\u001b[39mrename(src, real_dst)\n",
      "\u001b[0;31mError\u001b[0m: Destination path '../data/landing/FOI/GEOMARK_POLYGON.prj' already exists"
     ]
    }
   ],
   "source": [
    "# Get points of interest shapefile\n",
    "foi_url = \"https://s3.ap-southeast-2.amazonaws.com/cl-isd-prd-datashare-s3-delivery/Order_MYWBSS.zip\"\n",
    "output_dir = f'{landing_dir}FOI'\n",
    "zip_dir = f\"{output_dir}.zip\"\n",
    "\n",
    "urlretrieve(foi_url, zip_dir) \n",
    "\n",
    "# Opens zip file\n",
    "with zipfile.ZipFile(zip_dir, 'r') as zip_ref:\n",
    "    zip_ref.extractall(output_dir)\n",
    "\n",
    "# Deletes the zip file as the unzipped file has its own folder now\n",
    "os.remove(zip_dir)\n",
    "\n",
    "# Data is hidden in folders \n",
    "shapefile_dir = output_dir + '/ll_gda94/esrishape/whole_of_dataset/victoria/VMFEAT/'\n",
    "\n",
    "# Move all files into the topmost folder for ease of coding\n",
    "file_names = os.listdir(shapefile_dir)\n",
    "for file_name in file_names:\n",
    "    path = os.path.join(shapefile_dir, file_name)\n",
    "    # Force move even if file exists\n",
    "    shutil.move(path, f\"{output_dir}/\")\n",
    "\n",
    "# Remove the empty folder within the folder within the folder etc\n",
    "shutil.rmtree(f\"{output_dir}/ll_gda94\")\n"
   ]
  },
  {
   "cell_type": "code",
   "execution_count": 14,
   "metadata": {},
   "outputs": [
    {
     "name": "stdout",
     "output_type": "stream",
     "text": [
      "Download successful, extracting the file...\n",
      "Extracted files: ['parks-and-reserves1.dbf', 'parks-and-reserves1.shx', 'parks-and-reserves1.cpg', 'parks-and-reserves1.shp', 'parks-and-reserves1.prj']\n"
     ]
    }
   ],
   "source": [
    "# Step 1: URL for the Parks and Reserves shapefile\n",
    "url = \"https://data.casey.vic.gov.au/api/v2/catalog/datasets/parks-and-reserves1/exports/shp\"\n",
    "\n",
    "# Step 2: Send a request to download the file\n",
    "response = requests.get(url)\n",
    "\n",
    "# Step 3: Check if the request was successful\n",
    "if response.status_code == 200:\n",
    "    print(\"Download successful, extracting the file...\")\n",
    "    \n",
    "    # Step 4: Open the downloaded zip file in memory and extract its contents\n",
    "    zip_file = zipfile.ZipFile(io.BytesIO(response.content))\n",
    "    extract_path = f\"{landing_dir}parks_and_reserves_shapefile\"\n",
    "    zip_file.extractall(extract_path)\n",
    "    \n",
    "    # Step 5: Verify the extracted files\n",
    "    extracted_files = os.listdir(extract_path)\n",
    "    print(\"Extracted files:\", extracted_files)\n",
    "else:\n",
    "    print(\"Failed to download the shapefile. Status code:\", response.status_code)"
   ]
  },
  {
   "cell_type": "code",
   "execution_count": null,
   "metadata": {},
   "outputs": [],
   "source": []
  }
 ],
 "metadata": {
  "kernelspec": {
   "display_name": ".venv",
   "language": "python",
   "name": "python3"
  },
  "language_info": {
   "codemirror_mode": {
    "name": "ipython",
    "version": 3
   },
   "file_extension": ".py",
   "mimetype": "text/x-python",
   "name": "python",
   "nbconvert_exporter": "python",
   "pygments_lexer": "ipython3",
   "version": "3.9.6"
  }
 },
 "nbformat": 4,
 "nbformat_minor": 2
}
