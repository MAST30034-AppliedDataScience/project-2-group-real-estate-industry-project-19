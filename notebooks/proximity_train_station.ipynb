{
 "cells": [
  {
   "cell_type": "code",
   "execution_count": null,
   "metadata": {},
   "outputs": [],
   "source": [
    "import zipfile\n",
    "import os\n",
    "import geopandas as gpd\n",
    "\n",
    "# File path to the ZIP file containing the train station shapefile\n",
    "zip_file_path = '/home/Daniel Bi/project two/data/landing/PTV.zip'\n",
    "extract_dir = '/home/Daniel Bi/project two/data/landing/PTV_train_station'\n",
    "\n",
    "# Step 1: Extract the ZIP file\n",
    "with zipfile.ZipFile(zip_file_path, 'r') as zip_ref:\n",
    "    zip_ref.extractall(extract_dir)\n",
    "    print(f\"Files extracted to: {extract_dir}\")\n",
    "\n",
    "# Step 2: List the files in the 'PTV' subdirectory to check for the correct shapefile name\n",
    "ptv_subdir = os.path.join(extract_dir, 'PTV')\n",
    "extracted_files = os.listdir(ptv_subdir)\n",
    "print(\"Extracted files in PTV folder:\", extracted_files)\n",
    "\n",
    "# Step 3: Find the shapefile (.shp) in the 'PTV' folder\n",
    "shapefile_name = [file for file in extracted_files if file.endswith('.shp')]\n",
    "if shapefile_name:\n",
    "    shapefile_path = os.path.join(ptv_subdir, shapefile_name[0])\n",
    "    print(f\"Shapefile found: {shapefile_path}\")\n",
    "\n",
    "    # Step 4: Load the train station shapefile\n",
    "    try:\n",
    "        train_station_gdf = gpd.read_file(shapefile_path)\n",
    "        print(\"Train station shapefile loaded successfully.\")\n",
    "        print(train_station_gdf.head())\n",
    "    except Exception as e:\n",
    "        print(f\"Error loading train station shapefile: {e}\")\n",
    "else:\n",
    "    print(\"No shapefile found in the 'PTV' folder.\")"
   ]
  },
  {
   "cell_type": "markdown",
   "metadata": {},
   "source": [
    "Geocode to convert addresses to latitude and longtitude"
   ]
  },
  {
   "cell_type": "code",
   "execution_count": null,
   "metadata": {},
   "outputs": [],
   "source": [
    "from geopy.geocoders import Nominatim\n",
    "import pandas as pd\n",
    "import time\n",
    "import requests\n",
    "from requests.adapters import HTTPAdapter\n",
    "from requests.packages.urllib3.util.retry import Retry\n",
    "\n",
    "# File path for the rental data CSV\n",
    "rental_data_path = '/home/Daniel Bi/project two/data/landing/rental_scrape.csv'\n",
    "\n",
    "# Step 1: Load the rental data CSV\n",
    "rental_df = pd.read_csv(rental_data_path)\n",
    "\n",
    "# Step 2: Initialize Nominatim geocoder with retry logic\n",
    "geolocator = Nominatim(user_agent=\"rental_geocoder\", timeout=10)\n",
    "\n",
    "# Create a session with retry settings to handle temporary errors\n",
    "session = requests.Session()\n",
    "retries = Retry(total=5, backoff_factor=1, status_forcelist=[429, 500, 502, 503, 504])\n",
    "adapter = HTTPAdapter(max_retries=retries)\n",
    "session.mount('http://', adapter)\n",
    "session.mount('https://', adapter)\n",
    "\n",
    "# Step 3: Function to geocode addresses with retries\n",
    "def geocode_address(address):\n",
    "    try:\n",
    "        location = geolocator.geocode(address, timeout=10)\n",
    "        if location:\n",
    "            return (location.latitude, location.longitude)\n",
    "        else:\n",
    "            return (None, None)\n",
    "    except Exception as e:\n",
    "        print(f\"Error geocoding {address}: {e}\")\n",
    "        return (None, None)\n",
    "\n",
    "# Step 4: Apply geocoding function to the 'Address' column with retry logic\n",
    "rental_df['coordinates'] = rental_df['Address'].apply(lambda address: geocode_address(address))\n",
    "\n",
    "# Step 5: Split coordinates into 'latitude' and 'longitude' columns\n",
    "rental_df['latitude'] = rental_df['coordinates'].apply(lambda x: x[0])\n",
    "rental_df['longitude'] = rental_df['coordinates'].apply(lambda x: x[1])\n",
    "\n",
    "# Step 6: Save the DataFrame with geocoded coordinates to a new CSV\n",
    "rental_df.to_csv('/home/Daniel Bi/project two/data/landing/rental_with_coordinates.csv', index=False)\n",
    "\n",
    "# Optional: Display the first few rows to verify\n",
    "print(rental_df[['Address', 'latitude', 'longitude']].head())\n",
    "\n",
    "# Add a small delay between requests to avoid being blocked by Nominatim API\n",
    "time.sleep(1)"
   ]
  },
  {
   "cell_type": "markdown",
   "metadata": {},
   "source": [
    "Calculate distance to cloest train station"
   ]
  },
  {
   "cell_type": "code",
   "execution_count": null,
   "metadata": {},
   "outputs": [],
   "source": []
  }
 ],
 "metadata": {
  "language_info": {
   "name": "python"
  }
 },
 "nbformat": 4,
 "nbformat_minor": 2
}
